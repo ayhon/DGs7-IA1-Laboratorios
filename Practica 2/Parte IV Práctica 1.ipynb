{
 "cells":[
  {
   "cell_type":"code",
   "source":[
    "!export PYTHONPATH=\"$PYTHONPATH:..\/workspace_files\/\"\n",
    "from search import *"
   ],
   "execution_count":4,
   "outputs":[
    
   ],
   "metadata":{
    "datalore":{
     "node_id":"zb2G2CtaNnTSsVJoTShnu5",
     "type":"CODE",
     "hide_input_from_viewers":false,
     "hide_output_from_viewers":false
    }
   }
  },
  {
   "cell_type":"markdown",
   "source":[
    "# A. Representación del problema\n",
    "\n",
    "### Estado del problema\n",
    "Para la representación de estados, usamos una lista de listas de stacks de booleanos (representacion de pila - representacion de lista de pilas) (`List[Stack[bool]]`). La razón es que sólo necesitamos saber el número de pilas del muelle 1, para deducir cuáles son las pilas destino.\n",
    "\n",
    "Un `bool` representa a un contenedor, donde `True` son los contenedores objetivo y `False` el resto de contenedores. Un `Stack[bool]` representa una pila de contenedores, las cuales recogemos en una lista para representar un muelle como `List[Stack[bool]]`. Como tenemos más de un muelle, los guardamos en una lista también, resultando en nuestra definición `Estado`.\n",
    "\n",
    "Como queremos poder guardar nuestros estados en diccionarios y conjuntos, los hacemos hasheables implementando el metamétodo `__hash__` (Nota: esto es para después poder aplicar los métodos del `search.py`, que utilizan `Set`)"
   ],
   "attachments":{
    
   },
   "metadata":{
    "datalore":{
     "node_id":"zjQFgVGMrxShrl3Aa7AYX2",
     "type":"MD",
     "hide_input_from_viewers":false,
     "hide_output_from_viewers":false
    }
   }
  },
  {
   "cell_type":"code",
   "source":[
    "from typing import *\n",
    "\n",
    "Stack = List\n",
    "def hash_list(ls: list):\n",
    "    return hash(tuple(hash_list(x) if type(x) == list else x for x in ls))\n",
    "\n",
    "class Estado(List[Stack[bool]]):\n",
    "    def __hash__(self): \n",
    "        return hash_list(self)\n",
    "# Lista de muelles, cada muelle tiene una lista de stacks, con booleanos que indican si el contenedor es objetivo o no"
   ],
   "execution_count":5,
   "outputs":[
    
   ],
   "metadata":{
    "datalore":{
     "node_id":"t8jMKmFRYK5IkDdlv1scia",
     "type":"CODE",
     "hide_input_from_viewers":false,
     "hide_output_from_viewers":false
    }
   }
  },
  {
   "cell_type":"markdown",
   "source":[
    "### Acciones del problema\n",
    "Las acciones que podemos tomar se basan en reorganizar los contenedores entre pilas. El uso de las cintas solo nos permite intercambiar contenedores entre muelles, que una grúa por si sola no pueda hacerlo.\n",
    "\n",
    "Por lo tanto, nos basta con identificar la pila de la que queremos sacar el contenedor, que llamaremos `origen`, y la pila en la que queremos colocarlo, que llamaremos `destino`. Para identificar una pila, usamos su índice dentro de la lista."
   ],
   "attachments":{
    
   },
   "metadata":{
    "datalore":{
     "node_id":"FAKItajMwpuyBkF7jiOStH",
     "type":"MD",
     "hide_input_from_viewers":false,
     "hide_output_from_viewers":false
    }
   }
  },
  {
   "cell_type":"code",
   "source":[
    "from collections import namedtuple\n",
    "\n",
    "# Tipo                   Nombre        Atributos\n",
    "Movimiento = namedtuple(\"Movimiento\",[\"origen\",\"destino\"])"
   ],
   "execution_count":6,
   "outputs":[
    
   ],
   "metadata":{
    "datalore":{
     "node_id":"d32uu7eWJLDDRGi8O4V85y",
     "type":"CODE",
     "hide_input_from_viewers":false,
     "hide_output_from_viewers":false
    }
   }
  },
  {
   "cell_type":"markdown",
   "source":[
    "### El estado objetivo\n",
    "\n",
    "Nuestro estado objetivo consiste en llevar todos los contenedores objetivo al primer muelle, donde deben estar colocados de tal manera que no tengan por encima ningún contenedor que no sea objetivo.\n",
    "\n",
    "<!--\n",
    "Comentario de representación antigua del problema\n",
    "### Notas de interés\n",
    " - En realidad el único muelle que es necesario distinguir es el primero, pues es el que distingue entre estados objetivos y no objetivo. Si hubieran más de dos muelles, podemos considerar que el resto de muelles que no son el primero son en realidad uno. Sin embargo, el realizar esta simplificación no reduce la información que necesitamos almacenar del problema, por lo que he decidido mantener la representación así para dotarle de mayor estructura. \n",
    "  Esto en un caso real nos daría mayor flexibilidad a la hora de adaptar el problema a condiciones diferentes. ¿Y si no hubiera cintas entre todos los muelles? Entonces tendríamos que definir una lista de cintas en el inicio del problema, y asegurarnos de no mover contenedores entre muelles donde no haya una cinta. Realizar ese cambio sería sencillo con la estructura actual, y no tan sencillo si mezclamos los distintos muelles.-->"
   ],
   "attachments":{
    
   },
   "metadata":{
    "datalore":{
     "node_id":"pM8HajvkXqDzdYXpkssXUL",
     "type":"MD",
     "hide_input_from_viewers":false,
     "hide_output_from_viewers":false
    }
   }
  },
  {
   "cell_type":"code",
   "source":[
    "from copy import deepcopy\n",
    "import math\n",
    "\n",
    "\n",
    "forall = lambda condition, ls: all(map(condition,ls))\n",
    "\n",
    "class ProblemaContenedor(Problem):\n",
    "    def __init__(self, initial: Estado, num_pilas_muelle_1: int, altura_maxima: int = 10):\n",
    "        \"\"\"The constructor specifies the initial state, and possibly a goal\n",
    "        state, if there is a unique goal. Your subclass's constructor can add\n",
    "        other arguments.\"\"\"\n",
    "        super().__init__(initial)\n",
    "        self.altura_maxima = altura_maxima\n",
    "        self.esta_llena = lambda pila: len(pila) == self.altura_maxima\n",
    "\n",
    "        ## Lo que nos importa realmente es el número de pilas del muelle 1\n",
    "        self.num_pilas_muelle_1 = num_pilas_muelle_1\n",
    "\n",
    "        # Contamos cuantos contenerdores objetivos hay en total, que son los que tenemos que poner en el muelle 1\n",
    "        self.num_objetivo = 0\n",
    "        \n",
    "        for pila in initial:\n",
    "            self.num_objetivo += sum(pila)\n",
    "\n",
    "    def actions(self, state: Estado) -> List[Movimiento]:\n",
    "        \"\"\"Return the actions that can be executed in the given\n",
    "        state. The result would typically be a list, but if there are\n",
    "        many actions, consider yielding them one at a time in an\n",
    "        iterator, rather than building them all at once.\"\"\"\n",
    "        actions = []\n",
    "        \n",
    "        pilas_no_vacias = { i for i, pila in enumerate(state) if len(pila) > 0}\n",
    "        pilas_no_llenas = { i for i, pila in enumerate(state) if len(pila) < self.altura_maxima}\n",
    "\n",
    "        # Para cada pila no vacia, moverlo a otra pila no llena que no sea ella misma\n",
    "        for origen in pilas_no_vacias:\n",
    "            for destino in pilas_no_llenas:\n",
    "                if origen == destino: continue\n",
    "                actions.append(Movimiento(origen=origen,destino=destino))\n",
    "                \n",
    "        return actions\n",
    "\n",
    "    def result(self, state: Estado, action: Movimiento):\n",
    "        \"\"\"Return the state that results from executing the given\n",
    "        action in the given state. The action must be one of\n",
    "        self.actions(state).\"\"\"\n",
    "        origen = action.origen\n",
    "        destino = action.destino\n",
    "\n",
    "        res = deepcopy(state)\n",
    "        el = res[origen].pop()\n",
    "        res[destino].append(el)\n",
    "\n",
    "        return res\n",
    "\n",
    "    def goal_test(self, state: Estado):\n",
    "        \"\"\"Return True if the state is a goal.\"\"\"\n",
    "\n",
    "        # Todos los contenedores objetivo estan en el primer muelle de descarga\n",
    "        obj_primer_muelle = 0\n",
    "        for pila in state[0:self.num_pilas_muelle_1]:\n",
    "            obj_primer_muelle += ProblemaContenedor.num_objetivos_encima(pila)\n",
    "        \n",
    "        # Es objetivo cuando todos los contenedores objetivos estan en el primer muelle de descarga, por encima\n",
    "        return self.num_objetivo == obj_primer_muelle\n",
    "    \n",
    "    @staticmethod\n",
    "    def num_objetivos_encima(pila: Stack):\n",
    "        \"\"\"Sacar el numero de contenedores objetivos que hay encima de una pila, suponiendo que el cima es el final\"\"\"\n",
    "        i = len(pila) - 1\n",
    "        result = 0\n",
    "        while i >= 0 and pila[i]:\n",
    "            i -= 1\n",
    "            result += 1\n",
    "        \n",
    "        return result\n",
    "    \n",
    "    def show_estado(self, state: Estado):\n",
    "        def show_pila(pila: Stack):\n",
    "            return \"|\".join(map(lambda x : \"░░\" if x else \"██\",pila))\n",
    "        num_width = math.ceil(math.log(len(state),10))\n",
    "        print(\"\\n\".join(map(lambda x : str(x[0]).rjust(num_width,\" \")+\": \" +show_pila(x[1]), enumerate(state[0:self.num_pilas_muelle_1]))))\n",
    "        print()\n",
    "        print(\"\\n\".join(map(lambda x : str(x[0]+self.num_pilas_muelle_1).rjust(num_width,\" \")+\": \" +show_pila(x[1]), enumerate(state[self.num_pilas_muelle_1:]))))\n",
    "\n",
    "    \n",
    "    def heuristica(self, node):\n",
    "        state = node.state\n",
    "        coste = 0\n",
    "\n",
    "        # Todos los contenedores objetivo que no están en el primer muelle de descarga\n",
    "        obj_primer_muelle = 0\n",
    "        for pila in state[0:self.num_pilas_muelle_1]:\n",
    "            obj_primer_muelle += ProblemaContenedor.num_objetivos_encima(pila)\n",
    "\n",
    "        coste = self.num_objetivo - obj_primer_muelle\n",
    "\n",
    "        # Todos los contenedores no objetivo entre el contenedor objetivo más bajo y la cima\n",
    "        for i, pila in enumerate(state):\n",
    "            es_muelle1 = i < self.num_pilas_muelle_1\n",
    "            num_objetivo_encima = ProblemaContenedor.num_objetivos_encima(pila)\n",
    "            num_objetivo_total = sum(pila)\n",
    "            if num_objetivo_total > 0 and num_objetivo_total != num_objetivo_encima:\n",
    "                ## Entonces tiene contenedores objetivos que esta por debajo, que hay que sacarlo\n",
    "                contenedor_objetivo_mas_bajo = pila.index(True)\n",
    "\n",
    "                ## Si no estamos en muelle 1, entonces tiene mayor coste sacarlo, lo \n",
    "                coste += (1 if es_muelle1 else 3) * len(pila[contenedor_objetivo_mas_bajo:]) - sum(pila[contenedor_objetivo_mas_bajo:])\n",
    "\n",
    "        return coste"
   ],
   "execution_count":7,
   "outputs":[
    
   ],
   "metadata":{
    "datalore":{
     "node_id":"QrvwGrOkek1GS7AXZ3hjVc",
     "type":"CODE",
     "hide_input_from_viewers":false,
     "hide_output_from_viewers":false
    }
   }
  },
  {
   "cell_type":"markdown",
   "source":[
    "Con esta representación, nuestro estado inicial (el del ejemplo del PDF) sería la siguiente:\n",
    "\n",
    "A continuación hemos realizado algunas pruebas con los operadores definidos por nosotros."
   ],
   "attachments":{
    
   },
   "metadata":{
    "datalore":{
     "node_id":"QCXnVuCz7J6jg7DN3IP9aE",
     "type":"MD",
     "hide_input_from_viewers":false,
     "hide_output_from_viewers":false
    }
   }
  },
  {
   "cell_type":"code",
   "source":[
    "initial = Estado([\n",
    "     # Muelle 1\n",
    "        [False, True,],\n",
    "        [False, False,],\n",
    "        [False,],\n",
    "     # Muelle 2\n",
    "        [True, False,],\n",
    "        [False,True, False,],\n",
    "        [False,],\n",
    "])"
   ],
   "execution_count":8,
   "outputs":[
    
   ],
   "metadata":{
    "datalore":{
     "node_id":"oUS7e0kIta0KN5xGqFsooH",
     "type":"CODE",
     "hide_input_from_viewers":false,
     "hide_output_from_viewers":false
    }
   }
  },
  {
   "cell_type":"code",
   "source":[
    "prob = ProblemaContenedor(initial, 3)\n",
    "prob.show_estado(initial)"
   ],
   "execution_count":9,
   "outputs":[
    {
     "name":"stdout",
     "text":[
      "0: ██|░░\n",
      "1: ██|██\n",
      "2: ██\n",
      "\n",
      "3: ░░|██\n",
      "4: ██|░░|██\n",
      "5: ██\n"
     ],
     "output_type":"stream"
    }
   ],
   "metadata":{
    "datalore":{
     "node_id":"egZIiR4CUz98qLl8QZBqzX",
     "type":"CODE",
     "hide_input_from_viewers":false,
     "hide_output_from_viewers":false
    }
   }
  },
  {
   "cell_type":"code",
   "source":[
    "acts = prob.actions(initial)\n",
    "acts"
   ],
   "execution_count":10,
   "outputs":[
    {
     "data":{
      "text\/plain":[
       "[Movimiento(origen=0, destino=1),\n",
       " Movimiento(origen=0, destino=2),\n",
       " Movimiento(origen=0, destino=3),\n",
       " Movimiento(origen=0, destino=4),\n",
       " Movimiento(origen=0, destino=5),\n",
       " Movimiento(origen=1, destino=0),\n",
       " Movimiento(origen=1, destino=2),\n",
       " Movimiento(origen=1, destino=3),\n",
       " Movimiento(origen=1, destino=4),\n",
       " Movimiento(origen=1, destino=5),\n",
       " Movimiento(origen=2, destino=0),\n",
       " Movimiento(origen=2, destino=1),\n",
       " Movimiento(origen=2, destino=3),\n",
       " Movimiento(origen=2, destino=4),\n",
       " Movimiento(origen=2, destino=5),\n",
       " Movimiento(origen=3, destino=0),\n",
       " Movimiento(origen=3, destino=1),\n",
       " Movimiento(origen=3, destino=2),\n",
       " Movimiento(origen=3, destino=4),\n",
       " Movimiento(origen=3, destino=5),\n",
       " Movimiento(origen=4, destino=0),\n",
       " Movimiento(origen=4, destino=1),\n",
       " Movimiento(origen=4, destino=2),\n",
       " Movimiento(origen=4, destino=3),\n",
       " Movimiento(origen=4, destino=5),\n",
       " Movimiento(origen=5, destino=0),\n",
       " Movimiento(origen=5, destino=1),\n",
       " Movimiento(origen=5, destino=2),\n",
       " Movimiento(origen=5, destino=3),\n",
       " Movimiento(origen=5, destino=4)]"
      ]
     },
     "metadata":{
      
     },
     "output_type":"display_data"
    }
   ],
   "metadata":{
    "datalore":{
     "node_id":"Yss6m1CqvGkGZpWzXvuUgZ",
     "type":"CODE",
     "hide_input_from_viewers":false,
     "hide_output_from_viewers":false
    }
   }
  },
  {
   "cell_type":"code",
   "source":[
    "prob.show_estado(initial)\n",
    "print('\\n',acts[1],'\\n')\n",
    "prob.show_estado(prob.result(initial, acts[1]))"
   ],
   "execution_count":11,
   "outputs":[
    {
     "name":"stdout",
     "text":[
      "0: ██|░░\n",
      "1: ██|██\n",
      "2: ██\n",
      "\n",
      "3: ░░|██\n",
      "4: ██|░░|██\n",
      "5: ██\n",
      "\n",
      " Movimiento(origen=0, destino=2) \n",
      "\n",
      "0: ██\n",
      "1: ██|██\n",
      "2: ██|░░\n",
      "\n",
      "3: ░░|██\n",
      "4: ██|░░|██\n",
      "5: ██\n"
     ],
     "output_type":"stream"
    }
   ],
   "metadata":{
    "datalore":{
     "node_id":"2hvyNpNhexVSdpizoi947V",
     "type":"CODE",
     "hide_input_from_viewers":false,
     "hide_output_from_viewers":false
    }
   }
  },
  {
   "cell_type":"code",
   "source":[
    "final = prob.result(initial, acts[1])\n",
    "prob.goal_test(final)"
   ],
   "execution_count":12,
   "outputs":[
    {
     "data":{
      "text\/plain":[
       "False"
      ]
     },
     "metadata":{
      
     },
     "output_type":"display_data"
    }
   ],
   "metadata":{
    "datalore":{
     "node_id":"bpplicMJPEnTXjPGrTv7zx",
     "type":"CODE",
     "hide_input_from_viewers":false,
     "hide_output_from_viewers":false
    }
   }
  },
  {
   "cell_type":"markdown",
   "source":[
    "# B. Resolución del problema\n",
    "Podemos observar que éste es un clásico ejemplo del problema de búsqueda. En particular, vemos que cada estado tiene múltiples acciones que se pueden aplicar sobre él, lo cual nos indica que hacer una búsqueda en anchura probablemente sea una mala idea, ya que **el número de estados hijo es muy elevado**. Puesto que cada acción tiene una acción inversa, es buena idea llevar algún tipo de control de repetidos, para evitar volver a estados ya procesados.\n",
    "\n",
    "## Búsqueda ciega \n",
    "Supongamos que $r$ es el factor de ramificación máximo, $p$ es la profundidad del camino a la solución, $m$ la profundidad máxima\n",
    "\n",
    " - **Búsqueda en anchura** \n",
    "   En cada paso se expande el nodo abierto más antiguo\n",
    " \n",
    "    - Tiempo: $O(r^p)$\n",
    "    - Espacio: $O(r^p)$\n",
    "\n",
    "   Es **completa** y **óptima** _si el coste de los operadores es uniforme_\n",
    " \n",
    " - **Búsqueda de coste uniforme** \n",
    "   En cada paso se expande el nodo abierto con menor coste de camino hasta llegar a él\n",
    "  \n",
    "    - Tiempo: $O(r^p)$\n",
    "    - Espacio: $O(r^p)$\n",
    "  \n",
    "   Es **completa** y **óptima** _si los operadores tiene coste positivo_ (No se aplica a nuestro caso)\n",
    " \n",
    " - **Búsqueda en profundidad**\n",
    "   En cada paso se expande el nodo abierto más reciente\n",
    "\n",
    "    - Tiempo: $O(r^m)$\n",
    "    - Espacio: $O(r·m)$\n",
    "\n",
    "   Supone una mejora considerable con respecto a la búsqueda en profundidad en cuanto a espacio. En tiempo puede ser peor, pero suele dar mejores resultados cuando hay varios posibles caminos a un estado objetivo\n",
    " \n",
    " - **Búsqueda en profundidad limitada**\n",
    "   Una búsqueda en profundidad con un límite $L$ de profundidad (Evita descender indefinidamente)\n",
    "\n",
    "    - Tiempo: $O(r^L)$\n",
    "    - Espacio: $O(r·L)$\n",
    " \n",
    " - **Búsqueda en profundidad iterativa**  \n",
    "   Una búsqueda en profundidad limitada, donde variamos el límite $L$ con una función $f:\\mathbb{N}\\to\\mathbb{R}$ en distintas iteraciones\n",
    "\n",
    "    - Tiempo: $O(f^{-1}(m)·r^m)$\n",
    "    - Espacio: $O(r·m·f^{-1}(m))$\n",
    " \n",
    "   Evita el problema de la elección del límite.  \n",
    "   Si $f(n) = n$ incluimos un factor lineal en la complejidad, pero si tomamos $f(n) = 2^n$, el factor es logarítmico\n",
    " \n",
    " - **Búsqueda bidireccional**\n",
    "   Se realizan dos búsquedas simultáneas, una desde el estado inicial y otra desde el estado final. Se termina la búsqueda cuando algun estado se haya alcanzado desde ambas búsquedas\n",
    "\n",
    "    - Tiempo: $O(t_1+t_2)$ con $t_i$ la complejidad en tiempo de la búsqueda $i$-ésima\n",
    "    - Espacio: $O(e_1+e_2)$ con $e_i$ la complejidad en espacio de la búsqueda $i$-ésima\n",
    "\n",
    "   La motivación viene del hecho que $r^{\\frac{p}{2}} + r^{\\frac{p}{2}} \\le r^p$. Normalmente una de las búsquedas es una búsqueda completa (coste uniforme o en anchura), y otra una búsqueda que no requierea mucho control de repetidos. Uno de sus inconvenientes es que necesitamos definir explícitamente un estado final, y no una propiedad que cumplen los estados finales.\n",
    "   "
   ],
   "attachments":{
    
   },
   "metadata":{
    "datalore":{
     "node_id":"uGSw7f0sN3mulVCP9mhe1c",
     "type":"MD",
     "hide_input_from_viewers":false,
     "hide_output_from_viewers":false
    }
   }
  },
  {
   "cell_type":"markdown",
   "source":[
    "Debido a que este es un problema con una ramificación bastante elevada, pensamos que sería mejor usar una búsqueda en profundidad o en anchura con control de repetidos. \n",
    "\n",
    "Podríamos hacer una búsqueda bidireccional, pero solo si proporcionamos además un estado final. Tendríamos que tener en cuenta también que el estado final no es único, por lo que podríamos terminar la búsqueda si encontramos un estado final distinto al especificado. Sin embargo, esta forma de hacer búsuqeda bidireccional no está implementeada en AIMA, así que no la consideramos."
   ],
   "attachments":{
    
   },
   "metadata":{
    "datalore":{
     "node_id":"7ApLoXCrhZzDLFFtvVR9Vl",
     "type":"MD",
     "hide_input_from_viewers":false,
     "hide_output_from_viewers":false
    }
   }
  },
  {
   "cell_type":"markdown",
   "source":[
    "Observando los resultados de ejecución, podemos ver que el primer nivel de nuestro estado inicial ya posee 30 hijos, lo cual sugiere que la búsqueda ciega no sería lo óptimo, y lo ideal sería que tuviesemos alguna heurística buena para explorar solo una cantidad diminuta de ellos.\n",
    "\n",
    "Allí es donde entramos en la **búsqueda heurística**. La idea es explorar los nodos más prometedores de acuerdo con el valor que devuelve la función heurística. Usa una cola de prioridad ordenada por el valor heurístico de cada nodo, y explora el mejor nodo\n",
    "\n",
    "De las que hemos visto en clase:\n",
    "\n",
    "- **Búsqueda voraz**: la función heurística considera exclusivamente lo que falta para llegar a la solución. Es decir, devuelve el coste mínimo estimado para llegar a una solución **a partir de un nodo n** \n",
    "- **Búsqueda A***: La heurística considera el **coste total** estimado del camino desde el nodo inicial a un nodo objetivo pasando por el nodo n"
   ],
   "attachments":{
    
   },
   "metadata":{
    "datalore":{
     "node_id":"SUPwDH0Pm2sCBoHyuXIUtj",
     "type":"MD",
     "hide_input_from_viewers":false,
     "hide_output_from_viewers":false
    }
   }
  },
  {
   "cell_type":"markdown",
   "source":[
    "# C: Buscando soluciones\n",
    "\n",
    "Resuelve el problema razonando convenientemente el comportamiento de distintos algoritmos (a elegir)"
   ],
   "attachments":{
    
   },
   "metadata":{
    "datalore":{
     "node_id":"oz4j1QtQmnSnld0C3DCPhA",
     "type":"MD",
     "hide_input_from_viewers":false,
     "hide_output_from_viewers":false
    }
   }
  },
  {
   "cell_type":"markdown",
   "source":[
    "Basandonos en el análisis anterior, podemos concluir que las búsquedas ciegas no son muy útiles aquí:"
   ],
   "attachments":{
    
   },
   "metadata":{
    "datalore":{
     "node_id":"3OaKxM3B4sVIj7REINovcB",
     "type":"MD",
     "hide_input_from_viewers":false,
     "hide_output_from_viewers":false
    }
   }
  },
  {
   "cell_type":"code",
   "source":[
    "%%time\n",
    "breadth_first_graph_search(ProblemaContenedor(initial, 3))"
   ],
   "execution_count":14,
   "outputs":[
    {
     "name":"stdout",
     "text":[
      "CPU times: user 30.8 s, sys: 12.2 ms, total: 30.8 s\n",
      "Wall time: 30.9 s\n"
     ],
     "output_type":"stream"
    },
    {
     "data":{
      "text\/plain":[
       "<Node [[False, True, True, True], [False, False, False, False], [False], [], [False], [False]]>"
      ]
     },
     "metadata":{
      
     },
     "output_type":"display_data"
    }
   ],
   "metadata":{
    "datalore":{
     "node_id":"8Wr3mOkXg2O7mPyPLhHZ21",
     "type":"CODE",
     "hide_input_from_viewers":false,
     "hide_output_from_viewers":false
    }
   }
  },
  {
   "cell_type":"code",
   "source":[
    "%%time\n",
    "depth_limited_search(ProblemaContenedor(initial, 3))"
   ],
   "execution_count":56,
   "outputs":[
    {
     "name":"stdout",
     "text":[
      "6.4 µs ± 109 ns per loop (mean ± std. dev. of 7 runs, 100000 loops each)\n"
     ],
     "output_type":"stream"
    }
   ],
   "metadata":{
    "datalore":{
     "node_id":"pIoaLmuvL0ofKP84wzFK1v",
     "type":"CODE",
     "hide_input_from_viewers":false,
     "hide_output_from_viewers":false
    }
   }
  },
  {
   "cell_type":"code",
   "source":[
    "%%time\n",
    "iterative_deepening_search(ProblemaContenedor(initial, 3))"
   ],
   "execution_count":57,
   "outputs":[
    {
     "name":"stdout",
     "text":[
      "7.7 µs ± 43.5 ns per loop (mean ± std. dev. of 7 runs, 100000 loops each)\n"
     ],
     "output_type":"stream"
    }
   ],
   "metadata":{
    "datalore":{
     "node_id":"61vfIyHVb0a6ThKVDiYsFw",
     "type":"CODE",
     "hide_input_from_viewers":false,
     "hide_output_from_viewers":false
    }
   }
  },
  {
   "cell_type":"markdown",
   "source":[
    "## Crear una heurística\n",
    "\n",
    "Se ve claramente como podemos relajar el problema para calcular el coste de la solución rápidamente dado un estado. \n",
    "\n",
    "Si **quitamos las restricciones de que haya un límite en altura en las pilas**, podemos considerar que podemos mover siempre los contenedores que deseamos situar en el primer muelle en los puestos superiores.\n",
    "\n",
    "Nuestra heurística viene dada por la suma de los contenedores que faltan por colocar en el primer muelle más la suma de los contenedores que se encuentran por encima del contenedor objetivo más abajo en la cada una de las pilas. Si la pila es del muelle 1, entonces multiplicamos el número de contenedores por 1 y si pertenece a otro muelle, multiplicamos por un factor 3. \n",
    "\n",
    "En el caso de que todos los contenedores que se encuentran encima del contenedor objetivo más abajo en la pila son a su vez todos objetivos, y esta pila pertenece al muelle 1, entonces no los consideramos; ya que no tenemos que realizar ningún movimiento. Esta heurística es admisible porque para poder llegar a un contedor siempre debemos quitar los que tiene encima, considerando además las condiciones adicionales del problema (como el límite de las pilas). "
   ],
   "attachments":{
    
   },
   "metadata":{
    "datalore":{
     "node_id":"ohTtcZDdUXKnCyYKodT19g",
     "type":"MD",
     "hide_input_from_viewers":false,
     "hide_output_from_viewers":false
    }
   }
  },
  {
   "cell_type":"code",
   "source":[
    "def heuristica(self: ProblemaContenedor, state: Estado):\n",
    "    coste = 0\n",
    "\n",
    "    # Todos los contenedores objetivo que no están en el primer muelle de descarga\n",
    "    obj_primer_muelle = 0\n",
    "    for pila in state[0:self.num_pilas_muelle_1]:\n",
    "        obj_primer_muelle += ProblemaContenedor.num_objetivos_encima(pila)\n",
    "\n",
    "    coste = self.num_objetivo - obj_primer_muelle\n",
    "\n",
    "    # Todos los contenedores no objetivo entre el contenedor objetivo más bajo y la cima\n",
    "    for i, pila in enumerate(state):\n",
    "        es_muelle1 = i < self.num_pilas_muelle_1\n",
    "        num_objetivo_encima = ProblemaContenedor.num_objetivos_encima(pila)\n",
    "        num_objetivo_total = sum(pila)\n",
    "        if num_objetivo_total > 0 and num_objetivo_total != num_objetivo_encima:\n",
    "            ## Entonces tiene contenedores objetivos que esta por debajo, que hay que sacarlo\n",
    "            contenedor_objetivo_mas_bajo = pila.index(True)\n",
    "\n",
    "            ## Si no estamos en muelle 1, entonces tiene mayor coste sacarlo, lo \n",
    "            coste += (1 if es_muelle1 else 3) * len(pila[contenedor_objetivo_mas_bajo:]) - sum(pila[contenedor_objetivo_mas_bajo:])\n",
    "\n",
    "    return coste"
   ],
   "execution_count":16,
   "outputs":[
    
   ],
   "metadata":{
    "datalore":{
     "node_id":"J3NWD8zfTS7n5W7PaOVZq8",
     "type":"CODE",
     "hide_input_from_viewers":false,
     "hide_output_from_viewers":false
    }
   }
  },
  {
   "cell_type":"code",
   "source":[
    "class Problema_con_Analizados(Problem):\n",
    "    \"\"\"Es un problema que se comporta exactamente igual que el que recibe al\n",
    "       inicializarse, y además incorpora unos atributos nuevos para almacenar el\n",
    "       número de nodos analizados durante la búsqueda. De esta manera, no\n",
    "       tenemos que modificar el código del algoritmo de búsqueda.\"\"\"\n",
    "\n",
    "    def __init__(self, problem):\n",
    "        self.initial = problem.initial\n",
    "        self.problem = problem\n",
    "        self.analizados = 0\n",
    "        self.goal = problem.goal\n",
    "\n",
    "    def actions(self, estado):\n",
    "        return self.problem.actions(estado)\n",
    "\n",
    "    def result(self, estado, accion):\n",
    "        return self.problem.result(estado, accion)\n",
    "\n",
    "    def goal_test(self, estado):\n",
    "        self.analizados += 1\n",
    "        return self.problem.goal_test(estado)\n",
    "\n",
    "    def coste_de_aplicar_accion(self, estado, accion):\n",
    "        return self.problem.coste_de_aplicar_accion(estado, accion)"
   ],
   "execution_count":19,
   "outputs":[
    
   ],
   "metadata":{
    "datalore":{
     "node_id":"fgtxkqtYOimXIzIFqfGuqn",
     "type":"CODE",
     "hide_input_from_viewers":false,
     "hide_output_from_viewers":false
    }
   }
  },
  {
   "cell_type":"code",
   "source":[
    "def resuelve_contenedor(p, algoritmo, h=None):\n",
    "    pa = Problema_con_Analizados(p)\n",
    "    if h:\n",
    "        sol = algoritmo(pa, h).solution()\n",
    "    else:\n",
    "        sol = algoritmo(pa).solution()\n",
    "    print(f\"Solución: {sol}\")\n",
    "    print(f\"Algoritmo: {algoritmo.__name__}\")\n",
    "    if h:\n",
    "        print(f\"Heurística: {h.__name__}\")\n",
    "    print(\"Longitud de la solución: {0}. Nodos analizados: {1}\".format(len(sol), pa.analizados))"
   ],
   "execution_count":20,
   "outputs":[
    
   ],
   "metadata":{
    "datalore":{
     "node_id":"uDMS8hMLVVH4CuAaspnpnJ",
     "type":"CODE",
     "hide_input_from_viewers":false,
     "hide_output_from_viewers":false
    }
   }
  },
  {
   "cell_type":"code",
   "source":[
    "resuelve_contenedor(prob, astar_search, prob.heuristica)"
   ],
   "execution_count":21,
   "outputs":[
    {
     "name":"stdout",
     "text":[
      "Solución: [Movimiento(origen=3, destino=5), Movimiento(origen=4, destino=2), Movimiento(origen=3, destino=2), Movimiento(origen=4, destino=2)]\n",
      "Algoritmo: astar_search\n",
      "Heurística: heuristica\n",
      "Longitud de la solución: 4. Nodos analizados: 7\n"
     ],
     "output_type":"stream"
    }
   ],
   "metadata":{
    "datalore":{
     "node_id":"1gvntexTPknnkIy1WuZSGf",
     "type":"CODE",
     "hide_input_from_viewers":false,
     "hide_output_from_viewers":false
    }
   }
  },
  {
   "cell_type":"markdown",
   "source":[
    "Sería posible calcular la heurística de un estado junto con el estado en sí mismo, es decir, actualizar la heurística de un estado con una transición para obtener la heurística del estado resultante. Así, el coste de calcular la heurística sería constante, y no $O(n)$, donde $n$ es el número de pilas. En nuestro caso, el coste de calcular la heurística es prácticamente lineal. Sin embargo, hay posibilidad de mejora.\n",
    "\n",
    "Para ello, deberemos actualizar la heurística cada vez que apliquemos una acción que mueva un contenedor entre dos muelles distintos, donde uno de ellos es el primero.\n",
    "\n",
    "Si se está moviendo un contenedor del primer muelle, decrementaremos la heurística si no se trata de un contenedor objetivo y la pila de la que se sacó tiene algún contenedor objetivo. Si el contenedor es un contenedor objetivo, incrementaremos la heurística, pues se trata de un contenedor objetivo que estaba en la cima y que hemos sacado del muelle donde debería estar.\n",
    "\n",
    "Si se está moviendo un contenedor al primer muelle, incrementaremos la heurística si no se trata de un contenedor objetivo y la pila en la que se va a introducir tiene algún contenedor objetivo. Si se trata de un contenedor objetivo, decrementamos la heurística. No importa en que pila lo coloquemos, será el primero, así que no tendrá contenedores no objetivo encima suyo."
   ],
   "attachments":{
    
   },
   "metadata":{
    "datalore":{
     "node_id":"AZFEDfXGYILM87qp9JXmeA",
     "type":"MD",
     "hide_input_from_viewers":false,
     "hide_output_from_viewers":false
    }
   }
  },
  {
   "cell_type":"code",
   "source":[
    "# Lista de pilas con booleanos que indican si el contenedor es objetivo o no\n",
    "Heuristica = int\n",
    "EstadoConHeuristica = Tuple[Estado, Heuristica]\n",
    "\n",
    "num_contenedores_objetivo = sum\n",
    "\n",
    "# Ejemplo:\n",
    "#  forall(lambda x : x % 2 == 0, range(0,10,2)) == True\n",
    "\n",
    "class ProblemaContenedorConHeuristica(ProblemaContenedor):\n",
    "    def __init__(self, initial: Estado, num_pilas_muelle_1: int, altura_maxima: int = 10):\n",
    "        \"\"\"The constructor specifies the initial state, and possibly a goal\n",
    "        state, if there is a unique goal. Your subclass's constructor can add\n",
    "        other arguments.\"\"\"\n",
    "        self.initial = (initial,heuristica(initial))\n",
    "        self.altura_maxima = altura_maxima\n",
    "        self.num_pilas_muelle_1 = num_pilas_muelle_1 \n",
    "        self.esta_llena = lambda pila: len(pila) == self.altura_maxima\n",
    "\n",
    "    def actions(self, state: EstadoConHeuristica) -> List[Movimiento]:\n",
    "        \"\"\"Return the actions that can be executed in the given\n",
    "        state. The result would typically be a list, but if there are\n",
    "        many actions, consider yielding them one at a time in an\n",
    "        iterator, rather than building them all at once.\"\"\"\n",
    "        pilas, _ = state\n",
    "        return super().actions(pilas)\n",
    "\n",
    "    def result(self, state: EstadoConHeuristica, action: Movimiento) -> EstadoConHeuristica:\n",
    "        \"\"\"Return the state that results from executing the given\n",
    "        action in the given state. The action must be one of\n",
    "        self.actions(state).\"\"\"\n",
    "        # TODO: MODIFICAR ESTADOS\n",
    "        pilas, heuristica = state\n",
    "        res = super().result(pilas, action)\n",
    "        pila_origen = pilas[action.origen] \n",
    "        pila_destino = pilas[action.destino]\n",
    "\n",
    "        contenedor = pila_origen[-1]\n",
    "        \n",
    "        # Actualizar heuristica\n",
    "        if action.origen < self.num_pilas_objetivo != action.destino < self.num_pilas_objetivo:\n",
    "            if action.origen < self.num_pilas_objetivo:\n",
    "                if contenedor:\n",
    "                    heuristica += 1\n",
    "                elif num_contenedores_objetivo(pila_origen) > 0:\n",
    "                    heuristica += -1\n",
    "            elif action.destino < self.num_pilas_objetivo:\n",
    "                if contenedor:\n",
    "                    heuristica += -1\n",
    "                elif num_contenedores_objetivo(pila_destino) > 0:\n",
    "                    heuristica += 1\n",
    "\n",
    "        return res, heuristica\n",
    "\n",
    "    def heuristica(self, state: EstadoConHeuristica) -> Heuristica:\n",
    "        \"\"\"Return the heuristic of a given state\"\"\"\n",
    "        return state[1]\n",
    "\n",
    "    def goal_test(self, state: EstadoConHeuristica) -> bool:\n",
    "        \"\"\"Return True if the state is a goal.\"\"\"\n",
    "        return self.heuristica(state) == 0"
   ],
   "execution_count":15,
   "outputs":[
    
   ],
   "metadata":{
    "datalore":{
     "node_id":"D0h1hICDb8qf191Woyigtb",
     "type":"CODE",
     "hide_input_from_viewers":false,
     "hide_output_from_viewers":false
    }
   }
  },
  {
   "cell_type":"markdown",
   "source":[
    "Observamos que en el proceso de actualizar la heurística, en realidad estamos haciendo una valoración del movimiento dado el estado actual, y añadiendolo al coste esperado hasta el momento. Por lo tanto, podemos generalizar esta lógica sobreescribiendo el método `path_cost` de `search.Problem`, para poder usar esta heurística en la búsqueda de coste uniforme"
   ],
   "attachments":{
    
   },
   "metadata":{
    "datalore":{
     "node_id":"8ou1ejkLJURFzopGcP7t15",
     "type":"MD",
     "hide_input_from_viewers":false,
     "hide_output_from_viewers":false
    }
   }
  },
  {
   "cell_type":"code",
   "source":[
    "class ProblemaContenedorConHeuristicaYCosteDeCaminos(ProblemaContenedor):\n",
    "    def action_cost(self, state: EstadoConHeuristica, action: Movimiento):\n",
    "        \"\"\"Devuelve el coste de realizar la acción `action` sobre el\n",
    "        estado `state`\"\"\"\n",
    "        muelles, _heuristica = state\n",
    "        pila_origen = muelles[action.origen]\n",
    "        pila_destino = muelles[action.destino]\n",
    "        contenedor = pila_origen[-1]\n",
    "\n",
    "        if action.origen < self.num_pilas_objetivo != action.destino < self.num_pilas_objetivo:\n",
    "            if action.origen < self.num_pilas_objetivo:\n",
    "                if contenedor:\n",
    "                    return 1\n",
    "                elif num_contenedores_objetivo(pila_origen) > 0:\n",
    "                    return -1\n",
    "            elif action.destino < self.num_pilas_objetivo:\n",
    "                if contenedor:\n",
    "                    return -1\n",
    "                elif num_contenedores_objetivo(pila_destino) > 0:\n",
    "                    return 1\n",
    "        return 0\n",
    "    \n",
    "    def path_cost(self, c: Heuristica, state1: EstadoConHeuristica, action: Movimiento, state2: EstadoConHeuristica):\n",
    "        \"\"\"Return the cost of a solution path that arrives at state2 from\n",
    "        state1 via action, assuming cost c to get up to state1. If the problem\n",
    "        is such that the path doesn't matter, this function will only look at\n",
    "        state2. If the path does matter, it will consider c and maybe state1\n",
    "        and action. The default method costs 1 for every step in the path.\"\"\"\n",
    "        return c + self.action_cost(state1, action)\n",
    "    \n",
    "    def result(self, state: EstadoConHeuristica, action: Movimiento) -> EstadoConHeuristica:\n",
    "        \"\"\"Return the state that results from executing the given\n",
    "        action in the given state. The action must be one of\n",
    "        self.actions(state).\"\"\"\n",
    "        muelles, heuristica = state\n",
    "        \n",
    "        heuristica += self.action_cost(state, action)\n",
    "\n",
    "        res = super().result(muelles, action)\n",
    "        return res, heuristica"
   ],
   "execution_count":16,
   "outputs":[
    
   ],
   "metadata":{
    "datalore":{
     "node_id":"aSCpRCVGDoZQJFKLBe4zAv",
     "type":"CODE",
     "hide_input_from_viewers":false,
     "hide_output_from_viewers":false
    }
   }
  },
  {
   "cell_type":"markdown",
   "source":[
    "# D. Resolver otras instancias del problema cambiando la situación inicial y final.\n",
    " - Incluir nuevos contenedores y\/o contenedores objetivo.\n",
    " - Modificar la altura de las pilas de los muelles. Se puede especificar alturas\n",
    "distintas para cada muelle pero siempre la misma altura para todas las pilas\n",
    "de un muelle.\n",
    "\n",
    "Vamos a añadir diferentes pilas, pero representamos como si solo hubiera dos muelles, pues así es como hemos decidido representar nuestro problema. Presentamos a continuación cinco ejemplos diferentes. Los tres primeros tratan de representar situaciones reales y los dos último situaciones extremas. Podemos observar que el algoritmo actúa eficientemente en los tres primeros casos y en el último, pero en el caso de una pila con muchos contenedores con uno de ellos True el programa tarda mucho en dar con una solución correcta."
   ],
   "attachments":{
    
   },
   "metadata":{
    "datalore":{
     "node_id":"dfPIkejpGh29lMpJ5moR9E",
     "type":"MD",
     "hide_input_from_viewers":false,
     "hide_output_from_viewers":false
    }
   }
  },
  {
   "cell_type":"code",
   "source":[
    "initial2 = Estado([\n",
    "     # Muelle 1\n",
    "        [False, True,],\n",
    "        [False, False,],\n",
    "        [False,],\n",
    "     # Muelle 2\n",
    "        [True, False,],\n",
    "        [False,False,True,],\n",
    "        [True,False,],\n",
    "])"
   ],
   "execution_count":20,
   "outputs":[
    
   ],
   "metadata":{
    "datalore":{
     "node_id":"YR3dmWfOELS7YarbQalH4T",
     "type":"CODE",
     "hide_input_from_viewers":false,
     "hide_output_from_viewers":false
    }
   }
  },
  {
   "cell_type":"code",
   "source":[
    "prob2 = ProblemaContenedor(initial2, 3)\n",
    "prob2.show_estado(initial2)"
   ],
   "execution_count":34,
   "outputs":[
    {
     "name":"stdout",
     "text":[
      "0: ██|░░\n",
      "1: ██|██\n",
      "2: ██\n",
      "\n",
      "3: ░░|██\n",
      "4: ██|██|░░\n",
      "5: ░░|██\n"
     ],
     "output_type":"stream"
    }
   ],
   "metadata":{
    "datalore":{
     "node_id":"xP5IlNu6yykKhN4hQFSNe0",
     "type":"CODE",
     "hide_input_from_viewers":false,
     "hide_output_from_viewers":false
    }
   }
  },
  {
   "cell_type":"code",
   "source":[
    "%%time\n",
    "resuelve_contenedor(prob2, astar_search, prob2.heuristica)"
   ],
   "execution_count":23,
   "outputs":[
    
   ],
   "metadata":{
    "datalore":{
     "node_id":"zBXRNZ5qdb7aM5bYjETAE4",
     "type":"CODE",
     "hide_input_from_viewers":false,
     "hide_output_from_viewers":false
    }
   }
  },
  {
   "cell_type":"code",
   "source":[
    "initial3 = Estado([\n",
    "     # Muelle 1\n",
    "        [True, False],\n",
    "        [True, False,],\n",
    "        [False,],\n",
    "     # Muelle 2\n",
    "        [True, False,True],\n",
    "        [True,False,True,],\n",
    "        [True,False,],\n",
    "])"
   ],
   "execution_count":21,
   "outputs":[
    
   ],
   "metadata":{
    "datalore":{
     "node_id":"LmnNDFxniPlQoXBTlIgGYV",
     "type":"CODE",
     "hide_input_from_viewers":false,
     "hide_output_from_viewers":false
    }
   }
  },
  {
   "cell_type":"code",
   "source":[
    "prob3 = ProblemaContenedor(initial3, 3)\n",
    "prob3.show_estado(initial3)"
   ],
   "execution_count":35,
   "outputs":[
    {
     "name":"stdout",
     "text":[
      "0: ░░|██\n",
      "1: ░░|██\n",
      "2: ██\n",
      "\n",
      "3: ░░|██|░░\n",
      "4: ░░|██|░░\n",
      "5: ░░|██\n"
     ],
     "output_type":"stream"
    }
   ],
   "metadata":{
    "datalore":{
     "node_id":"EfNrq8VRBzCWugZbuuaJ5O",
     "type":"CODE",
     "hide_input_from_viewers":false,
     "hide_output_from_viewers":false
    }
   }
  },
  {
   "cell_type":"code",
   "source":[
    "%%time\n",
    "resuelve_contenedor(prob3, astar_search, prob3.heuristica)"
   ],
   "execution_count":36,
   "outputs":[
    {
     "name":"stdout",
     "text":[
      "Solución: [Movimiento(origen=5, destino=2), Movimiento(origen=3, destino=2), Movimiento(origen=3, destino=1), Movimiento(origen=4, destino=2), Movimiento(origen=4, destino=1), Movimiento(origen=0, destino=1), Movimiento(origen=3, destino=2), Movimiento(origen=1, destino=3), Movimiento(origen=1, destino=3), Movimiento(origen=1, destino=3), Movimiento(origen=1, destino=3), Movimiento(origen=4, destino=2), Movimiento(origen=5, destino=2)]\n",
      "Algoritmo: astar_search\n",
      "Heurística: heuristica\n",
      "Longitud de la solución: 13. Nodos analizados: 15\n"
     ],
     "output_type":"stream"
    }
   ],
   "metadata":{
    "datalore":{
     "node_id":"IWP0A1Oek4u2pP8NlA3hHm",
     "type":"CODE",
     "hide_input_from_viewers":false,
     "hide_output_from_viewers":false
    }
   }
  },
  {
   "cell_type":"code",
   "source":[
    "initial4 = Estado([\n",
    "     # Muelle 1\n",
    "        [True, False, True],\n",
    "        [True, False, False, False, True],\n",
    "        [False,],\n",
    "     # Muelle 2\n",
    "        [True, False,True],\n",
    "        [True,False,True,],\n",
    "        [True,False,],\n",
    "])"
   ],
   "execution_count":41,
   "outputs":[
    
   ],
   "metadata":{
    "datalore":{
     "node_id":"qTCw9KnEz1dYQGdtys52gS",
     "type":"CODE",
     "hide_input_from_viewers":false,
     "hide_output_from_viewers":false
    }
   }
  },
  {
   "cell_type":"code",
   "source":[
    "prob4 = ProblemaContenedor(initial4, 3)\n",
    "prob4.show_estado(initial4)"
   ],
   "execution_count":42,
   "outputs":[
    {
     "name":"stdout",
     "text":[
      "0: ░░|██|░░\n",
      "1: ░░|██|██|██|░░\n",
      "2: ██\n",
      "\n",
      "3: ░░|██|░░\n",
      "4: ░░|██|░░\n",
      "5: ░░|██\n"
     ],
     "output_type":"stream"
    }
   ],
   "metadata":{
    "datalore":{
     "node_id":"9PrEHLSHJMurTMtknpmnHe",
     "type":"CODE",
     "hide_input_from_viewers":false,
     "hide_output_from_viewers":false
    }
   }
  },
  {
   "cell_type":"code",
   "source":[
    "%%time\n",
    "resuelve_contenedor(prob4, astar_search, prob4.heuristica)"
   ],
   "execution_count":43,
   "outputs":[
    {
     "ename":"KeyboardInterrupt",
     "evalue":"KeyboardInterrupt: ",
     "traceback":[
      "\u001b[0;31m---------------------------------------------------------------------------",
      "Traceback (most recent call last)",
      "    at line 1 in <module>",
      "    at line 4 in resuelve_contenedor(p, algoritmo, h)",
      "    at line 420 in astar_search(problem, h, display)",
      "    at line 283 in best_first_graph_search(problem, f, display)",
      "    at line 761 in __contains__(self, key)",
      "    at line 761 in <listcomp>(.0)",
      "    at line 123 in __eq__(self, other)",
      "KeyboardInterrupt: "
     ],
     "output_type":"error"
    }
   ],
   "metadata":{
    "datalore":{
     "node_id":"rxhYHREIKKAFGO2usz1pL9",
     "type":"CODE",
     "hide_input_from_viewers":false,
     "hide_output_from_viewers":false
    }
   }
  },
  {
   "cell_type":"code",
   "source":[
    "initial5 = Estado([\n",
    "     # Muelle 1\n",
    "        [],\n",
    "        [],\n",
    "        [],\n",
    "     # Muelle 2\n",
    "        [True, False,False, False,False, False,False, False,False, False,False, False,False, False,False, False,False, False,False],\n",
    "        [True,False,True,],\n",
    "        [True,False,],\n",
    "])"
   ],
   "execution_count":44,
   "outputs":[
    
   ],
   "metadata":{
    "datalore":{
     "node_id":"Br4Xfb29q0CWlrU4W55vhg",
     "type":"CODE",
     "hide_input_from_viewers":false,
     "hide_output_from_viewers":false
    }
   }
  },
  {
   "cell_type":"code",
   "source":[
    "prob5 = ProblemaContenedor(initial5, 3)\n",
    "prob5.show_estado(initial5)"
   ],
   "execution_count":45,
   "outputs":[
    {
     "name":"stdout",
     "text":[
      "0: \n",
      "1: \n",
      "2: \n",
      "\n",
      "3: ░░|██|██|██|██|██|██|██|██|██|██|██|██|██|██|██|██|██|██\n",
      "4: ░░|██|░░\n",
      "5: ░░|██\n"
     ],
     "output_type":"stream"
    }
   ],
   "metadata":{
    "datalore":{
     "node_id":"kPXzPc3CLTBYYrnsZJAnOH",
     "type":"CODE",
     "hide_input_from_viewers":false,
     "hide_output_from_viewers":false
    }
   }
  },
  {
   "cell_type":"code",
   "source":[
    "%%time\n",
    "resuelve_contenedor(prob5, astar_search, prob5.heuristica)"
   ],
   "execution_count":46,
   "outputs":[
    {
     "name":"stdout",
     "text":[
      "Solución: [Movimiento(origen=5, destino=2), Movimiento(origen=3, destino=2), Movimiento(origen=3, destino=2), Movimiento(origen=3, destino=2), Movimiento(origen=3, destino=2), Movimiento(origen=3, destino=2), Movimiento(origen=3, destino=2), Movimiento(origen=3, destino=2), Movimiento(origen=3, destino=2), Movimiento(origen=3, destino=2), Movimiento(origen=3, destino=1), Movimiento(origen=3, destino=1), Movimiento(origen=3, destino=1), Movimiento(origen=3, destino=1), Movimiento(origen=3, destino=1), Movimiento(origen=3, destino=1), Movimiento(origen=3, destino=1), Movimiento(origen=3, destino=1), Movimiento(origen=3, destino=1), Movimiento(origen=4, destino=1), Movimiento(origen=4, destino=0), Movimiento(origen=3, destino=0), Movimiento(origen=4, destino=0), Movimiento(origen=5, destino=0)]\n",
      "Algoritmo: astar_search\n",
      "Heurística: heuristica\n",
      "Longitud de la solución: 24. Nodos analizados: 29\n"
     ],
     "output_type":"stream"
    }
   ],
   "metadata":{
    "datalore":{
     "node_id":"YiksRuXsCUblRqC48PhL6s",
     "type":"CODE",
     "hide_input_from_viewers":false,
     "hide_output_from_viewers":false
    }
   }
  },
  {
   "cell_type":"code",
   "source":[
    "initial6 = Estado([\n",
    "     # Muelle 1\n",
    "        [],\n",
    "        [],\n",
    "        [],\n",
    "     # Muelle 2\n",
    "        [True, False],\n",
    "        [True,False,True,],\n",
    "        [True,False],\n",
    "        [True,False],\n",
    "        [True,False],\n",
    "        [True,False],\n",
    "        [True,False],\n",
    "        [True,False],\n",
    "        [True,False],\n",
    "        [True,False],\n",
    "        [True,False],\n",
    "        [True,False],\n",
    "        [True,False],\n",
    "        [True,False],\n",
    "        [True,False],\n",
    "        [True,False],\n",
    "        [True,False],\n",
    "])"
   ],
   "execution_count":47,
   "outputs":[
    
   ],
   "metadata":{
    "datalore":{
     "node_id":"8moqs61yEgGiaRRYg125gZ",
     "type":"CODE",
     "hide_input_from_viewers":false,
     "hide_output_from_viewers":false
    }
   }
  },
  {
   "cell_type":"code",
   "source":[
    "prob6 = ProblemaContenedor(initial6, 3)\n",
    "prob6.show_estado(initial6)"
   ],
   "execution_count":50,
   "outputs":[
    {
     "name":"stdout",
     "text":[
      " 0: \n",
      " 1: \n",
      " 2: \n",
      "\n",
      " 3: ░░|██\n",
      " 4: ░░|██|░░\n",
      " 5: ░░|██\n",
      " 6: ░░|██\n",
      " 7: ░░|██\n",
      " 8: ░░|██\n",
      " 9: ░░|██\n",
      "10: ░░|██\n",
      "11: ░░|██\n",
      "12: ░░|██\n",
      "13: ░░|██\n",
      "14: ░░|██\n",
      "15: ░░|██\n",
      "16: ░░|██\n",
      "17: ░░|██\n",
      "18: ░░|██\n",
      "19: ░░|██\n"
     ],
     "output_type":"stream"
    }
   ],
   "metadata":{
    "datalore":{
     "node_id":"jaqdj0JMSaXH3y14kwGmZw",
     "type":"CODE",
     "hide_input_from_viewers":false,
     "hide_output_from_viewers":false
    }
   }
  },
  {
   "cell_type":"code",
   "source":[
    "%%time\n",
    "resuelve_contenedor(prob6, astar_search, prob6.heuristica)"
   ],
   "execution_count":48,
   "outputs":[
    {
     "ename":"NameError",
     "evalue":"NameError: name 'prob6' is not defined",
     "traceback":[
      "\u001b[0;31m---------------------------------------------------------------------------",
      "Traceback (most recent call last)",
      "    at line 1 in <module>",
      "NameError: name 'prob6' is not defined"
     ],
     "output_type":"error"
    }
   ],
   "metadata":{
    "datalore":{
     "node_id":"u2uP1kuaWPlgAvQtPb2epb",
     "type":"CODE",
     "hide_input_from_viewers":false,
     "hide_output_from_viewers":false
    }
   }
  },
  {
   "cell_type":"markdown",
   "source":[
    "# E. Comentar cómo afecta a la resolución del problema\n",
    "## Variar el número de pilas\n",
    "\n",
    "Cuando variamos el número de pilas **disminuímos o aumentamos el número de posibles movimientos**, porque los movimientos posibles se da mediante un producto cartesiano de pilas no vacías por pilas con hueco libre (con origen distintos del destino). Por lo que el factor de ramificación se ve modificado, y provoca que el árbol de estados aumenta o disminuye de manera exponencial.\n",
    "\n",
    "La representación actual del problema es apto para este cambio, no hay que realizar cambios en la definición de la clase. Simplemente añadir más pilas en la definición del estado inicial. No podemos unificar los dos muelles objetivos directamente, porque quizá hay un coste por usar la cinta para transportar entre esos dos muelles."
   ],
   "attachments":{
    
   },
   "metadata":{
    "datalore":{
     "node_id":"LB5p6BfyZDBG0B9rOgMMvB",
     "type":"MD",
     "hide_input_from_viewers":false,
     "hide_output_from_viewers":false
    }
   }
  },
  {
   "cell_type":"markdown",
   "source":[
    "## Incluir un muelle adicional\n",
    "\n",
    "Si solo queremos incluir un nuevo muelle que no sea objetivo (es decir, en el estado final no puede haber contenedores objetivos allí), entonces nuestra representación actual del problema sigue valiendo. Pues sólo distinguimos entre el muelle 1 y el resto de muelles.\n",
    "\n",
    "Sin embargo, si tuviesemos varios muelles objetivos, habría que modificar el código, para saber qué pilas se encuentra en muelle objetivo y ajustar la heurística de acuerdo con eso."
   ],
   "attachments":{
    
   },
   "metadata":{
    "datalore":{
     "node_id":"zi7IoJo7telQERtAE9h2tO",
     "type":"MD",
     "hide_input_from_viewers":false,
     "hide_output_from_viewers":false
    }
   }
  }
 ],
 "metadata":{
  "kernelspec":{
   "display_name":"Python",
   "language":"python",
   "name":"python"
  },
  "datalore":{
   "version":1,
   "computation_mode":"JUPYTER",
   "package_manager":"pip",
   "base_environment":"default",
   "packages":[
    
   ]
  }
 },
 "nbformat":4,
 "nbformat_minor":4
}