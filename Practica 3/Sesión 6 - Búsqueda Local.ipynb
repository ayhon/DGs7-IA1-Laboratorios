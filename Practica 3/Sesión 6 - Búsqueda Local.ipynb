{
 "cells": [
  {
   "cell_type": "markdown",
   "metadata": {
    "datalore": {
     "hide_input_from_viewers": false,
     "hide_output_from_viewers": false,
     "node_id": "Práctica 3",
     "sheet_delimiter": true,
     "type": "MD"
    }
   },
   "source": [
    "# Práctica 3"
   ]
  },
  {
   "cell_type": "markdown",
   "metadata": {
    "datalore": {
     "hide_input_from_viewers": false,
     "hide_output_from_viewers": false,
     "node_id": "jF6lCaUP2CiE7P1YldTZgM",
     "report_properties": {},
     "type": "MD"
    }
   },
   "source": [
    "# Inteligencia Artificial 2022/23\n",
    "## Belén Díaz Agudo -  Facultad de Informática UCM\n",
    "## Búsqueda local\n",
    "En esta primera parte usaremos ejercicios paso a paso para familiarizarnos con la resolución de problemas sencillos de optimización, problemas conocidos que vamos a resolver utilizando algoritmos de búsqueda local. \n",
    "En la segunda parte de la práctica se pide resolver el problema dado en el enunciado."
   ]
  },
  {
   "cell_type": "markdown",
   "metadata": {
    "datalore": {
     "hide_input_from_viewers": false,
     "hide_output_from_viewers": false,
     "node_id": "IVeV7iLu5T442wz8fA3pOU",
     "report_properties": {},
     "type": "MD"
    }
   },
   "source": [
    "## Algoritmo de escalada\n",
    "Hill Climbing es un algoritmo de búsqueda local heurística utilizada para problemas de optimización.\n",
    "Esta solución puede o no ser el óptimo global. El algoritmo es una variante del algoritmo de generación y prueba.\n",
    "<br>\n",
    "En general, el algoritmo funciona de la siguiente manera:\n",
    "- Evaluar el estado inicial.\n",
    "- Si es igual al estado del objetivo, terminamos.\n",
    "- Encuentra un estado vecino al estado actual\n",
    "- Evaluar este estado. Si está más cerca del estado objetivo que antes, reemplace el estado inicial con este estado y repita estos pasos.\n",
    "<br>\n",
    "Usaremos la implementación de AIMA que está en el módulo search.py\n",
    "\n",
    "```python\n",
    "    def hill_climbing(problem):\n",
    "        \"\"\"From the initial node, keep choosing the neighbor with highest value,\n",
    "        stopping when no neighbor is better. [Figure 4.2]\"\"\"\n",
    "        current = Node(problem.initial)\n",
    "        while True:\n",
    "            neighbors = current.expand(problem)\n",
    "            if not neighbors:\n",
    "                break\n",
    "            neighbor = argmax_random_tie(neighbors,\n",
    "                                     key=lambda node: problem.value(node.state))\n",
    "            if problem.value(neighbor.state) <= problem.value(current.state):\n",
    "                break\n",
    "            current = neighbor\n",
    "        return current.state\n",
    "\n",
    "```"
   ]
  },
  {
   "cell_type": "code",
   "execution_count": 1,
   "metadata": {
    "datalore": {
     "hide_input_from_viewers": true,
     "hide_output_from_viewers": true,
     "node_id": "6jOuA5tmjqM6BKhZBAhZMT",
     "report_properties": {},
     "type": "CODE"
    }
   },
   "outputs": [],
   "source": [
    "from search import *"
   ]
  },
  {
   "cell_type": "code",
   "execution_count": 2,
   "metadata": {
    "datalore": {
     "hide_input_from_viewers": false,
     "hide_output_from_viewers": false,
     "node_id": "dM8WHJTstJ49zEOQiJexdS",
     "report_properties": {},
     "type": "CODE"
    }
   },
   "outputs": [],
   "source": [
    "initial = (0, 0)\n",
    "grid = [[3, 7, 2, 8], [5, 2, 9, 1], [5, 3, 3, 1]]"
   ]
  },
  {
   "cell_type": "code",
   "execution_count": 3,
   "metadata": {
    "datalore": {
     "hide_input_from_viewers": false,
     "hide_output_from_viewers": false,
     "node_id": "QT46PupPIDaPHIC9xgn715",
     "report_properties": {},
     "type": "CODE"
    }
   },
   "outputs": [],
   "source": [
    "# Pre-defined actions for PeakFindingProblem\n",
    "directions4 = {'W': (-1, 0), 'N': (0, 1), 'E': (1, 0), 'S': (0, -1)}\n",
    "directions8 = dict(directions4)\n",
    "directions8.update({'NW': (-1, 1), 'NE': (1, 1), 'SE': (1, -1), 'SW': (-1, -1)})\n",
    "\n",
    "class PeakFindingProblem(Problem):\n",
    "    \"\"\"Problem of finding the highest peak in a limited grid\"\"\"\n",
    "\n",
    "    def __init__(self, initial, grid, defined_actions=directions4):\n",
    "        \"\"\"The grid is a 2 dimensional array/list whose state is specified by tuple of indices\"\"\"\n",
    "        Problem.__init__(self, initial)\n",
    "        self.grid = grid\n",
    "        self.defined_actions = defined_actions\n",
    "        self.n = len(grid)\n",
    "        assert self.n > 0\n",
    "        self.m = len(grid[0])\n",
    "        assert self.m > 0\n",
    "\n",
    "    def actions(self, state):\n",
    "        \"\"\"Returns the list of actions which are allowed to be taken from the given state\"\"\"\n",
    "        allowed_actions = []\n",
    "        for action in self.defined_actions:\n",
    "            next_state = vector_add(state, self.defined_actions[action])\n",
    "            if next_state[0] >= 0 and next_state[1] >= 0 and next_state[0] <= self.n - 1 and next_state[1] <= self.m - 1:\n",
    "                allowed_actions.append(action)\n",
    "\n",
    "        return allowed_actions\n",
    "\n",
    "    def result(self, state, action):\n",
    "        \"\"\"Moves in the direction specified by action\"\"\"\n",
    "        return vector_add(state, self.defined_actions[action])\n",
    "\n",
    "    def value(self, state):\n",
    "        \"\"\"Value of a state is the value it is the index to\"\"\"\n",
    "        x, y = state\n",
    "        assert 0 <= x < self.n\n",
    "        assert 0 <= y < self.m\n",
    "        return self.grid[x][y]"
   ]
  },
  {
   "cell_type": "code",
   "execution_count": 4,
   "metadata": {
    "datalore": {
     "hide_input_from_viewers": false,
     "hide_output_from_viewers": false,
     "node_id": "Oi8VH32HC7Hyn6ieyZ3nzm",
     "report_properties": {},
     "type": "CODE"
    }
   },
   "outputs": [],
   "source": [
    "problem = PeakFindingProblem(initial, grid, directions4)"
   ]
  },
  {
   "cell_type": "code",
   "execution_count": 5,
   "metadata": {
    "datalore": {
     "hide_input_from_viewers": false,
     "hide_output_from_viewers": false,
     "node_id": "JNlg44K4IWagkWTKhkPMjc",
     "report_properties": {},
     "type": "CODE"
    }
   },
   "outputs": [],
   "source": [
    "def hill_climbing(problem):\n",
    "    \"\"\"From the initial node, keep choosing the neighbor with highest value,\n",
    "    stopping when no neighbor is better. [Figure 4.2]\"\"\"\n",
    "    current = Node(problem.initial)\n",
    "    while True:\n",
    "        neighbors = current.expand(problem)\n",
    "        if not neighbors:\n",
    "            break\n",
    "        neighbor = argmax_random_tie(neighbors,\n",
    "                                     key=lambda node: problem.value(node.state))\n",
    "        if problem.value(neighbor.state) <= problem.value(current.state):\n",
    "            break\n",
    "        current = neighbor\n",
    "    return current.state"
   ]
  },
  {
   "cell_type": "code",
   "execution_count": 6,
   "metadata": {
    "datalore": {
     "hide_input_from_viewers": false,
     "hide_output_from_viewers": false,
     "node_id": "0lFY0O6wxZJ3NU6jWxzqxQ",
     "report_properties": {},
     "type": "CODE"
    }
   },
   "outputs": [
    {
     "data": {
      "text/plain": [
       "7"
      ]
     },
     "execution_count": 6,
     "metadata": {},
     "output_type": "execute_result"
    }
   ],
   "source": [
    "solution = problem.value(hill_climbing(problem))\n",
    "solution"
   ]
  },
  {
   "cell_type": "markdown",
   "metadata": {
    "datalore": {
     "hide_input_from_viewers": true,
     "hide_output_from_viewers": true,
     "node_id": "vsNDUGEj0wvG1N8gAuaLnl",
     "report_properties": {},
     "type": "MD"
    }
   },
   "source": [
    "El resultado es `7`, porque parte del punto `(0, 0)`, cuyo valor de casilla es `3`. Desde allí, puede ir a derecha (7) y abajo(5). Elige ir a la derecha, y ahora tiene posibilidades de ir a izquierda (3), derecha (2) y abajo (2). Como todas son inferiores al valor actual, se para el problema en este **máximo local**."
   ]
  },
  {
   "cell_type": "markdown",
   "metadata": {
    "datalore": {
     "hide_input_from_viewers": false,
     "hide_output_from_viewers": false,
     "node_id": "UGIDqV7x6Sw4OQhYv0ft4f",
     "report_properties": {},
     "type": "MD"
    }
   },
   "source": [
    "# Enfriamiento simulado (simulated annealing) \n",
    "El algoritmo de enfriamiento simulado puede manejar las situaciones de óptimo local o mesetas típicas en algoritmos de escalada.\n",
    "<br>\n",
    "El enfriamiento simulado es bastante similar a la escalada pero en lugar de elegir el mejor movimiento en cada iteración, elige un movimiento aleatorio. Si este movimiento aleatorio nos acerca al óptimo global, será aceptado,\n",
    "pero si no lo hace, el algoritmo puede aceptar o rechazar el movimiento en función de una probabilidad dictada por la temperatura.  Cuando la `temperatura` es alta, es más probable que el algoritmo acepte un movimiento aleatorio incluso si es malo. A bajas temperaturas, solo se aceptan buenos movimientos, con alguna excepción ocasional.\n",
    "Esto permite la exploración del espacio de estado y evita que el algoritmo se atasque en el óptimo local.\n",
    "\n",
    "Usaremos la implementación de AIMA del modulo search.py\n",
    "\n",
    "```python\n",
    "def simulated_annealing(problem, schedule=exp_schedule()):\n",
    "    \"\"\"[Figure 4.5] CAUTION: This differs from the pseudocode as it\n",
    "    returns a state instead of a Node.\"\"\"\n",
    "    current = Node(problem.initial)\n",
    "    for t in range(sys.maxsize):\n",
    "        T = schedule(t)\n",
    "        if T == 0:\n",
    "            return current.state\n",
    "        neighbors = current.expand(problem)\n",
    "        if not neighbors:\n",
    "            return current.state\n",
    "        next_choice = random.choice(neighbors)\n",
    "        delta_e = problem.value(next_choice.state) - problem.value(current.state)\n",
    "        if delta_e > 0 or probability(math.exp(delta_e / T)):\n",
    "            current = next_choice\n",
    "```"
   ]
  },
  {
   "cell_type": "markdown",
   "metadata": {
    "datalore": {
     "hide_input_from_viewers": false,
     "hide_output_from_viewers": false,
     "node_id": "yW1Mu5LWMhsNWlIwKBUcyf",
     "report_properties": {},
     "type": "MD"
    }
   },
   "source": [
    "Como hemos visto en clase hay varios métodos de enfriamiento (scheduling routine) Se puede variar el método de enfriamiento. En la implementación actual estamos usando el método de enfriamiento exponencial (que se pasa como parámetro).\n",
    "```python\n",
    "def exp_schedule(k=20, lam=0.005, limit=100):\n",
    "    \"\"\"One possible schedule function for simulated annealing\"\"\"\n",
    "    return lambda t: (k * math.exp(-lam * t) if t < limit else 0)\n",
    "```"
   ]
  },
  {
   "cell_type": "code",
   "execution_count": 7,
   "metadata": {
    "datalore": {
     "hide_input_from_viewers": true,
     "hide_output_from_viewers": true,
     "node_id": "ORCnI8pryHhhyVVEyBGF4i",
     "report_properties": {},
     "type": "CODE"
    }
   },
   "outputs": [
    {
     "data": {
      "text/plain": [
       "(1, 0)"
      ]
     },
     "execution_count": 7,
     "metadata": {},
     "output_type": "execute_result"
    }
   ],
   "source": [
    "simulated_annealing(problem)"
   ]
  },
  {
   "cell_type": "code",
   "execution_count": 8,
   "metadata": {
    "datalore": {
     "hide_input_from_viewers": false,
     "hide_output_from_viewers": false,
     "node_id": "Iv7kbqw4vWrDZv3uAfBntE",
     "report_properties": {},
     "type": "CODE"
    }
   },
   "outputs": [
    {
     "name": "stdout",
     "output_type": "stream",
     "text": [
      "{1, 2, 3, 5, 7, 8, 9}\n"
     ]
    },
    {
     "data": {
      "text/plain": [
       "9"
      ]
     },
     "execution_count": 8,
     "metadata": {},
     "output_type": "execute_result"
    }
   ],
   "source": [
    "# Resolvemos el problema del máximo en una rejilla con enfriamiento simulado\n",
    "\n",
    "solutions = {problem.value(simulated_annealing(problem)) for i in range(100)}\n",
    "print(solutions)\n",
    "max(solutions)"
   ]
  },
  {
   "cell_type": "markdown",
   "metadata": {
    "datalore": {
     "hide_input_from_viewers": false,
     "hide_output_from_viewers": false,
     "node_id": "dGc8UUtEDflFapYyeR9Io9",
     "report_properties": {},
     "type": "MD"
    }
   },
   "source": [
    "### Ejercicio 1.  Resuelve el problema anterior de encontrar el punto máximo en una rejilla. Comenta brevemente los resultados obtenidos en distintas rejillas con el algoritmo de escalada por máxima pendiente y enfriamiento simulado. \n",
    "Observa las características de la rejilla y la posición del máximo. \n",
    "Ejemplo de rejilla para pruebas en el que el máximo es 11.2, en la **posición (6, 6)** (lo usamos para calcular el % de éxitos)"
   ]
  },
  {
   "cell_type": "code",
   "execution_count": 9,
   "metadata": {
    "datalore": {
     "hide_input_from_viewers": false,
     "hide_output_from_viewers": false,
     "node_id": "jrMychX2B75IBLEnRVyt7H",
     "report_properties": {},
     "type": "CODE"
    }
   },
   "outputs": [],
   "source": [
    "grid = [[0.00, 1.00, 0.00, 0.00, 0.00, 0.00, 0.00, 0.00, 0.00],\n",
    "        [1.00, 1.80, 1.90, 1.90, 1.80, 1.70, 1.60, 1.50, 0.00],\n",
    "        [0.00, 1.90, 1.95, 0.40, 0.40, 0.00, 1.65, 0.00, 0.00],\n",
    "        [0.00, 0.00, 0.00, 2.00, 0.00, 0.00, 2.00, 0.70, 1.40],\n",
    "        [2.20, 1.80, 0.70, 0.00, 3.00, 0.00, 3.00, 0.00, 0.00],\n",
    "        [2.20, 1.80, 4.70, 6.50, 4.30, 7.00, 0.70, 0.00, 0.00],\n",
    "        [0.00, 0.00, 0.00, 0.00, 0.00, 7.00, 11.2, 0.70, 1.40],\n",
    "        [2.20, 1.80, 0.70, 0.00, 0.00, 9.00, 0.00, 0.00, 0.00],\n",
    "        [2.20, 1.80, 4.70, 6.50, 4.30, 1.80, 0.70, 0.00, 0.00],\n",
    "        [0.00, 0.25, 0.00, 0.00, 0.00, 0.00, 0.00, 0.70, 1.40],\n",
    "        [2.20, 1.80, 0.70, 0.00, 0.00, 0.00, 0.00, 0.00, 0.00],\n",
    "        [2.20, 1.80, 4.70, 8.50, 4.30, 1.80, 0.70, 0.00, 0.00]]"
   ]
  },
  {
   "cell_type": "code",
   "execution_count": 10,
   "metadata": {
    "datalore": {
     "hide_input_from_viewers": true,
     "hide_output_from_viewers": true,
     "node_id": "Z0QhwRFBrkh4X5BBLZzuaP",
     "type": "CODE"
    }
   },
   "outputs": [],
   "source": [
    "def evaluar_algoritmo(algoritmo,grid) -> int:\n",
    "    veces_optimo = 0\n",
    "\n",
    "    for i in range(12):\n",
    "        for j in range(9):\n",
    "            # Probar empezar desde cada una de las casillas de la matriz\n",
    "            initial = (i, j)\n",
    "            problem = PeakFindingProblem(initial, grid, directions8)\n",
    "            #solution = problem.value(hill_climbing(problem))\n",
    "\n",
    "            # Simular el problema 100 veces desde esta posición, al tener un factor de aleatoriedad, no son todas iguales\n",
    "            # Y habrá intentos que alcanza mejores resultados\n",
    "            solution = max(problem.value(algoritmo(problem)) for i in range(100))\n",
    "\n",
    "            if solution == 11.2:\n",
    "                # Se ha alcanzado el máximo en alguno de los 100 intentos\n",
    "                veces_optimo += 1\n",
    "    return veces_optimo"
   ]
  },
  {
   "cell_type": "code",
   "execution_count": 11,
   "metadata": {
    "datalore": {
     "hide_input_from_viewers": true,
     "hide_output_from_viewers": true,
     "node_id": "RCwHnG9izeIZU0imCGFhKA",
     "report_properties": {},
     "type": "CODE"
    }
   },
   "outputs": [
    {
     "name": "stdout",
     "output_type": "stream",
     "text": [
      "89.81481481481481%\n"
     ]
    }
   ],
   "source": [
    "# Enfriamiento simulado\n",
    "veces_optimo = evaluar_algoritmo(simulated_annealing,grid)\n",
    "\n",
    "#for i in range(12):\n",
    "#    for j in range(9):\n",
    "#        # Probar empezar desde cada una de las casillas de la matriz\n",
    "#        initial = (i, j)\n",
    "#        problem = PeakFindingProblem(initial, grid, directions8)\n",
    "#        #solution = problem.value(hill_climbing(problem))\n",
    "#\n",
    "#        # Simular el problema 100 veces desde esta posición, al tener un factor de aleatoriedad, no son todas iguales\n",
    "#        # Y habrá intentos que alcanza mejores resultados\n",
    "#        solutions = {problem.value(simulated_annealing(problem)) for i in range(100)}\n",
    "#        solution = max(solutions)\n",
    "#\n",
    "#        if solution == 11.2:\n",
    "#            # Se ha alcanzado el máximo en alguno de los 100 intentos\n",
    "#            veces_optimo += 1\n",
    "\n",
    "print(f\"{veces_optimo * 100 / (9 * 12)}%\")"
   ]
  },
  {
   "cell_type": "code",
   "execution_count": 12,
   "metadata": {
    "datalore": {
     "hide_input_from_viewers": true,
     "hide_output_from_viewers": true,
     "node_id": "rJeSPQN56cECjd4c5y5P8Z",
     "report_properties": {},
     "type": "CODE"
    }
   },
   "outputs": [
    {
     "name": "stdout",
     "output_type": "stream",
     "text": [
      "50.0%\n"
     ]
    }
   ],
   "source": [
    "# Algoritmo de escalada\n",
    "veces_optimo = evaluar_algoritmo(hill_climbing,grid)\n",
    "#\n",
    "#for i in range(12):\n",
    "#    for j in range(9):\n",
    "#        initial = (i, j)\n",
    "#        problem = PeakFindingProblem(initial, grid, directions8)\n",
    "#        #solution = problem.value(hill_climbing(problem))\n",
    "#\n",
    "#        # También prueba 100 veces el problema desde esta posición\n",
    "#        # Pero el algoritmo de escalada no tiene factor de aleatoriedad,\n",
    "#        #   entonces no tiene mucho sentido esto\n",
    "#        # De hecho, si hacemos un print(solutions), sólo habrá un elemento en el conjunto de soluciones\n",
    "#        solutions = {problem.value(hill_climbing(problem)) for i in range(100)}\n",
    "#        solution = max(solutions)\n",
    "#\n",
    "#        if solution == 11.2:\n",
    "#            veces_optimo += 1\n",
    "\n",
    "print(f\"{veces_optimo * 100 / (9 * 12)}%\")"
   ]
  },
  {
   "cell_type": "markdown",
   "metadata": {
    "datalore": {
     "hide_input_from_viewers": true,
     "hide_output_from_viewers": true,
     "node_id": "fHIDU7zrt70j8jJt6n460K",
     "report_properties": {},
     "type": "MD"
    }
   },
   "source": [
    "Como el **método de enfriamiento tiene un factor de aleatoriedad**, hemos realizado varias ejecuciones, y se ha podido observar que la tasa de éxito ha sido siempre por encima de 85%. En comparación, el método de escalada, que es **determinista**, siempre obtiene una tasa de éxito de 50%. Por lo tanto, la diferencia es bastante considerable. \n",
    "\n",
    "La razón es porque en el método de escalada, se paraliza la ejecución al encontrarse con un máximo local. Mientras que en el de enfriamiento existe la posibilidad de ir a una casilla con valor inferior al del actual y seguir explorando. Eso reduce la probabilidad de estancarse en un máximo local.\n",
    "\n",
    "El método de escalada ha podido encontrar la solución partiendo en ciertas casillas porque el máximo local más cercano es justo el máximo global.\n",
    "\n",
    "Como consecuencia exploración, el **método de enfriamiento emplea un tiempo mayor de ejecución**. En las ejecuciones realizadas, el método de escalada emplea un tiempo de 1.5 segundos, mientras que el de enfriamiento, un tiempo superior a 35 segundos."
   ]
  },
  {
   "cell_type": "markdown",
   "metadata": {
    "datalore": {
     "hide_input_from_viewers": false,
     "hide_output_from_viewers": false,
     "node_id": "Whay6opsSG0TSsV4lPkwKf",
     "report_properties": {},
     "type": "MD"
    }
   },
   "source": [
    "##  Algoritmos genéticos"
   ]
  },
  {
   "cell_type": "markdown",
   "metadata": {
    "datalore": {
     "hide_input_from_viewers": false,
     "hide_output_from_viewers": false,
     "node_id": "UxuEanLunVgDGDAO4scEfA",
     "report_properties": {},
     "type": "MD"
    }
   },
   "source": [
    "Se define una clase ProblemaGenetico que incluye los elementos necesarios para la representación de un problema de optimización que se va a resolver con un algoritmo genético. Los elementos son los que hemos visto en clase:\n",
    "\n",
    " - `genes`: lista de genes usados en el genotipo de los estados.\n",
    " - `longitud_individuos`: longitud de los cromosomas\n",
    " - `decodifica`: función de obtiene el fenotipo a partir del genotipo.\n",
    " - `fitness`: función de valoración.\n",
    " - `muta`: función de mutación de un cromosoma \n",
    " - `cruza`: función de cruce de un par de cromosomas"
   ]
  },
  {
   "cell_type": "code",
   "execution_count": 13,
   "metadata": {
    "datalore": {
     "hide_input_from_viewers": false,
     "hide_output_from_viewers": false,
     "node_id": "nfjKHg0gE7dvPR0NNoZW6p",
     "report_properties": {},
     "type": "CODE"
    }
   },
   "outputs": [],
   "source": [
    "import random"
   ]
  },
  {
   "cell_type": "code",
   "execution_count": 14,
   "metadata": {
    "datalore": {
     "hide_input_from_viewers": false,
     "hide_output_from_viewers": false,
     "node_id": "R8pMZmJoz7NC3fWn4AQLZ0",
     "report_properties": {},
     "type": "CODE"
    }
   },
   "outputs": [],
   "source": [
    "class ProblemaGenetico(object):\n",
    "    def __init__(self, genes, fun_dec, fun_muta, fun_cruza, fun_fitness, longitud_individuos):\n",
    "        \"\"\"Constructor de la clase\"\"\"\n",
    "        self.genes = genes\n",
    "        self.fun_dec = fun_dec\n",
    "        self.fun_cruza = fun_cruza\n",
    "        self.fun_muta = fun_muta\n",
    "        self.fun_fitness = fun_fitness\n",
    "        self.longitud_individuos = longitud_individuos\n",
    "\n",
    "    \n",
    "    def decodifica(self, genotipo):\n",
    "        \"\"\"Devuelve el fenotipo a partir del genotipo\"\"\"\n",
    "        fenotipo = self.fun_dec(genotipo)\n",
    "        return fenotipo\n",
    "\n",
    "    def muta(self, cromosoma, prob):\n",
    "        \"\"\"Devuelve el cromosoma mutado\"\"\"\n",
    "        mutante = self.fun_muta(cromosoma, prob)\n",
    "        return mutante\n",
    "\n",
    "    def cruza(self, cromosoma1, cromosoma2):\n",
    "        \"\"\"Devuelve el cruce de un par de cromosomas\"\"\"\n",
    "        cruce = self.fun_cruza(cromosoma1, cromosoma2)\n",
    "        return cruce\n",
    "\n",
    "    def fitness(self, cromosoma):\n",
    "        \"\"\"Función de valoración\"\"\"\n",
    "        valoracion = self.fun_fitness(cromosoma)\n",
    "        return valoracion"
   ]
  },
  {
   "cell_type": "markdown",
   "metadata": {
    "datalore": {
     "hide_input_from_viewers": false,
     "hide_output_from_viewers": false,
     "node_id": "rnfAUujBHK13OVjFYTUu5e",
     "report_properties": {},
     "type": "MD"
    }
   },
   "source": [
    "**Problema a resolver: encontrar el valor X que optimice una función**\n",
    "\n",
    "En primer lugar vamos a definir una instancia de la clase anterior correspondiente al problema de optimizar (maximizar o minimizar) \n",
    "Vamos a usar como ejemplo trivial la función cuadrado $x^2$ en el conjunto de los números naturales menores que $2^{10}$. \n",
    "Se usa este ejemplo trivial (del que sabemos la solución) para ver todos los elementos y poder observar el comportamiento del algoritmo genético.  Después deberás probar con otra función más compleja de tu elección. "
   ]
  },
  {
   "cell_type": "code",
   "execution_count": 15,
   "metadata": {
    "datalore": {
     "hide_input_from_viewers": false,
     "hide_output_from_viewers": false,
     "node_id": "jUM60MCGGRR1g3Rs9gwtAz",
     "report_properties": {},
     "type": "CODE"
    }
   },
   "outputs": [],
   "source": [
    "# Será necesaria la siguiente función que interpreta una lista de 0's y 1's como un número natural:  \n",
    "# La siguiente función que interpreta una lista de 0's y 1's como\n",
    "# un número natural:  \n",
    "\n",
    "def binario_a_decimal(x):\n",
    "    x = x[::-1]\n",
    "    return sum(b * (2 ** i) for (i, b) in enumerate(x)) "
   ]
  },
  {
   "cell_type": "code",
   "execution_count": 16,
   "metadata": {
    "datalore": {
     "hide_input_from_viewers": false,
     "hide_output_from_viewers": false,
     "node_id": "OOKXBnp0J9iXV5OfmrC41y",
     "report_properties": {},
     "type": "CODE"
    }
   },
   "outputs": [
    {
     "data": {
      "text/plain": [
       "14"
      ]
     },
     "execution_count": 16,
     "metadata": {},
     "output_type": "execute_result"
    }
   ],
   "source": [
    "binario_a_decimal((1, 1, 1, 0))"
   ]
  },
  {
   "cell_type": "code",
   "execution_count": 17,
   "metadata": {
    "datalore": {
     "hide_input_from_viewers": false,
     "hide_output_from_viewers": false,
     "node_id": "6WdVMgUBPrMjUe6fFZogvU",
     "report_properties": {},
     "type": "CODE"
    }
   },
   "outputs": [],
   "source": [
    "# En primer luegar usaremos la clase anterior para representar el problema de optimizar (maximizar o minimizar)\n",
    "# la función cuadrado en el conjunto de los números naturales menores que\n",
    "# 2^{10}. \n",
    "\n",
    "# Vamos a definir funciones de cruce, mutación y fitness para este problema.\n",
    "\n",
    "def fun_cruzar(cromosoma1, cromosoma2):\n",
    "    \"\"\"Cruza los cromosomas por la mitad (podemos cambiar la función de cruce eligiendo otro punto de cruce al azar)\"\"\"\n",
    "    l1 = len(cromosoma1)\n",
    "    l2 = len(cromosoma2)\n",
    "    cruce1 = cromosoma1[0:l1 // 2] + cromosoma2[l1 // 2:l2]\n",
    "    cruce2 = cromosoma2[0:l2 // 2] + cromosoma1[l2 // 2:l1]\n",
    "    return [cruce1, cruce2]\n",
    "\n",
    "def fun_mutar(cromosoma, prob):\n",
    "    \"\"\"Elige un elemento al azar del cromosoma y lo modifica con una probabilidad igual a prob\"\"\"\n",
    "    l = len(cromosoma)\n",
    "    p = random.randint(0, l - 1)\n",
    "    if prob > random.uniform(0, 1):\n",
    "        # Invertir el bit [p]\n",
    "        cromosoma[p] = (cromosoma[p] + 1) % 2\n",
    "    return cromosoma\n",
    "\n",
    "\n",
    "def fun_fitness_cuad(cromosoma):\n",
    "    \"\"\"Función de valoración que eleva al cuadrado el número recibido en binario\"\"\"\n",
    "    n = binario_a_decimal(cromosoma) ** 2\n",
    "    return n\n",
    "\n",
    "class ProblemaCuadrados(ProblemaGenetico):\n",
    "    def __init__(self,longitud_individuos,genes=[0,1]):\n",
    "        super().__init__(genes,binario_a_decimal,fun_mutar,fun_cruzar,fun_fitness_cuad, longitud_individuos)\n",
    "cuadrados = ProblemaCuadrados(genes=[0, 1], longitud_individuos=10)"
   ]
  },
  {
   "cell_type": "markdown",
   "metadata": {
    "datalore": {
     "hide_input_from_viewers": false,
     "hide_output_from_viewers": false,
     "node_id": "gHWZG1melJa55rgzDMN347",
     "report_properties": {},
     "type": "MD"
    }
   },
   "source": [
    "Una vez definida la instancia cuadrados que representa el problema genético, probar alguna de las funciones definidas en la clase anterior, para esta instancia concreta. Por ejemplo:"
   ]
  },
  {
   "cell_type": "code",
   "execution_count": 18,
   "metadata": {
    "datalore": {
     "hide_input_from_viewers": false,
     "hide_output_from_viewers": false,
     "node_id": "8Hipcqj4tQoeJaqRJ1bn3G",
     "report_properties": {},
     "type": "CODE"
    }
   },
   "outputs": [
    {
     "data": {
      "text/plain": [
       "1125"
      ]
     },
     "execution_count": 18,
     "metadata": {},
     "output_type": "execute_result"
    }
   ],
   "source": [
    "cuadrados.decodifica([1, 0, 0, 0, 1, 1, 0, 0, 1, 0, 1])\n",
    "# Salida esperada: 1125"
   ]
  },
  {
   "cell_type": "code",
   "execution_count": 19,
   "metadata": {
    "datalore": {
     "hide_input_from_viewers": false,
     "hide_output_from_viewers": false,
     "node_id": "IO3tTyo4GdY3v0aSnjnzjy",
     "report_properties": {},
     "type": "CODE"
    }
   },
   "outputs": [
    {
     "data": {
      "text/plain": [
       "1265625"
      ]
     },
     "execution_count": 19,
     "metadata": {},
     "output_type": "execute_result"
    }
   ],
   "source": [
    "cuadrados.fitness([1, 0, 0, 0, 1, 1, 0, 0, 1, 0, 1])\n",
    "# Salida esperada: 1265625"
   ]
  },
  {
   "cell_type": "code",
   "execution_count": 20,
   "metadata": {
    "datalore": {
     "hide_input_from_viewers": false,
     "hide_output_from_viewers": false,
     "node_id": "qtSAu6LgYZhRrihVOfKUYF",
     "report_properties": {},
     "type": "CODE"
    }
   },
   "outputs": [
    {
     "data": {
      "text/plain": [
       "[1, 0, 0, 0, 1, 1, 0, 0, 0, 0, 1]"
      ]
     },
     "execution_count": 20,
     "metadata": {},
     "output_type": "execute_result"
    }
   ],
   "source": [
    "cuadrados.muta([1, 0, 0, 0, 1, 1, 0, 0, 1, 0, 1], 0.1)\n",
    "# Posible salida: [1, 0, 0, 0, 1, 1, 0, 0, 1, 0, 1]"
   ]
  },
  {
   "cell_type": "code",
   "execution_count": 21,
   "metadata": {
    "datalore": {
     "hide_input_from_viewers": false,
     "hide_output_from_viewers": false,
     "node_id": "UwqcQCmEtbKZkOveyqsJAb",
     "report_properties": {},
     "type": "CODE"
    }
   },
   "outputs": [
    {
     "data": {
      "text/plain": [
       "[1, 0, 0, 0, 1, 1, 0, 0, 1, 0, 1]"
      ]
     },
     "execution_count": 21,
     "metadata": {},
     "output_type": "execute_result"
    }
   ],
   "source": [
    "cuadrados.muta([1, 0, 0, 0, 1, 1, 0, 0, 1, 0, 1], 0.1)\n",
    "# Posible salida: [0, 0, 0, 0, 1, 1, 0, 0, 1, 0, 1]"
   ]
  },
  {
   "cell_type": "code",
   "execution_count": 22,
   "metadata": {
    "datalore": {
     "hide_input_from_viewers": false,
     "hide_output_from_viewers": false,
     "node_id": "V5W8PHeNXhZVVbxnAV7lNb",
     "report_properties": {},
     "type": "CODE"
    }
   },
   "outputs": [
    {
     "data": {
      "text/plain": [
       "[[1, 0, 0, 0, 1, 0, 0, 1, 1, 1], [0, 1, 1, 0, 1, 1, 0, 0, 1, 0, 1]]"
      ]
     },
     "execution_count": 22,
     "metadata": {},
     "output_type": "execute_result"
    }
   ],
   "source": [
    "cuadrados.cruza([1, 0, 0, 0, 1, 1, 0, 0, 1, 0, 1], [0, 1, 1, 0, 1, 0, 0, 1, 1, 1])\n",
    "# Posible salida: [[1, 0, 0, 0, 1, 0, 0, 1, 1, 1], [0, 1, 1, 0, 1, 1, 0, 0, 1, 0, 1]]"
   ]
  },
  {
   "cell_type": "markdown",
   "metadata": {
    "datalore": {
     "hide_input_from_viewers": false,
     "hide_output_from_viewers": false,
     "node_id": "czdDk1h5wSYK0je3MhiaJh",
     "report_properties": {},
     "type": "MD"
    }
   },
   "source": [
    "### Ejercicio 2\n",
    "\n",
    "   - Os doy hecha una `función poblacion_inicial(problema_genetico,tamaño)`, para definir una población inicial de un tamaño dado, para una instancia dada de la clase anterior ProblemaGenetico\n",
    "\n",
    "sugerencia: usar `random.choice`\n",
    "\n",
    "   - Os doy hecha una función de cruce que recibe una instancia de `Problema_Genetico` y una población de padres (supondremos que hay un número par de padres), obtiene la población resultante de cruzarlos de dos en dos (en el orden en que aparecen)\n",
    "\n",
    "`cruza_padres(problema_genetico,padres)`\n",
    "\n",
    "   - Definir la función de mutación que recibe una instancia de `Problema_Genetico`, una población y una probabilidad de mutación, obtiene la población resultante de aplicar operaciones de mutación a cada individuo llamando a la función muta definida para el problema genético.\n",
    "\n",
    "`muta_individuos(problema_genetico, poblacion, prob)`"
   ]
  },
  {
   "cell_type": "code",
   "execution_count": 23,
   "metadata": {
    "datalore": {
     "hide_input_from_viewers": false,
     "hide_output_from_viewers": false,
     "node_id": "xW6UutPBa27XGd4phhTzC0",
     "report_properties": {},
     "type": "CODE"
    }
   },
   "outputs": [],
   "source": [
    "def poblacion_inicial(problema_genetico, size):\n",
    "    l = []  # población inicial\n",
    "    for i in range(size):  # añadimos a la población size individuos\n",
    "        x = []\n",
    "        for j in range(problema_genetico.longitud_individuos):  # los individuos se generan eligiendo sus genes\n",
    "            # de manera eleatoria de entre los genes posibles\n",
    "            x.append(random.choice(problema_genetico.genes))\n",
    "        l.append(x)\n",
    "    return l"
   ]
  },
  {
   "cell_type": "code",
   "execution_count": 24,
   "metadata": {
    "datalore": {
     "hide_input_from_viewers": false,
     "hide_output_from_viewers": false,
     "node_id": "BtwS2M0E00cLgUjiHhxGbg",
     "report_properties": {},
     "type": "CODE"
    }
   },
   "outputs": [
    {
     "data": {
      "text/plain": [
       "[[0, 0, 1, 0, 1, 0, 1, 1, 1, 1],\n",
       " [0, 0, 0, 0, 1, 0, 0, 1, 1, 1],\n",
       " [0, 1, 0, 0, 1, 0, 1, 1, 0, 0],\n",
       " [0, 1, 0, 1, 1, 1, 0, 0, 0, 1],\n",
       " [0, 1, 1, 0, 1, 1, 1, 1, 1, 1],\n",
       " [1, 1, 0, 1, 0, 1, 0, 1, 0, 0],\n",
       " [0, 0, 1, 1, 0, 1, 1, 0, 0, 1],\n",
       " [1, 0, 0, 0, 1, 1, 0, 0, 1, 0],\n",
       " [1, 0, 1, 0, 0, 1, 0, 0, 0, 1],\n",
       " [1, 1, 0, 0, 0, 1, 0, 1, 1, 1]]"
      ]
     },
     "execution_count": 24,
     "metadata": {},
     "output_type": "execute_result"
    }
   ],
   "source": [
    "# Generar 10 números < 2^10\n",
    "poblacion_inicial(cuadrados, 10)"
   ]
  },
  {
   "cell_type": "code",
   "execution_count": 25,
   "metadata": {
    "datalore": {
     "hide_input_from_viewers": false,
     "hide_output_from_viewers": false,
     "node_id": "cAzPKCmdCkm0bkBLJ4mTsv",
     "report_properties": {},
     "type": "CODE"
    }
   },
   "outputs": [],
   "source": [
    "def cruza_padres(problema_genetico, padres):\n",
    "    l = []\n",
    "    for i in range(len(padres) // 2):  # asumimos que la población de la que partimos tiene tamaño par\n",
    "        desc = problema_genetico.fun_cruza(padres[2 * i],\n",
    "                                           padres[2 * i + 1])  # El cruce se realiza con la función de cruce  \n",
    "        # proporcionada por el propio problema genético\n",
    "        l.append(desc[0])  # La población resultante se obtiene de cruzar el padre[0] con padre[1], padre[2] con padre[3]...\n",
    "        l.append(desc[1])  # y añadir cada par de descendientes a la nueva población\n",
    "    return l"
   ]
  },
  {
   "cell_type": "code",
   "execution_count": 26,
   "metadata": {
    "datalore": {
     "hide_input_from_viewers": false,
     "hide_output_from_viewers": false,
     "node_id": "r9tsdOJ980Z1CEKr71jq8u",
     "report_properties": {},
     "type": "CODE"
    }
   },
   "outputs": [
    {
     "data": {
      "text/plain": [
       "[[1, 1, 0, 1, 0, 0, 1, 0, 1, 1],\n",
       " [0, 1, 0, 1, 0, 1, 0, 0, 0, 1],\n",
       " [0, 0, 1, 0, 0, 1, 1, 1, 1, 0],\n",
       " [0, 0, 1, 1, 1, 0, 1, 1, 1, 0],\n",
       " [0, 1, 1, 0, 0, 0, 1, 1, 0, 1],\n",
       " [1, 0, 1, 1, 1, 0, 0, 0, 0, 0]]"
      ]
     },
     "execution_count": 26,
     "metadata": {},
     "output_type": "execute_result"
    }
   ],
   "source": [
    "p1 = [[1, 1, 0, 1, 0, 1, 0, 0, 0, 1],\n",
    "      [0, 1, 0, 1, 0, 0, 1, 0, 1, 1],\n",
    "      [0, 0, 1, 0, 0, 0, 1, 1, 1, 0],\n",
    "      [0, 0, 1, 1, 1, 1, 1, 1, 1, 0],\n",
    "      [0, 1, 1, 0, 0, 0, 0, 0, 0, 0],\n",
    "      [1, 0, 1, 1, 1, 0, 1, 1, 0, 1]]\n",
    "\n",
    "cruza_padres(cuadrados, p1)\n",
    "# Posible salida\n",
    "# [[1, 1, 0, 1, 0, 0, 1, 0, 1, 1],\n",
    "#  [0, 1, 0, 1, 0, 1, 0, 0, 0, 1],\n",
    "#  [0, 0, 1, 1, 1, 1, 1, 1, 1, 0],\n",
    "#  [0, 0, 1, 0, 0, 0, 1, 1, 1, 0],\n",
    "#  [0, 1, 1, 1, 1, 0, 1, 1, 0, 1],\n",
    "#  [1, 0, 1, 0, 0, 0, 0, 0, 0, 0]]"
   ]
  },
  {
   "cell_type": "code",
   "execution_count": 27,
   "metadata": {
    "datalore": {
     "hide_input_from_viewers": false,
     "hide_output_from_viewers": false,
     "node_id": "t5KOB2oJc3KbeCeTJJ3GaN",
     "report_properties": {},
     "type": "CODE"
    }
   },
   "outputs": [],
   "source": [
    "def muta_individuos(problema_genetico, poblacion, prob):\n",
    "    return [problema_genetico.muta(individuo,prob) for individuo in poblacion]\n",
    "\n",
    "# hay que llamar a problema_genetico.muta(x,prob) para todos los individuos de la poblacion."
   ]
  },
  {
   "cell_type": "code",
   "execution_count": 28,
   "metadata": {
    "datalore": {
     "hide_input_from_viewers": false,
     "hide_output_from_viewers": false,
     "node_id": "5kpgpp1afPkusvDHaC94tj",
     "report_properties": {},
     "type": "CODE"
    }
   },
   "outputs": [
    {
     "data": {
      "text/plain": [
       "[[1, 1, 0, 1, 0, 1, 0, 1, 0, 1],\n",
       " [0, 1, 0, 1, 0, 0, 1, 0, 1, 0],\n",
       " [0, 0, 1, 0, 1, 0, 1, 1, 1, 0],\n",
       " [0, 0, 1, 1, 1, 1, 1, 0, 1, 0],\n",
       " [0, 1, 1, 0, 0, 0, 0, 0, 0, 0],\n",
       " [1, 0, 1, 1, 1, 1, 1, 1, 0, 1]]"
      ]
     },
     "execution_count": 28,
     "metadata": {},
     "output_type": "execute_result"
    }
   ],
   "source": [
    "muta_individuos(cuadrados, p1, 0.5)\n",
    "# Posible salida:\n",
    "#  [[1, 1, 0, 1, 0, 1, 0, 0, 0, 1],\n",
    "#   [0, 1, 0, 1, 0, 0, 1, 0, 0, 1],\n",
    "#   [0, 0, 1, 0, 0, 0, 1, 0, 1, 0],\n",
    "#   [0, 0, 1, 1, 1, 1, 1, 1, 1, 0],\n",
    "#   [0, 1, 0, 0, 0, 0, 0, 0, 0, 0],\n",
    "#   [1, 0, 1, 1, 1, 0, 1, 1, 0, 1]]"
   ]
  },
  {
   "cell_type": "code",
   "execution_count": 29,
   "metadata": {
    "datalore": {
     "hide_input_from_viewers": false,
     "hide_output_from_viewers": false,
     "node_id": "eqkJ7preSJg9PzHMMeJ8Xd",
     "report_properties": {},
     "type": "CODE"
    }
   },
   "outputs": [],
   "source": [
    "p1 = [[1, 1, 0, 1, 0, 1, 0, 0, 0, 1],\n",
    "      [0, 1, 0, 1, 0, 0, 1, 0, 1, 1],\n",
    "      [0, 0, 1, 0, 0, 0, 1, 1, 1, 0],\n",
    "      [0, 0, 1, 1, 1, 1, 1, 1, 1, 0],\n",
    "      [0, 1, 1, 0, 0, 0, 0, 0, 0, 0],\n",
    "      [1, 0, 1, 1, 1, 0, 1, 1, 0, 1]]"
   ]
  },
  {
   "cell_type": "code",
   "execution_count": 30,
   "metadata": {
    "datalore": {
     "hide_input_from_viewers": false,
     "hide_output_from_viewers": false,
     "node_id": "zrLIyjO2ggfFLCu0KEaZ0B",
     "report_properties": {},
     "type": "CODE"
    }
   },
   "outputs": [
    {
     "data": {
      "text/plain": [
       "[[1, 1, 0, 1, 0, 1, 0, 0, 1, 1],\n",
       " [0, 1, 0, 1, 0, 0, 1, 1, 1, 1],\n",
       " [0, 0, 1, 0, 0, 0, 1, 1, 1, 0],\n",
       " [0, 0, 1, 1, 1, 1, 1, 0, 1, 0],\n",
       " [0, 0, 1, 0, 0, 0, 0, 0, 0, 0],\n",
       " [1, 0, 1, 1, 1, 0, 1, 1, 0, 1]]"
      ]
     },
     "execution_count": 30,
     "metadata": {},
     "output_type": "execute_result"
    }
   ],
   "source": [
    "muta_individuos(cuadrados, p1, 0.5)"
   ]
  },
  {
   "cell_type": "markdown",
   "metadata": {
    "datalore": {
     "hide_input_from_viewers": false,
     "hide_output_from_viewers": false,
     "node_id": "oy3uwbwVsY8Bd0NdVGz2fE",
     "report_properties": {},
     "type": "MD"
    }
   },
   "source": [
    "Vamos a definir una **función de selección** mediante torneo de `n` individuos de una población.\n",
    "\n",
    "La función recibe como entrada:\n",
    " - una instancia de la clase `ProblemaGenetico`\n",
    " - una población\n",
    " - el número n de individuos que vamos a seleccionar\n",
    " - el número k de participantes en el torneo\n",
    " - un valor `opt` que puede ser o la función max o la función min (dependiendo de si el problema es de maximización o de minimización, resp.).\n",
    "\n",
    "`seleccion_por_torneo(problema_genetico,poblacion,n,k,opt)`\n",
    "\n",
    "Usar `random.sample` para seleccionar k elementos de una secuencia.\n",
    "\n",
    "Por ejemplo, `random.sample(population=[2,5,7,8,9], k=3)` devuelve `[7,5,8]`. "
   ]
  },
  {
   "cell_type": "code",
   "execution_count": 31,
   "metadata": {
    "datalore": {
     "hide_input_from_viewers": false,
     "hide_output_from_viewers": false,
     "node_id": "2Jmgxz2oMjgoPXRsfhVsUS",
     "report_properties": {},
     "type": "CODE"
    }
   },
   "outputs": [],
   "source": [
    "def seleccion_por_torneo(problema_genetico, poblacion, n, k, opt):\n",
    "    \"\"\"Selección por torneo de n individuos de una población. Siendo k el nº de participantes\n",
    "        y opt la función max o min.\"\"\"\n",
    "    seleccionados = []\n",
    "    for i in range(n):\n",
    "        participantes = random.sample(poblacion, k)\n",
    "\n",
    "        # El parámetro key es para cambiar el criterio de ordenación\n",
    "        seleccionado = opt(participantes, key=problema_genetico.fitness)\n",
    "        opt(poblacion, key=problema_genetico.fitness)\n",
    "        seleccionados.append(seleccionado)\n",
    "        # poblacion.remove(seleccionado)\n",
    "    return seleccionados  "
   ]
  },
  {
   "cell_type": "code",
   "execution_count": 32,
   "metadata": {
    "datalore": {
     "hide_input_from_viewers": false,
     "hide_output_from_viewers": false,
     "node_id": "TDXpO9gr9wW3Sw9HWTRREy",
     "report_properties": {},
     "type": "CODE"
    }
   },
   "outputs": [
    {
     "data": {
      "text/plain": [
       "[[1, 1, 1, 0, 0, 0, 0, 0, 0, 1],\n",
       " [1, 1, 1, 0, 0, 0, 0, 0, 0, 1],\n",
       " [1, 1, 1, 0, 0, 1, 0, 1, 0, 0]]"
      ]
     },
     "execution_count": 32,
     "metadata": {},
     "output_type": "execute_result"
    }
   ],
   "source": [
    "# Ejemplo\n",
    "seleccion_por_torneo(cuadrados, poblacion_inicial(cuadrados, 8), 3, 6, max)\n",
    "# Posible salida: [[1, 1, 1, 1, 1, 0, 0, 0, 1, 1], [1, 0, 0, 1, 1, 1, 0, 1, 0, 1], [1, 1, 1, 1, 0, 1, 1, 1, 0, 1]]"
   ]
  },
  {
   "cell_type": "code",
   "execution_count": 33,
   "metadata": {
    "datalore": {
     "hide_input_from_viewers": false,
     "hide_output_from_viewers": false,
     "node_id": "SlQ4suN1WEGyGL26Clw53u",
     "report_properties": {},
     "type": "CODE"
    }
   },
   "outputs": [
    {
     "data": {
      "text/plain": [
       "[[0, 0, 0, 0, 1, 0, 0, 0, 0, 1],\n",
       " [0, 0, 0, 1, 1, 1, 0, 0, 1, 0],\n",
       " [0, 0, 0, 1, 1, 1, 0, 0, 1, 0]]"
      ]
     },
     "execution_count": 33,
     "metadata": {},
     "output_type": "execute_result"
    }
   ],
   "source": [
    "seleccion_por_torneo(cuadrados, poblacion_inicial(cuadrados, 8), 3, 6, min)\n",
    "# [[0, 0, 1, 1, 0, 1, 1, 0, 0, 0], [1, 0, 1, 0, 1, 1, 1, 0, 0, 0], [1, 1, 0, 1, 0, 0, 1, 0, 1, 0]]"
   ]
  },
  {
   "cell_type": "code",
   "execution_count": 34,
   "metadata": {
    "datalore": {
     "hide_input_from_viewers": false,
     "hide_output_from_viewers": false,
     "node_id": "kGSXorIm31ViXd55nwUPb1",
     "report_properties": {},
     "type": "CODE"
    }
   },
   "outputs": [],
   "source": [
    "# La siguiente función implementa una posibilidad para el algoritmo genético completo: \n",
    "# inicializa t = 0 \n",
    "# Generar y evaluar la Población P(t)\n",
    "# Mientras no hemos llegado al número de generaciones fijado:  t < nGen\n",
    "#    P1 = Selección por torneo de (1-size)·p individuos de P(t)\n",
    "#    P2 = Selección por torneo de (size·p) individuos de P(t)\n",
    "#    Aplicar cruce en la población P2\n",
    "#    P4 = Union de P1 y P3\n",
    "#    P(t + 1) := Aplicar mutación P4 \n",
    "#    Evalua la población P(t + 1) \n",
    "#    t:= t + 1\n",
    "\n",
    "# Sus argumentos son:\n",
    "# problema_genetico: una instancia de la clase ProblemaGenetico con la representación adecuada del problema de optimización \n",
    "# que se quiere resolver.\n",
    "# k: número de participantes en los torneos de selección.\n",
    "# opt: max ó min, dependiendo si el problema es de maximización o de minimización. \n",
    "# nGen: número de generaciones (que se usa como condición de terminación)\n",
    "# size: número de individuos en cada generación\n",
    "# prop_cruce: proporción del total de la población que serán padres. \n",
    "# prob_mutación: probabilidad de realizar una mutación de un gen.\n",
    "\n",
    "def algoritmo_genetico(problema_genetico, k, opt, ngen, size, prob_cruces, prob_mutar):\n",
    "    poblacion = poblacion_inicial(problema_genetico, size)\n",
    "    n_padres = round(size * prob_cruces)\n",
    "    n_padres = int(n_padres if n_padres % 2 == 0 else n_padres - 1)\n",
    "    n_directos = size - n_padres\n",
    "    for _ in range(ngen):\n",
    "        poblacion = nueva_generacion(problema_genetico, k, opt, poblacion, n_padres, n_directos, prob_mutar)\n",
    "\n",
    "    mejor_cr = opt(poblacion, key=problema_genetico.fitness)\n",
    "    mejor = problema_genetico.decodifica(mejor_cr)\n",
    "    return (mejor, problema_genetico.fitness(mejor_cr)) "
   ]
  },
  {
   "cell_type": "markdown",
   "metadata": {
    "datalore": {
     "hide_input_from_viewers": false,
     "hide_output_from_viewers": false,
     "node_id": "BImwVGghSFwED372MTgiOm",
     "report_properties": {},
     "type": "MD"
    }
   },
   "source": [
    "Necesitarás definir la función auxiliar `nueva_generacion(problema_genetico, poblacion, n_padres, n_directos, prob_mutar)` que dada una población calcula la siguiente generación."
   ]
  },
  {
   "cell_type": "code",
   "execution_count": 35,
   "metadata": {
    "datalore": {
     "hide_input_from_viewers": false,
     "hide_output_from_viewers": false,
     "node_id": "DDlJR9iTtjUcTIr93n7tOb",
     "report_properties": {},
     "type": "CODE"
    }
   },
   "outputs": [],
   "source": [
    "# Definir la función nueva_generacion\n",
    "def nueva_generacion(problema_genetico, k, opt, poblacion, n_padres, n_directos, prob_mutar):\n",
    "    #Padres\n",
    "    padres2 = seleccion_por_torneo(problema_genetico, poblacion, n_directos, k, opt)\n",
    "    padres1 = seleccion_por_torneo(problema_genetico, poblacion, n_padres, k, opt)\n",
    "    #Cruzamos a los padres entre ellos\n",
    "    cruces = cruza_padres(problema_genetico, padres1)\n",
    "    generacion = padres2 + cruces\n",
    "    #Llevamos a cabo mutaciones si corresponde\n",
    "    resultado_mutaciones = muta_individuos(problema_genetico, generacion, prob_mutar)\n",
    "    return resultado_mutaciones"
   ]
  },
  {
   "cell_type": "markdown",
   "metadata": {
    "datalore": {
     "hide_input_from_viewers": false,
     "hide_output_from_viewers": false,
     "node_id": "NQlBecXH1rCEIvx79PXKjO",
     "report_properties": {},
     "type": "MD"
    }
   },
   "source": [
    "### Ejercicio 3.  Ejecutar el algoritmo genético anterior, para resolver el problema anterior (tanto en minimización como en maximización) para la función cuadrado y para otra función. \n",
    "\n",
    "Se puede comenzar probando los resultados y comportamiento del algorimto para la función $x\\mapsto x^2$ ya que sabemos la solución. \n",
    "Después hacer una valoración de resultados y comentarios sobre el comportamiento del algoritmmo para otra función. \n",
    "Puedes elegir cualquier otra función.\n",
    "($f(x) = \\left|\\frac{x-12}{2+\\sin(x)}\\right|$  entre X=-5 y X=25)\n",
    "\n",
    "En la resolución del problema hay que tener en cuenta que el algoritmo genético devuelve un par con el mejor fenotipo encontrado y su valoración.\n",
    "\n",
    "Se puede calcular el número de veces que el algoritmo alcanza la solución óptima modificando parámetros como:\n",
    "\n",
    "- `k`=número de participantes del torneo\n",
    "\n",
    "- `ngen`=número de generaciones\n",
    "\n",
    "- `size`=tamaño de la población\n",
    "\n",
    "- `prob_cruce`=probabilidad de cruce\n",
    "\n",
    "- `prob_mutacion`=probabilidad de mutacion\n",
    "\n",
    "Realizar pruebas para un número suficiente de ejecuciones para las cuales queremos estudiar cual es el porcentaje de optimalidad del algoritmo para los distintos parámetros y de ahí sacar conclusiones. Para determinar el número de veces que una solución es éxitosa se pueden considerar soluciones aproximadas, por ejemplo, que para el problema de minimización es exitosa si la solución es menor que 23 y para el problema de maximización una solución será exitosa si es mayor que 1000."
   ]
  },
  {
   "cell_type": "markdown",
   "metadata": {
    "datalore": {
     "hide_input_from_viewers": true,
     "hide_output_from_viewers": true,
     "node_id": "0jCiyLo6LQAJDkODvIu625",
     "type": "MD"
    }
   },
   "source": [
    "#### Resolución de maximización y minimización de $x\\mapsto x^2$ "
   ]
  },
  {
   "cell_type": "markdown",
   "metadata": {
    "datalore": {
     "hide_input_from_viewers": true,
     "hide_output_from_viewers": true,
     "node_id": "38B3vmTQczuPlA0DlsV9Iq",
     "type": "MD"
    }
   },
   "source": [
    "Procedemos a resolver, usando la función definida en el ejericicio anterior, el problema `cuadrados`, que consiste en maximizar (o minimizar, dependiendo del parámetro `opt`) la función $x^2$. El interés de usar esta función es que ya conocemos sus valores óptimos (sean máximos o mínimos) para cualquier intervalo. Así podemos comprobar fácilmente si las soluciones de `algoritmo_genetico` son o no aceptables. Recordamos que `algoritmo_genetico` devuelve una tupla con el punto donde se alcanza el valor óptimo (según el algoritmo), junto con el valor en sí."
   ]
  },
  {
   "cell_type": "markdown",
   "metadata": {
    "datalore": {
     "hide_input_from_viewers": true,
     "hide_output_from_viewers": true,
     "node_id": "qHzeklSsiqDuIORbbixRWT",
     "type": "MD"
    }
   },
   "source": [
    "Para poder hacernos una buena idea del rendimiento del algoritmo, y debido a que es un algoritmo no determinista, pedimos que resuelva el mismo problema varias veces, donde la población inicial se generará de forma aleatoria. A partir de estas ejecuciones podemos juzgar el rendimiento de `algoritmo_genético` tomando la media de las soluciones"
   ]
  },
  {
   "cell_type": "code",
   "execution_count": 36,
   "metadata": {
    "datalore": {
     "hide_input_from_viewers": true,
     "hide_output_from_viewers": true,
     "node_id": "V0A8edPiU9sTd3qPk1QBlK",
     "type": "CODE"
    }
   },
   "outputs": [],
   "source": [
    "def puntuacion_media_y_resultados(problema, iterations = 100, **kwargs):\n",
    "    assert iterations > 0\n",
    "    resultados = [algoritmo_genetico(problema, **kwargs) for _ in range(iterations)]\n",
    "    print(f\"Puntuación media: {sum(score for _, score in resultados)/iterations}\")\n",
    "    return resultados"
   ]
  },
  {
   "cell_type": "markdown",
   "metadata": {
    "datalore": {
     "hide_input_from_viewers": true,
     "hide_output_from_viewers": true,
     "node_id": "bPopaQdu5kNAxaI0BJtepe",
     "type": "MD"
    }
   },
   "source": [
    "Empezamos probando el algoritmo para resolver el problema de minimizar $x^2$ cuando los individuos pueden tener hasta 10 bits de tamaño. Sabemos que $x^2$ alcanza el mínimo en $0$, así que esperamos obtener $0$ como valor mínimo, y $0$ como individuo que alcanza ese valor."
   ]
  },
  {
   "cell_type": "code",
   "execution_count": 37,
   "metadata": {
    "datalore": {
     "hide_input_from_viewers": false,
     "hide_output_from_viewers": false,
     "node_id": "51AeW5A5Mfv0tMRzL1WuBr",
     "report_properties": {},
     "type": "CODE"
    }
   },
   "outputs": [
    {
     "name": "stdout",
     "output_type": "stream",
     "text": [
      "Puntuación media: 674.96\n"
     ]
    }
   ],
   "source": [
    "resultados = puntuacion_media_y_resultados(ProblemaCuadrados(10), k=3, opt=min, ngen=20, size=10, prob_cruces=0.7, prob_mutar=0.1)"
   ]
  },
  {
   "cell_type": "markdown",
   "metadata": {
    "datalore": {
     "hide_input_from_viewers": true,
     "hide_output_from_viewers": true,
     "node_id": "27Fubc9Yl37n2wl2Oq2NBs",
     "type": "MD"
    }
   },
   "source": [
    "Observamos que el valor obtenido es notablemente más grande que el esperado. Pero no pasa nada, esto no significa que el algoritmo esté funcionando mal, simplemente que los números con los que estamos trabajando son muy grandes. Al fin y al cabo, si nuestros individuos tienen 10 bits para tomar valores, el valor máximo de función de fitness que podemos obtener es $1023^2 \\approx 10^6$, el cual es bastante mayor que el resultado que obtenemos. (La función de fitness eleva al cuadrado el resultado de convertir binario al decimal.)"
   ]
  },
  {
   "cell_type": "code",
   "execution_count": 38,
   "metadata": {
    "datalore": {
     "hide_input_from_viewers": true,
     "hide_output_from_viewers": true,
     "node_id": "HkTmMbU5jmSMR13ifvnuH5",
     "type": "CODE"
    }
   },
   "outputs": [
    {
     "name": "stdout",
     "output_type": "stream",
     "text": [
      "Relativamente, nuestros resultados se alejan un 0.0006449510715899894% del verdadero valor óptimo, lo cual es negligente\n"
     ]
    }
   ],
   "source": [
    "avg = sum(score for _,score in resultados) / len(resultados)\n",
    "print(f\"Relativamente, nuestros resultados se alejan un {avg / 1023**2}% del verdadero valor óptimo, lo cual es negligente\")"
   ]
  },
  {
   "cell_type": "markdown",
   "metadata": {
    "datalore": {
     "hide_input_from_viewers": true,
     "hide_output_from_viewers": true,
     "node_id": "ZQ6tlse8HOspST2pWfZLwt",
     "type": "MD"
    }
   },
   "source": [
    "Otra forma de ver que nuestro algoritmo se comporta adecuadamente es fijarse en las soluciones obtenidas. Todas estas comparten que tienen pocos `1`s en su representación, es decir, están compuestas mayoritariamente por `0`s. \n",
    "\n",
    "Esto tiene sentido, pues en nuestras funciones de cruce y mutación tratamos a todas las posiciones por igual, y estas benefician a la función de fitness cuando son 0. \n",
    "\n",
    "Esto resulta en que los `0`s sean más comunes en los individuos que han evolucionado. Además, aunque nunca expresamos nuestra preferencia por `1`s en las posiciones más bajas, los individuos también exhiben menos `1`s en posiciones altas que en bajas pues lo acaban \"aprendiendo\" de la función de fitness, que si realiza esa discriminación."
   ]
  },
  {
   "cell_type": "code",
   "execution_count": 39,
   "metadata": {
    "datalore": {
     "hide_input_from_viewers": true,
     "hide_output_from_viewers": true,
     "node_id": "UhKMJKfpBa1rspv7TMquVB",
     "type": "CODE"
    }
   },
   "outputs": [
    {
     "name": "stdout",
     "output_type": "stream",
     "text": [
      "         0\n",
      "         0\n",
      "         0\n",
      "         0\n",
      "         0\n",
      "         0\n",
      "         0\n",
      "    100000\n",
      "         1\n",
      "         1\n",
      "  10000000\n",
      "         0\n",
      "         0\n",
      "         0\n",
      "         0\n",
      "   1000000\n",
      "         0\n",
      "         0\n",
      "       101\n",
      "         0\n",
      "         0\n",
      "   1000000\n",
      "         1\n",
      "       101\n",
      "         0\n",
      "     10000\n",
      "         0\n",
      "    100000\n",
      "        10\n",
      "    100000\n",
      "    100000\n",
      "    100000\n",
      "         0\n",
      "         0\n",
      "         0\n",
      "         0\n",
      "    100000\n",
      "         0\n",
      "         1\n",
      "        10\n",
      "         0\n",
      "    100000\n",
      "         0\n",
      "         0\n",
      "  10000000\n",
      "         0\n",
      "         0\n",
      "         0\n",
      "   1000000\n",
      "         0\n",
      "         0\n",
      "         0\n",
      "         0\n",
      "         0\n",
      "         0\n",
      "    100000\n",
      "       100\n",
      "         0\n",
      "         0\n",
      "    100000\n",
      "         0\n",
      "         0\n",
      "      1001\n",
      "         0\n",
      "         0\n",
      "         0\n",
      "      1000\n",
      "         0\n",
      "    100000\n",
      "         0\n",
      "      1011\n",
      "         1\n",
      "         0\n",
      "    100000\n",
      "         0\n",
      "         0\n",
      "         0\n",
      "       101\n",
      "         0\n",
      "         0\n",
      "        10\n",
      "   1000000\n",
      "         0\n",
      "         0\n",
      "         0\n",
      "         0\n",
      "       101\n",
      "         0\n",
      "       110\n",
      "         1\n",
      "   1000000\n",
      "      1000\n",
      "      1000\n",
      "         0\n",
      "    100000\n",
      "       100\n",
      "         0\n",
      "    100000\n",
      "      1010\n",
      "         0\n"
     ]
    }
   ],
   "source": [
    "for individuo, _ in resultados:\n",
    "    print(bin(individuo)[2:].rjust(10))"
   ]
  },
  {
   "cell_type": "markdown",
   "metadata": {
    "datalore": {
     "hide_input_from_viewers": true,
     "hide_output_from_viewers": true,
     "node_id": "jpDJlYsm5NJ1JviGQKjYZo",
     "type": "MD"
    }
   },
   "source": [
    "Así, pasamos a analizar nuestro algoritmo usando la siguiente función, que recoge las observaciones que hemos hecho"
   ]
  },
  {
   "cell_type": "code",
   "execution_count": 40,
   "metadata": {
    "datalore": {
     "hide_input_from_viewers": true,
     "hide_output_from_viewers": true,
     "node_id": "LRhrvHy6VV9eKcvpQL2x0k",
     "type": "CODE"
    }
   },
   "outputs": [],
   "source": [
    "def analizar_algoritmo_genetico(problema: ProblemaGenetico, iteraciones = 100, opt = min, **kwargs):\n",
    "    resultados = [algoritmo_genetico(problema,**kwargs,opt=opt) for _ in range(iteraciones)]\n",
    "    \n",
    "    puntuacion_media = sum(score for _, score in resultados)/iteraciones\n",
    "\n",
    "    valor_maximo = (2**(problema.longitud_individuos)-1)**2\n",
    "    valor_minimo = 0\n",
    "    rango = valor_maximo - valor_minimo\n",
    "    valor_optimo = opt(valor_maximo,valor_minimo)\n",
    "    \n",
    "    avg = sum(score for _, score in resultados) / iteraciones\n",
    "    aprox_relativa = abs(valor_optimo - avg) / rango\n",
    "    print(f\"Puntuación media: {puntuacion_media}\")\n",
    "    print(f\"Verdadero valor óptimo: {valor_optimo}\")\n",
    "    print(f\"Aproximación relativa: {aprox_relativa}%\")\n",
    "    return puntuacion_media, valor_optimo, aprox_relativa"
   ]
  },
  {
   "cell_type": "markdown",
   "metadata": {
    "datalore": {
     "hide_input_from_viewers": true,
     "hide_output_from_viewers": true,
     "node_id": "0kDXAKuqk4ehzGup4oL3p4",
     "type": "MD"
    }
   },
   "source": [
    "Ahora procedemos a probar el rendimiento del anterior algoritmo para distintos valores de los hiperparámetros"
   ]
  },
  {
   "cell_type": "code",
   "execution_count": 41,
   "metadata": {
    "datalore": {
     "hide_input_from_viewers": true,
     "hide_output_from_viewers": true,
     "node_id": "VY8xBrko5aDncH0gpC8FmV",
     "type": "CODE"
    },
    "scrolled": true
   },
   "outputs": [
    {
     "name": "stdout",
     "output_type": "stream",
     "text": [
      "=== k=2 prob_cruces=0.2 prob_mutar=0.1 ===\n",
      "Puntuación media: 3958.308\n",
      "Verdadero valor óptimo: 0\n",
      "Aproximación relativa: 0.003782320413481136%\n",
      "\n",
      "=== k=2 prob_cruces=0.2 prob_mutar=0.5 ===\n",
      "Puntuación media: 8188.071\n",
      "Verdadero valor óptimo: 0\n",
      "Aproximación relativa: 0.007824026854487548%\n",
      "\n",
      "=== k=2 prob_cruces=0.7 prob_mutar=0.1 ===\n",
      "Puntuación media: 2819.21\n",
      "Verdadero valor óptimo: 0\n",
      "Aproximación relativa: 0.0026938670595845885%\n",
      "\n",
      "=== k=2 prob_cruces=0.7 prob_mutar=0.5 ===\n",
      "Puntuación media: 127.163\n",
      "Verdadero valor óptimo: 0\n",
      "Aproximación relativa: 0.00012150929405682977%\n",
      "\n",
      "=== k=3 prob_cruces=0.2 prob_mutar=0.1 ===\n",
      "Puntuación media: 2295.042\n",
      "Verdadero valor óptimo: 0\n",
      "Aproximación relativa: 0.002193003729471424%\n",
      "\n",
      "=== k=3 prob_cruces=0.2 prob_mutar=0.5 ===\n",
      "Puntuación media: 4101.188\n",
      "Verdadero valor óptimo: 0\n",
      "Aproximación relativa: 0.003918847924902225%\n",
      "\n",
      "=== k=3 prob_cruces=0.7 prob_mutar=0.1 ===\n",
      "Puntuación media: 1489.331\n",
      "Verdadero valor óptimo: 0\n",
      "Aproximación relativa: 0.00142311488740398%\n",
      "\n",
      "=== k=3 prob_cruces=0.7 prob_mutar=0.5 ===\n",
      "Puntuación media: 2.479\n",
      "Verdadero valor óptimo: 0\n",
      "Aproximación relativa: 2.3687829004260753e-06%\n",
      "\n",
      "=== k=4 prob_cruces=0.2 prob_mutar=0.1 ===\n",
      "Puntuación media: 2151.212\n",
      "Verdadero valor óptimo: 0\n",
      "Aproximación relativa: 0.002055568455341419%\n",
      "\n",
      "=== k=4 prob_cruces=0.2 prob_mutar=0.5 ===\n",
      "Puntuación media: 2747.256\n",
      "Verdadero valor óptimo: 0\n",
      "Aproximación relativa: 0.0026251121564715356%\n",
      "\n",
      "=== k=4 prob_cruces=0.7 prob_mutar=0.1 ===\n",
      "Puntuación media: 1211.592\n",
      "Verdadero valor óptimo: 0\n",
      "Aproximación relativa: 0.0011577242484441426%\n",
      "\n",
      "=== k=4 prob_cruces=0.7 prob_mutar=0.5 ===\n",
      "Puntuación media: 0.448\n",
      "Verdadero valor óptimo: 0\n",
      "Aproximación relativa: 4.2808178273129554e-07%\n",
      "\n"
     ]
    }
   ],
   "source": [
    "possible_k = [2,3,4]\n",
    "possible_prob_cruces = [0.2, 0.7]\n",
    "possible_prob_mutar = [0.1,0.5]\n",
    "#metricas = {\n",
    "#    \"k\": [],\n",
    "#    \"prob_cruces\": [],\n",
    "#    \"prob_mutar\": [],\n",
    "#    \"puntuacion_media\": [],\n",
    "#    \"aproximacion_relativa\": []\n",
    "#}\n",
    "for k in possible_k:\n",
    "    for prob_cruces in possible_prob_cruces:\n",
    "        for prob_mutar in possible_prob_mutar:\n",
    "            print(f\"=== {k=} {prob_cruces=} {prob_mutar=} ===\")\n",
    "            puntuacion_media, a, aproximacion_relativa = analizar_algoritmo_genetico(ProblemaCuadrados(10),\n",
    "                                        iteraciones=1000,\n",
    "                                        ngen=20,size=10, # Estos hiperparámetros los dejamso fijos, pues siempre ayuda incrementarlos\n",
    "                                        k=k,opt=min,prob_cruces=prob_cruces,prob_mutar=prob_mutar)\n",
    "            #metricas['k'].append(k)\n",
    "            #metricas['prob_cruces'].append(prob_cruces)\n",
    "            #metricas['prob_mutar'].append(prob_mutar)\n",
    "            #metricas['puntuacion_media'].append(puntuacion_media)\n",
    "            #metricas['aproximacion_relativa'].append(aproximacion_relativa)\n",
    "\n",
    "            print()"
   ]
  },
  {
   "cell_type": "markdown",
   "metadata": {
    "datalore": {
     "hide_input_from_viewers": true,
     "hide_output_from_viewers": true,
     "node_id": "LUDLOMRRd2UrwtGLxOQNO7",
     "type": "MD"
    }
   },
   "source": [
    "De los datos obtenidos, podemos ver que los mejores resultados se dan cuando tenemos `prob_cruce` alta, lo cual es esperado, y `prob_mutar` relativamente alta también. Esto también tiene sentido, pues aunque nuestra función de cruce introduce la posibilidad\n",
    "de bajar el valor de cada individuo, en este problema de juguete la aleatoriedad es la única forma con la que \"deshacerse\" de los `1`s en los genes, lo cual supone un gran beneficio."
   ]
  },
  {
   "cell_type": "markdown",
   "metadata": {
    "datalore": {
     "hide_input_from_viewers": true,
     "hide_output_from_viewers": true,
     "node_id": "Eu6tsW6DSJ7OQOXl87qzB4",
     "type": "MD"
    }
   },
   "source": [
    "En el caso del problema de maximización, repetimos las mismas pruebas"
   ]
  },
  {
   "cell_type": "code",
   "execution_count": 42,
   "metadata": {
    "datalore": {
     "hide_input_from_viewers": true,
     "hide_output_from_viewers": true,
     "node_id": "vii1iVmbryhqN1ZOm7pg4E",
     "type": "CODE"
    },
    "scrolled": true
   },
   "outputs": [
    {
     "name": "stdout",
     "output_type": "stream",
     "text": [
      "=== k=2 prob_cruces=0.2 prob_mutar=0.1 ===\n",
      "Puntuación media: 989127.503\n",
      "Verdadero valor óptimo: 1046529\n",
      "Aproximación relativa: 0.05484940885536853%\n",
      "\n",
      "=== k=2 prob_cruces=0.2 prob_mutar=0.5 ===\n",
      "Puntuación media: 934333.999\n",
      "Verdadero valor óptimo: 1046529\n",
      "Aproximación relativa: 0.10720677687861498%\n",
      "\n",
      "=== k=2 prob_cruces=0.7 prob_mutar=0.1 ===\n",
      "Puntuación media: 1003876.866\n",
      "Verdadero valor óptimo: 1046529\n",
      "Aproximación relativa: 0.04075580705360288%\n",
      "\n",
      "=== k=2 prob_cruces=0.7 prob_mutar=0.5 ===\n",
      "Puntuación media: 1037893.65\n",
      "Verdadero valor óptimo: 1046529\n",
      "Aproximación relativa: 0.008251419693099738%\n",
      "\n",
      "=== k=3 prob_cruces=0.2 prob_mutar=0.1 ===\n",
      "Puntuación media: 1007950.449\n",
      "Verdadero valor óptimo: 1046529\n",
      "Aproximación relativa: 0.0368633368019424%\n",
      "\n",
      "=== k=3 prob_cruces=0.2 prob_mutar=0.5 ===\n",
      "Puntuación media: 971417.698\n",
      "Verdadero valor óptimo: 1046529\n",
      "Aproximación relativa: 0.07177183049872486%\n",
      "\n",
      "=== k=3 prob_cruces=0.7 prob_mutar=0.1 ===\n",
      "Puntuación media: 1014265.903\n",
      "Verdadero valor óptimo: 1046529\n",
      "Aproximación relativa: 0.030828669821858688%\n",
      "\n",
      "=== k=3 prob_cruces=0.7 prob_mutar=0.5 ===\n",
      "Puntuación media: 1045297.854\n",
      "Verdadero valor óptimo: 1046529\n",
      "Aproximación relativa: 0.0011764088716126832%\n",
      "\n",
      "=== k=4 prob_cruces=0.2 prob_mutar=0.1 ===\n",
      "Puntuación media: 1013090.398\n",
      "Verdadero valor óptimo: 1046529\n",
      "Aproximación relativa: 0.03195191150938001%\n",
      "\n",
      "=== k=4 prob_cruces=0.2 prob_mutar=0.5 ===\n",
      "Puntuación media: 988136.589\n",
      "Verdadero valor óptimo: 1046529\n",
      "Aproximación relativa: 0.05579626651530915%\n",
      "\n",
      "=== k=4 prob_cruces=0.7 prob_mutar=0.1 ===\n",
      "Puntuación media: 1021553.602\n",
      "Verdadero valor óptimo: 1046529\n",
      "Aproximación relativa: 0.023864984152374223%\n",
      "\n",
      "=== k=4 prob_cruces=0.7 prob_mutar=0.5 ===\n",
      "Puntuación media: 1046158.058\n",
      "Verdadero valor óptimo: 1046529\n",
      "Aproximación relativa: 0.0003544498050221629%\n",
      "\n"
     ]
    }
   ],
   "source": [
    "for k in possible_k:\n",
    "    for prob_cruces in possible_prob_cruces:\n",
    "        for prob_mutar in possible_prob_mutar:\n",
    "            print(f\"=== {k=} {prob_cruces=} {prob_mutar=} ===\")\n",
    "            puntuacion_media, a, aproximacion_relativa = analizar_algoritmo_genetico(ProblemaCuadrados(10),\n",
    "                                        iteraciones=1000,\n",
    "                                        ngen=20,size=10, # Estos hiperparámetros los dejamso fijos, pues siempre ayuda incrementarlos\n",
    "                                        k=k,opt=max,prob_cruces=prob_cruces,prob_mutar=prob_mutar)\n",
    "            #metricas['k'].append(k)\n",
    "            #metricas['prob_cruces'].append(prob_cruces)\n",
    "            #metricas['prob_mutar'].append(prob_mutar)\n",
    "            #metricas['puntuacion_media'].append(puntuacion_media)\n",
    "            #metricas['aproximacion_relativa'].append(aproximacion_relativa)\n",
    "\n",
    "            print()"
   ]
  },
  {
   "cell_type": "markdown",
   "metadata": {
    "datalore": {
     "hide_input_from_viewers": true,
     "hide_output_from_viewers": true,
     "node_id": "K5K6kfEBr985IK00nKWIps",
     "type": "MD"
    }
   },
   "source": [
    "Los resultados obtenidos para el problema de maximización son casi equivalentes a los obtenidos para el problema de minimización, pero siempre con una aproximación relativa más grande. Esto tiene sentido, pues las diferencias entre el valor máximo y los valores obtenidos por el algoritmo no son uniformes, sino cuadráticas, así que cuanto más grandes sean los números, mayores serán las distancias relativas de las soluciones. Lo que se mantiene invariante es que los mejores resultados se dan con mayor `k`, y probabilidades más altas de cruce y de mutación."
   ]
  },
  {
   "cell_type": "markdown",
   "metadata": {
    "datalore": {
     "hide_input_from_viewers": true,
     "hide_output_from_viewers": true,
     "node_id": "b9fTHEqrvOeIgYGDIPbcY2",
     "type": "MD"
    }
   },
   "source": [
    "#### Resolución de maximización y minimización de una función a elección del alumno"
   ]
  },
  {
   "cell_type": "markdown",
   "metadata": {
    "datalore": {
     "hide_input_from_viewers": true,
     "hide_output_from_viewers": true,
     "node_id": "GOQXcBv55l2xorCjLpCHB0",
     "report_properties": {},
     "type": "MD"
    }
   },
   "source": [
    "Para este apartado hemos elegido la **función Rosenbrock**, así que vamos a llevar a cabo el mismo proceso que hemos seguido para la función $x^2$. La función se define, para dos variables como:\n",
    "\n",
    "$$\n",
    "f(x,y) = (a-x)^2 + b (y - x^2)^2\n",
    "$$\n",
    "\n",
    "Vamos a empezar fijando una de las dos variables para que sea más sencillo resolverlo. Fijamos la variable $y$ a un valor. La función original presenta los mínimos en valores no enteros cercanos al cero. Es por eso que vamos a dividir la entrada de la función por 1000 para poder así representar números con tres cifras decimales como números enteros y de ésta forma obtener soluciones más aproximadas, sin perder la forma de representación en números binarios."
   ]
  },
  {
   "cell_type": "code",
   "execution_count": 43,
   "metadata": {
    "datalore": {
     "hide_input_from_viewers": true,
     "hide_output_from_viewers": true,
     "node_id": "BXBpy8gvZuN3WRc6icXLUG",
     "report_properties": {},
     "type": "CODE"
    }
   },
   "outputs": [],
   "source": [
    "def rosenbrock(a,b,y,scale=1000):\n",
    "    return lambda x : (a-x/scale)**2 + b*(y-(x/scale)**2)**2"
   ]
  },
  {
   "cell_type": "code",
   "execution_count": 44,
   "metadata": {
    "datalore": {
     "hide_input_from_viewers": true,
     "hide_output_from_viewers": true,
     "node_id": "kIMNoWFUoR7g56CnxV3Hdd",
     "report_properties": {},
     "type": "CODE"
    }
   },
   "outputs": [
    {
     "name": "stdout",
     "output_type": "stream",
     "text": [
      "1.1000876277759999\n",
      "0.29029571012078303\n",
      "1.0\n"
     ]
    }
   ],
   "source": [
    "print(rosenbrock(1,1,0)(1024))\n",
    "print(rosenbrock(1,1,0)(4/7*1000))\n",
    "print(rosenbrock(1,1,0)(0))"
   ]
  },
  {
   "cell_type": "code",
   "execution_count": 45,
   "metadata": {
    "datalore": {
     "hide_input_from_viewers": true,
     "hide_output_from_viewers": true,
     "node_id": "qC7xb9WZxaYE0lNxEGUs4X",
     "report_properties": {},
     "type": "CODE"
    }
   },
   "outputs": [],
   "source": [
    "class RosenbrockProblem(ProblemaGenetico):\n",
    "    def __init__(self,a=1,b=1,y=0):\n",
    "        self.fun_fitness_rosenbrock = lambda xs : rosenbrock(a,b,y)(binario_a_decimal(xs))\n",
    "        super().__init__([0,1], binario_a_decimal, self.fun_mutar, self.fun_cruzar, self.fun_fitness_rosenbrock, 10)\n",
    "    \n",
    "    @staticmethod\n",
    "    def fun_cruzar(cromosoma1, cromosoma2):\n",
    "        \"\"\"Cruza los cromosomas en un punto aleatorio\"\"\"\n",
    "        l1 = len(cromosoma1)\n",
    "        l2 = len(cromosoma2)\n",
    "        pto_medio = random.random()\n",
    "        cruce1 = cromosoma1[0:int(l1*pto_medio)] + cromosoma2[int(l1*pto_medio):l2]\n",
    "        cruce2 = cromosoma2[0:int(l2*pto_medio)] + cromosoma1[int(l2*pto_medio):l1]\n",
    "        return [cruce1, cruce2]\n",
    "\n",
    "    @staticmethod\n",
    "    def fun_mutar(cromosoma, prob):\n",
    "        \"\"\"Elige un elemento al azar del cromosoma y lo modifica con una probabilidad igual a prob\"\"\"\n",
    "        l = len(cromosoma)\n",
    "        p = random.randint(0, l - 1)\n",
    "        if prob > random.uniform(0, 1):\n",
    "            cromosoma[p] = (cromosoma[p] + 1) % 2\n",
    "        return cromosoma\n",
    "\n",
    "\n",
    "problema_rosenbrock = RosenbrockProblem(a = 1, b = 1, y = 0)"
   ]
  },
  {
   "cell_type": "markdown",
   "metadata": {
    "datalore": {
     "hide_input_from_viewers": true,
     "hide_output_from_viewers": true,
     "node_id": "Bf0DaijX7dwVOfVFkc8hjb",
     "type": "MD"
    }
   },
   "source": [
    "Procedemos a hacer una análisis similar al del problema anterior. La diferencia ahora es que no conocemos la solución del problema, así que nos limitaremos a devolver el valor encontrado por la función, y evaluar si es mejor o no que para otros parámetros"
   ]
  },
  {
   "cell_type": "code",
   "execution_count": 46,
   "metadata": {
    "datalore": {
     "hide_input_from_viewers": true,
     "hide_output_from_viewers": true,
     "node_id": "YavNuinGP9vA70VTP1qBui",
     "type": "CODE"
    },
    "scrolled": true
   },
   "outputs": [
    {
     "name": "stdout",
     "output_type": "stream",
     "text": [
      "=== k=2 prob_cruces=0.2 prob_mutar=0.1 ===\n",
      "Individuo óptimo: 582.14\n",
      "Valor óptimo: 0.29489088983823997\n",
      "\n",
      "=== k=2 prob_cruces=0.2 prob_mutar=0.5 ===\n",
      "Individuo óptimo: 584.4\n",
      "Valor óptimo: 0.30121722807133994\n",
      "\n",
      "=== k=2 prob_cruces=0.7 prob_mutar=0.1 ===\n",
      "Individuo óptimo: 576.72\n",
      "Valor óptimo: 0.29414616342982\n",
      "\n",
      "=== k=2 prob_cruces=0.7 prob_mutar=0.5 ===\n",
      "Individuo óptimo: 581.5\n",
      "Valor óptimo: 0.29143585467828\n",
      "\n",
      "=== k=3 prob_cruces=0.2 prob_mutar=0.1 ===\n",
      "Individuo óptimo: 578.37\n",
      "Valor óptimo: 0.2954990851428501\n",
      "\n",
      "=== k=3 prob_cruces=0.2 prob_mutar=0.5 ===\n",
      "Individuo óptimo: 575.51\n",
      "Valor óptimo: 0.2955513727642899\n",
      "\n",
      "=== k=3 prob_cruces=0.7 prob_mutar=0.1 ===\n",
      "Individuo óptimo: 579.3\n",
      "Valor óptimo: 0.29359304931108005\n",
      "\n",
      "=== k=3 prob_cruces=0.7 prob_mutar=0.5 ===\n",
      "Individuo óptimo: 581.12\n",
      "Valor óptimo: 0.2917762435415998\n",
      "\n",
      "=== k=4 prob_cruces=0.2 prob_mutar=0.1 ===\n",
      "Individuo óptimo: 585.05\n",
      "Valor óptimo: 0.29313467134756993\n",
      "\n",
      "=== k=4 prob_cruces=0.2 prob_mutar=0.5 ===\n",
      "Individuo óptimo: 587.04\n",
      "Valor óptimo: 0.29753759692188\n",
      "\n",
      "=== k=4 prob_cruces=0.7 prob_mutar=0.1 ===\n",
      "Individuo óptimo: 582.35\n",
      "Valor óptimo: 0.2929850964167499\n",
      "\n",
      "=== k=4 prob_cruces=0.7 prob_mutar=0.5 ===\n",
      "Individuo óptimo: 586.01\n",
      "Valor óptimo: 0.29071353218538976\n",
      "\n"
     ]
    }
   ],
   "source": [
    "for k in possible_k:\n",
    "    for prob_cruces in possible_prob_cruces:\n",
    "        for prob_mutar in possible_prob_mutar:\n",
    "            print(f\"=== {k=} {prob_cruces=} {prob_mutar=} ===\")\n",
    "            resultados = [algoritmo_genetico(problema_rosenbrock,\n",
    "                                        ngen=20,size=10,opt=min,\n",
    "                                        k=k,prob_cruces=prob_cruces,prob_mutar=prob_mutar) \n",
    "                            for _ in range(100)]\n",
    "            ind_optimo = sum(ind for ind, _ in resultados) / len(resultados)\n",
    "            valor_optimo = sum(val for _, val in resultados) / len(resultados)\n",
    "            print(f\"Individuo óptimo: {ind_optimo}\")\n",
    "            print(f\"Valor óptimo: {valor_optimo}\")\n",
    "            print()"
   ]
  },
  {
   "cell_type": "markdown",
   "metadata": {
    "datalore": {
     "hide_input_from_viewers": true,
     "hide_output_from_viewers": true,
     "node_id": "3SpoXE0dwchJNlc5TA8c3O",
     "type": "MD"
    }
   },
   "source": [
    "Comprobamos que los resultados obtenidos para distintas ejecuciones son muy similares, pero que como para el problema anterior, el algoritmo funciona mejor cuando tanto la probabilidad de cruce como la probabilidad de mutar son altas. Para un `k` fijo el peor rendimiento se da cuando es más probable mutar que cruzarse"
   ]
  },
  {
   "cell_type": "markdown",
   "metadata": {
    "datalore": {
     "hide_input_from_viewers": false,
     "hide_output_from_viewers": false,
     "node_id": "e9ZG6ANFZ7uUufutsx07Ax",
     "report_properties": {},
     "type": "MD"
    }
   },
   "source": [
    "### Ejercicio 4 (opcional)\n",
    "Resolver mediante una configuración de un algoritmo genético el problema de los **Ocho Consecutivos** que distribuye los números 1 al 8 en las ocho casillas de la figura, con la condición de que no puede haber dos números consecutivos en casillas adyacentes. Se consideran casillas adyacentes aquéllas que comparten un lado o una esquina.\n",
    "\n",
    "La siguiente configuración representa una solución al problema:\n",
    "\n",
    "```\n",
    "2 6 8 5 \n",
    "7 4 1 4\n",
    "```\n",
    "\n",
    "Comenta el resultado y el rendimiento del algoritmo para distintos parámetros.   \n",
    "    "
   ]
  },
  {
   "cell_type": "markdown",
   "metadata": {
    "datalore": {
     "hide_input_from_viewers": true,
     "hide_output_from_viewers": true,
     "node_id": "Ks2Ifz6NbgMtgbE00oAUhN",
     "report_properties": {},
     "type": "MD"
    }
   },
   "source": [
    "Se trata de un **problema de secuenciación**: lo que importa es qué elementos aparecen junto a otros. Ya sabemos los elementos que debe de haber (números del 1 al 8), y lo que importa es su ordenación. Por lo tanto, a la hora de hacer las operaciones del algoritmo genético, tenemos que usar aquellos que sirven para las permutaciones.\n",
    "\n",
    "Para la **codificación**, usamos una lista de 8 elementos, que contiene números del 1 al 8. Entonces no hace falta decodificar, ya que la propia lista es la representación.\n",
    "\n",
    "No todas las ordenaciones son válidas. Como el tablero es relativamente pequeño, se puede comprobar de forma eficiente si una configuración es válida mediante un bucle.\n",
    "\n",
    "En cuanto a la **función de fitness / idoneidad**, que ha de ser siempre positivo, una opción sencilla sería calcular el **número de casillas que no tienen conflicto**, que es sencillo de implementar, y penaliza también a las configuraciones inválidas dándoles un valor inferior."
   ]
  },
  {
   "cell_type": "markdown",
   "metadata": {
    "datalore": {
     "hide_input_from_viewers": false,
     "hide_output_from_viewers": false,
     "node_id": "CR5aR3oEUePlayFarMsPfe",
     "report_properties": {},
     "type": "MD"
    }
   },
   "source": [
    "------\n",
    "\n",
    "Antes de empezar, implementamos operadores de mutación y cruce para permutaciones:"
   ]
  },
  {
   "cell_type": "code",
   "execution_count": 47,
   "metadata": {
    "datalore": {
     "hide_input_from_viewers": false,
     "hide_output_from_viewers": false,
     "node_id": "AYZd7bbaaK4OK8CtG16vFq",
     "report_properties": {},
     "type": "CODE"
    }
   },
   "outputs": [],
   "source": [
    "# Implementacion de los operadores de mutacion para permutaciones\n",
    "def muta_insercion(cromosoma, prob):\n",
    "    \"\"\"Elegir dos alelos aleatoriamente y colocar el segundo justo después del primero\"\"\"\n",
    "    mutante = cromosoma[:]\n",
    "    if prob > random.uniform(0, 1):\n",
    "        l = len(mutante)\n",
    "        p1 = random.randint(0, l - 1)\n",
    "        p2 = random.randint(p1, l - 1)\n",
    "        # Poner el segundo justo después del primero\n",
    "        mutante.insert(p1 + 1, mutante.pop(p2))\n",
    "\n",
    "    return mutante\n",
    "\n",
    "def muta_intercambio(cromosoma, prob):\n",
    "    \"\"\"Seleccionar dos alelos aleatoriamente e intercambiarlos\"\"\"\n",
    "    mutante = cromosoma[:]\n",
    "    if prob > random.uniform(0, 1):\n",
    "        l = len(mutante)\n",
    "        p1 = random.randint(0, l - 1)\n",
    "        p2 = random.randint(p1, l - 1)\n",
    "        # Intercambiar los dos alelos\n",
    "        mutante[p1], mutante[p2] = mutante[p2], mutante[p1]\n",
    "\n",
    "    return mutante\n",
    "\n",
    "def muta_inversion(cromosoma, prob):\n",
    "    \"\"\"Seleccionar dos alelos aleatoriamente e invertir la cadena entre ellos\"\"\"\n",
    "    mutante = cromosoma[:]\n",
    "    if prob > random.uniform(0, 1):\n",
    "        l = len(mutante)\n",
    "        p1 = random.randint(0, l - 1)\n",
    "        p2 = random.randint(p1, l - 1)\n",
    "        # Invertir la cadena entre los dos alelos\n",
    "        mutante[p1:p2] = reversed(mutante[p1:p2])\n",
    "\n",
    "    return mutante\n",
    "\n",
    "def muta_revuelto(cromosoma, prob):\n",
    "    \"\"\"Seleccionar un subconjunto de genes y reordenar aleatoriamente los alelos\"\"\"\n",
    "    mutante = cromosoma[:]\n",
    "    if prob > random.uniform(0, 1):\n",
    "        l = len(mutante)\n",
    "        p1 = random.randint(0, l - 1)\n",
    "        p2 = random.randint(p1, l - 1)\n",
    "        # Reordenar aleatoriamente los alelos entre p1 y p2\n",
    "        mutante[p1:p2] = random.shuffle(mutante[p1:p2])\n",
    "\n",
    "    return mutante"
   ]
  },
  {
   "cell_type": "code",
   "execution_count": 48,
   "metadata": {
    "datalore": {
     "hide_input_from_viewers": false,
     "hide_output_from_viewers": false,
     "node_id": "RDiJpT88bqq8CPhtKmlfpW",
     "report_properties": {},
     "type": "CODE"
    }
   },
   "outputs": [],
   "source": [
    "# Implementacion de los dos algoritmos de cruce para permutaciones\n",
    "\n",
    "# Cruce de orden\n",
    "def cruce_orden(cromosoma1, cromosoma2):\n",
    "    \"\"\"\n",
    "    1. Seleccionar una parte arbitraria del primer padre\n",
    "    2. Copiar esta parte en el hijo\n",
    "    3. Copiar los números que no están en la primera parte\n",
    "        Empezando desde el punto de cruce, y utilizando el orden en el que aparecen en el segundo padre\n",
    "        Volviendo al principio del cromosoma cuando llega al final\n",
    "    \"\"\"\n",
    "\n",
    "    l = len(cromosoma1) # Supongo que los dos cromosomas tienen la misma longitud\n",
    "\n",
    "    # Una funcion auxliar para repetir el proceso\n",
    "    # Porque el hijo2 se genera igual que hijo1, pero intercambiando los padres\n",
    "    def copiar(padre1, padre2):\n",
    "        hijo = [-1 for i in range(l)]\n",
    "\n",
    "        p1 = random.randint(0, l - 1)\n",
    "        p2 = random.randint(p1, l - 1)\n",
    "\n",
    "        # Copiar la parte del primer padre entre p1 y p2\n",
    "        hijo[p1:p2] = padre1[p1:p2]\n",
    "\n",
    "        # Para los elementos que no están aún, copiarlos en el orden en el que aparecen en el segundo padre\n",
    "        # Empezando desde p2 y volviendo al principio cuando llega al final\n",
    "        i = p2  # Apunta al siguiente espacio libre en el hijo\n",
    "        j = p2  # Apunta al siguiente elemento del padre2 que no se ha copiado\n",
    "        pendiente = l - (p2 - p1)\n",
    "\n",
    "        while pendiente > 0:\n",
    "            if padre2[j] not in hijo:\n",
    "                hijo[i] = padre2[j]\n",
    "                i = (i + 1) % l\n",
    "                pendiente -= 1\n",
    "            j = (j + 1) % l\n",
    "\n",
    "        return hijo\n",
    "\n",
    "    cruce1 = copiar(cromosoma1, cromosoma2)\n",
    "    cruce2 = copiar(cromosoma2, cromosoma1)\n",
    "    \n",
    "    return [cruce1, cruce2]"
   ]
  },
  {
   "cell_type": "code",
   "execution_count": 49,
   "metadata": {
    "datalore": {
     "hide_input_from_viewers": false,
     "hide_output_from_viewers": false,
     "node_id": "N7bB4jPpPStmWtuVPRMzhk",
     "report_properties": {},
     "type": "CODE"
    }
   },
   "outputs": [],
   "source": [
    "# Cruce PMX (Partially Mapped Crossover)\n",
    "def cruce_pmx(cromosoma1, cromosoma2):\n",
    "    \"\"\"\n",
    "    1. Elegir un segmento aleatorio y copiar desde P1\n",
    "    2. Desde el PRIMER punto de cruce, buscar elementos de ese segmento en P2 que no se han copiado\n",
    "    3. Para cada uno de esos elementos i, buscar que elementos j se han copiado en su lugar desde P1\n",
    "    4. Colocar i en la posicion ocupada j de P2\n",
    "    5. Si el lugar ocupado por j en P2 ya se ha rellenado en el hijo por elemento (k), poner i en la posicion ocupada por k en P2\n",
    "    \"\"\"\n",
    "\n",
    "    l = len(cromosoma1) # Supongo que los dos cromosomas tienen la misma longitud\n",
    "\n",
    "    def copiar(padre1, padre2):\n",
    "        hijo = [-1 for i in range(l)]\n",
    "\n",
    "        p1 = random.randint(0, l - 1)\n",
    "        p2 = random.randint(p1, l - 1)\n",
    "\n",
    "        # Copiar la parte del primer padre entre p1 y p2\n",
    "        hijo[p1:p2] = padre1[p1:p2]\n",
    "\n",
    "        # Indice para recorrer el p2\n",
    "        # Apunta al siguiente elemento del padre2 que no se ha copiado en el hijo\n",
    "        i = p1\n",
    "        pendiente = l - (p2 - p1)   # Numero de elementos pendientes de copiar\n",
    "\n",
    "        while pendiente > 0:\n",
    "            if(padre2[i] not in hijo):\n",
    "                # No está en el hijo, buscamos un hueco para él\n",
    "                k = i\n",
    "\n",
    "                while(hijo[k] != -1):\n",
    "                    k = padre2.index(hijo[k])\n",
    "                \n",
    "                # Ahora k es la posicion donde debe de estar el elemento padre2[i] en el hijo\n",
    "                hijo[k] = padre2[i]\n",
    "                pendiente -= 1\n",
    "\n",
    "            i = (i + 1) % l\n",
    "\n",
    "        return hijo\n",
    "\n",
    "    cruce1 = copiar(cromosoma1, cromosoma2)\n",
    "    cruce2 = copiar(cromosoma2, cromosoma1)\n",
    "    \n",
    "    return [cruce1, cruce2]"
   ]
  },
  {
   "cell_type": "markdown",
   "metadata": {
    "datalore": {
     "hide_input_from_viewers": false,
     "hide_output_from_viewers": false,
     "node_id": "zZKZLv7MUkKONi3CbHDQag",
     "report_properties": {},
     "type": "MD"
    }
   },
   "source": [
    "-------------\n",
    "\n",
    "Definimos el problema de Ocho Consecutivos como una clase, que hereda de `ProblemaGenetico`:"
   ]
  },
  {
   "cell_type": "code",
   "execution_count": 50,
   "metadata": {
    "datalore": {
     "hide_input_from_viewers": false,
     "hide_output_from_viewers": false,
     "node_id": "SNdJxmGsWammQ6g2vCaJjD",
     "report_properties": {},
     "type": "CODE"
    }
   },
   "outputs": [],
   "source": [
    "# Definimos una clase para todos los metodos que se usan en el algoritmo genetico para resolver el problema de Ocho Consecutivos\n",
    "class OchoConsecutivos(ProblemaGenetico):\n",
    "    def __init__(self, func_muta, func_cruza):\n",
    "        \"\"\"Constructor de la clase\"\"\"\n",
    "        self.fun_cruza = func_cruza\n",
    "        self.fun_muta = func_muta\n",
    "        super().__init__([1, 2, 3, 4, 5, 6, 7, 8], self.fun_dec, func_muta, func_cruza, self.fun_fitness, 8)\n",
    "\n",
    "    def fun_dec(self, genotipo):\n",
    "        # Devolver un string representando el genotipo en tablero 2x4\n",
    "        return \" \".join(map(str, genotipo[0:4])) + \" \\n \" + \" \".join(map(str, genotipo[4:8]))\n",
    "\n",
    "    @staticmethod\n",
    "    def poblacion_inicial(size = 10):\n",
    "        l = []\n",
    "        \n",
    "        for i in range(size): \n",
    "            # Generar una permutacion de numeros del 1 al 8\n",
    "            x = [i for i in range(1, 9)]\n",
    "            random.shuffle(x)\n",
    "            l.append(x)\n",
    "\n",
    "        return l\n",
    "\n",
    "    def fun_fitness(self, cromosoma):\n",
    "        \"\"\"Calcula el numero de casillas que no tiene en su adyacencia un numero consecutivo\"\"\"\n",
    "        result = 0\n",
    "\n",
    "        for k in range(len(cromosoma)):\n",
    "            i = k // 4\n",
    "            j = k % 4\n",
    "\n",
    "            valido = 1\n",
    "\n",
    "            if i == 0 and abs(cromosoma[k] - cromosoma[(i + 1) * 4 + j]) == 1:\n",
    "                # Casilla de abajo\n",
    "                valido = 0\n",
    "\n",
    "            if i == 1 and abs(cromosoma[k] - cromosoma[(i - 1) * 4 + j]) == 1:\n",
    "                # Casilla de arriba\n",
    "                valido = 0\n",
    "\n",
    "            if j < 3 and abs(cromosoma[k] - cromosoma[i * 4 + j + 1]) == 1:\n",
    "                # Casilla de la derecha\n",
    "                valido = 0\n",
    "\n",
    "            if j > 0 and abs(cromosoma[k] - cromosoma[i * 4 + j - 1]) == 1:\n",
    "                # Casilla de la izquierda\n",
    "                valido = 0\n",
    "\n",
    "            result += valido\n",
    "\n",
    "        return result"
   ]
  },
  {
   "cell_type": "markdown",
   "metadata": {
    "datalore": {
     "hide_input_from_viewers": false,
     "hide_output_from_viewers": false,
     "node_id": "cU2o21BCNAkixDkeidsqRK",
     "report_properties": {},
     "type": "MD"
    }
   },
   "source": [
    "-------------\n",
    "\n",
    "Vamos a probar si la clase funciona correctamente:"
   ]
  },
  {
   "cell_type": "code",
   "execution_count": 51,
   "metadata": {
    "datalore": {
     "hide_input_from_viewers": false,
     "hide_output_from_viewers": false,
     "node_id": "BBZiDQEaHCdRBjHlAcB322",
     "report_properties": {},
     "type": "CODE"
    }
   },
   "outputs": [
    {
     "data": {
      "text/plain": [
       "0"
      ]
     },
     "execution_count": 51,
     "metadata": {},
     "output_type": "execute_result"
    }
   ],
   "source": [
    "# Todas las casillas tienen un numero consecutivo en su adyacencia (fitness = 0)\n",
    "OchoConsecutivos(muta_insercion, cruce_pmx).fitness([1, 2, 3, 4, 5, 6, 7, 8])"
   ]
  },
  {
   "cell_type": "code",
   "execution_count": 52,
   "metadata": {
    "datalore": {
     "hide_input_from_viewers": false,
     "hide_output_from_viewers": false,
     "node_id": "pSoDY6KpzS4zgyD2UBJMhm",
     "report_properties": {},
     "type": "CODE"
    }
   },
   "outputs": [
    {
     "data": {
      "text/plain": [
       "8"
      ]
     },
     "execution_count": 52,
     "metadata": {},
     "output_type": "execute_result"
    }
   ],
   "source": [
    "# Una solucion valida del problema (sale con fitness maximo 8)\n",
    "OchoConsecutivos(muta_insercion, cruce_pmx).fitness([2, 6, 8, 5, 7, 4, 1, 3])"
   ]
  },
  {
   "cell_type": "code",
   "execution_count": 53,
   "metadata": {
    "datalore": {
     "hide_input_from_viewers": false,
     "hide_output_from_viewers": false,
     "node_id": "acNHURC12Skpwzfko40v6L",
     "report_properties": {},
     "type": "CODE"
    }
   },
   "outputs": [
    {
     "name": "stdout",
     "output_type": "stream",
     "text": [
      "2 6 8 5 \n",
      " 7 4 1 3\n"
     ]
    }
   ],
   "source": [
    "# Imprimir el tablero\n",
    "print(OchoConsecutivos(muta_insercion, cruce_pmx).decodifica([2, 6, 8, 5, 7, 4, 1, 3]))"
   ]
  },
  {
   "cell_type": "markdown",
   "metadata": {
    "datalore": {
     "hide_input_from_viewers": false,
     "hide_output_from_viewers": false,
     "node_id": "bfJovn5w4oCpoEOUKQZ8y1",
     "report_properties": {},
     "type": "MD"
    }
   },
   "source": [
    "Probemos ahora resolver el problema con el algoritmo genético:"
   ]
  },
  {
   "cell_type": "code",
   "execution_count": 54,
   "metadata": {
    "datalore": {
     "hide_input_from_viewers": false,
     "hide_output_from_viewers": false,
     "node_id": "ZHcbumbk0jAP6wuldLafKE",
     "report_properties": {},
     "type": "CODE"
    }
   },
   "outputs": [],
   "source": [
    "poblacion_inicial_size = 10\n",
    "def algoritmo_genetico_ocho_consecutivos(poblacion_inicial = None, func_mut = muta_insercion, func_cruce = cruce_pmx, k = 2, ngen = 10, size = poblacion_inicial_size, prob_cruces = 0.6, prob_mutar = 0.1):\n",
    "    problema = OchoConsecutivos(func_mut, func_cruce)\n",
    "    poblacion = OchoConsecutivos.poblacion_inicial(size)\n",
    "\n",
    "    if poblacion_inicial != None:\n",
    "        poblacion = poblacion_inicial\n",
    "\n",
    "    n_padres = round(size * prob_cruces)\n",
    "    n_padres = int(n_padres if n_padres % 2 == 0 else n_padres - 1)\n",
    "    n_directos = size - n_padres\n",
    "    for _ in range(ngen):\n",
    "        poblacion = nueva_generacion(problema, k, max, poblacion, n_padres, n_directos, prob_mutar)\n",
    "\n",
    "    mejor_cr = max(poblacion, key=problema.fitness)\n",
    "    mejor = problema.decodifica(mejor_cr)\n",
    "    return (mejor, problema.fitness(mejor_cr)) "
   ]
  },
  {
   "cell_type": "markdown",
   "metadata": {
    "datalore": {
     "hide_input_from_viewers": false,
     "hide_output_from_viewers": false,
     "node_id": "AbttLpvtcVTyguxI7ZsM2U",
     "report_properties": {},
     "type": "MD"
    }
   },
   "source": [
    "Ahora procedemos a analizar el comportamiento del algoritmo genético para distintos parámetros. Principalmente, vamos a ver cómo afecta al variar:\n",
    "\n",
    "- `k`: el número de participantes del torneo\n",
    "- `nGen`: el número de generaciones\n",
    "- La probabilidad de cruce\n",
    "- La probabilidad de mutación\n",
    "\n",
    "Cuando se realiza el análisis de uno de ellos, el resto de parámetros se ponen a su valor por defecto:\n",
    "\n",
    "- `k = 2`\n",
    "- `nGen = 10`\n",
    "- `prob_cruce = 0.6`\n",
    "- `prob_mutacion = 0.1`\n",
    "\n",
    "Se utilizará la mutación por inserción y cruce pmx.\n",
    "\n",
    "Para que el resultado sea más fácil de analizar, fijamos la población inicial y vemos qué ocurre."
   ]
  },
  {
   "cell_type": "code",
   "execution_count": 55,
   "metadata": {
    "datalore": {
     "hide_input_from_viewers": false,
     "hide_output_from_viewers": false,
     "node_id": "s1YQc1j476U2Y4jPGOnZYP",
     "report_properties": {},
     "type": "CODE"
    }
   },
   "outputs": [],
   "source": [
    "poblacion_inicial_ocho_consecutivos = OchoConsecutivos.poblacion_inicial(poblacion_inicial_size)"
   ]
  },
  {
   "cell_type": "code",
   "execution_count": 56,
   "metadata": {
    "datalore": {
     "hide_input_from_viewers": false,
     "hide_output_from_viewers": false,
     "node_id": "9P78pQ8L1afOm8nT4D8uxf",
     "report_properties": {},
     "type": "CODE"
    }
   },
   "outputs": [],
   "source": [
    "def test_ocho_consecutivos(arg = None, iter = 1000):\n",
    "    success = 0\n",
    "    total_fitness = 0\n",
    "\n",
    "    for i in range(iter):\n",
    "        best, fitness = algoritmo_genetico_ocho_consecutivos(**arg)\n",
    "        total_fitness += fitness\n",
    "        if fitness == 8:\n",
    "            success += 1\n",
    "            # print(\"Solucion encontrada: \" + str(best) + \" con fitness \" + str(fitness))\n",
    "\n",
    "    # Imprimir tasa de exito\n",
    "    print(\"Success: \" + str(success) + \"/\" + str(iter))\n",
    "\n",
    "    # Imprimir fitness medio\n",
    "    print(\"Fitness medio: \" + str(total_fitness / iter))"
   ]
  },
  {
   "cell_type": "markdown",
   "metadata": {
    "datalore": {
     "hide_input_from_viewers": false,
     "hide_output_from_viewers": false,
     "node_id": "9slFnxFBpr40TMUlhfNasY",
     "report_properties": {},
     "type": "MD"
    }
   },
   "source": [
    "### Variar el número de participantes del torneo\n",
    "\n",
    "Hemos probado a tomar los valores extremos de `k`, que selecciona el número de participantes en el torneo. En el caso de `k=1`, el algoritmo se comporta como un **algoritmo de búsqueda aleatoria**, ya que en cada torneo el mejor individuo es seleccionado al azar. En el caso de `k=10`, se comporta como una selección elitista, escogiendo aleatoriamente 10 y toma el mejor de ellos. \n",
    "\n",
    "Como consecuencia, **los individuos peores tienen menor probabilidad de ser seleccionados en `k=10`, y mayor probabilidad en `k=1`.**\n",
    "\n",
    "Tras 1000 iteraciones, hemos observado que para el caso `k=1`, la tasa de éxito es bastante inferior en comparación con `k=10`."
   ]
  },
  {
   "cell_type": "code",
   "execution_count": 57,
   "metadata": {
    "datalore": {
     "hide_input_from_viewers": false,
     "hide_output_from_viewers": false,
     "node_id": "alTVL9LJ3XNLDEap6yc6SY",
     "report_properties": {},
     "type": "CODE"
    }
   },
   "outputs": [
    {
     "name": "stdout",
     "output_type": "stream",
     "text": [
      "Success: 193/1000\n",
      "Fitness medio: 5.708\n"
     ]
    }
   ],
   "source": [
    "test_ocho_consecutivos(arg={\"poblacion_inicial\": poblacion_inicial_ocho_consecutivos, \"k\": 1})"
   ]
  },
  {
   "cell_type": "code",
   "execution_count": 58,
   "metadata": {
    "datalore": {
     "hide_input_from_viewers": false,
     "hide_output_from_viewers": false,
     "node_id": "YGIG3QgFIF9199h3PwMGxL",
     "report_properties": {},
     "type": "CODE"
    }
   },
   "outputs": [
    {
     "name": "stdout",
     "output_type": "stream",
     "text": [
      "Success: 762/1000\n",
      "Fitness medio: 7.524\n"
     ]
    }
   ],
   "source": [
    "test_ocho_consecutivos(arg={\"poblacion_inicial\": poblacion_inicial_ocho_consecutivos, \"k\": 10})"
   ]
  },
  {
   "cell_type": "markdown",
   "metadata": {
    "datalore": {
     "hide_input_from_viewers": false,
     "hide_output_from_viewers": false,
     "node_id": "Pk3a44Ya9bItEBBtuSrnuL",
     "report_properties": {},
     "type": "MD"
    }
   },
   "source": [
    "### Variar el número de generaciones\n",
    "\n",
    "Al variar el número de generaciones, el resultado variará menos o más de la población inicial. Al poner `ngen=0`, el resultado dependen totalmente de la población inicial, y no produce nuevas generaciones. Al poner `ngen=100`, el resultado es más variado, ya que el algoritmo ha tenido más tiempo para evolucionar."
   ]
  },
  {
   "cell_type": "code",
   "execution_count": 59,
   "metadata": {
    "datalore": {
     "hide_input_from_viewers": false,
     "hide_output_from_viewers": false,
     "node_id": "o0WGzPeNfhNMA7bhdlRt4C",
     "report_properties": {},
     "type": "CODE"
    }
   },
   "outputs": [
    {
     "name": "stdout",
     "output_type": "stream",
     "text": [
      "Success: 0/1000\n",
      "Fitness medio: 6.0\n"
     ]
    }
   ],
   "source": [
    "test_ocho_consecutivos(arg={\"poblacion_inicial\": poblacion_inicial_ocho_consecutivos, \"ngen\": 0})"
   ]
  },
  {
   "cell_type": "code",
   "execution_count": 60,
   "metadata": {
    "datalore": {
     "hide_input_from_viewers": false,
     "hide_output_from_viewers": false,
     "node_id": "IaRp3dMwJNuCCBsEbl9wAz",
     "report_properties": {},
     "type": "CODE"
    }
   },
   "outputs": [
    {
     "name": "stdout",
     "output_type": "stream",
     "text": [
      "Success: 743/1000\n",
      "Fitness medio: 7.486\n"
     ]
    }
   ],
   "source": [
    "test_ocho_consecutivos(arg={\"poblacion_inicial\": poblacion_inicial_ocho_consecutivos, \"ngen\": 20})"
   ]
  },
  {
   "cell_type": "markdown",
   "metadata": {
    "datalore": {
     "hide_input_from_viewers": false,
     "hide_output_from_viewers": false,
     "node_id": "GpYuwhTF1lhdpHqS3tEc8P",
     "report_properties": {},
     "type": "MD"
    }
   },
   "source": [
    "Como consecuencia, el resultado de `ngen=0` es **determinista** una vez fijada la población inicial, mientras que el resultado de `ngen=100` es más aleatorio, y en general mejor al tener más tiempo para evolucionar. Esto se ve reflejado también en tiempo de ejecución, uno termina en un instante, mientras que el otro tarda más.\n",
    "\n",
    "Si la población inicial es muy buena, el resultado de `ngen=0` puede superar al de `ngen=100`. Pero en general, el resultado de `ngen=100` es mejor.\n",
    "\n",
    "**Para población inicial muy mala**, hemos podido observar que con `ngen=0` la tasa de éxito es 0."
   ]
  },
  {
   "cell_type": "markdown",
   "metadata": {
    "datalore": {
     "hide_input_from_viewers": false,
     "hide_output_from_viewers": false,
     "node_id": "skLSSrVuPK1UHODl0z6NvZ",
     "report_properties": {},
     "type": "MD"
    }
   },
   "source": [
    "### Variar la probabilidad de cruce\n",
    "\n",
    "En el código se puede ver que, el parámetro `prob_cruce` es directamente propircional al `n_padres` que se seleccionan para el cruce. Y eso configura la cantidad de `padres1` que se seleccionan para el cruce. \n",
    "\n",
    "Cuando mayor sea la probabilidad de cruce, mayor será el número de individuos que se seleccionan para hacer el cruce. "
   ]
  },
  {
   "cell_type": "code",
   "execution_count": 61,
   "metadata": {
    "datalore": {
     "hide_input_from_viewers": false,
     "hide_output_from_viewers": false,
     "node_id": "B2d6K51dMKqP6QRjPN69yd",
     "report_properties": {},
     "type": "CODE"
    }
   },
   "outputs": [
    {
     "name": "stdout",
     "output_type": "stream",
     "text": [
      "Success: 226/1000\n",
      "Fitness medio: 6.446\n"
     ]
    }
   ],
   "source": [
    "test_ocho_consecutivos(arg={\"poblacion_inicial\": poblacion_inicial_ocho_consecutivos, \"prob_cruces\": 0})"
   ]
  },
  {
   "cell_type": "code",
   "execution_count": 62,
   "metadata": {
    "datalore": {
     "hide_input_from_viewers": false,
     "hide_output_from_viewers": false,
     "node_id": "gbvCdovNyHxzi0p96I48Lu",
     "report_properties": {},
     "type": "CODE"
    }
   },
   "outputs": [
    {
     "name": "stdout",
     "output_type": "stream",
     "text": [
      "Success: 677/1000\n",
      "Fitness medio: 7.349\n"
     ]
    }
   ],
   "source": [
    "test_ocho_consecutivos(arg={\"poblacion_inicial\": poblacion_inicial_ocho_consecutivos, \"prob_cruces\": 1})"
   ]
  },
  {
   "cell_type": "markdown",
   "metadata": {
    "datalore": {
     "hide_input_from_viewers": false,
     "hide_output_from_viewers": false,
     "node_id": "ErWxDhZyvkPdBsP9fUOyNW",
     "report_properties": {},
     "type": "MD"
    }
   },
   "source": [
    "Si ponemos `prob_cruce=0`, no se selecciona ningún individuo para hacer el cruce, y el resultado de siguiente generación se obtiene por selección por torneo y mutación.\n",
    "\n",
    "Hemos observado que la tasa de éxito con `prob_cruce=0` es inferior que con `prob_cruce=1`. Y el fitness medio es inferior también. Pensamos que es debido a que el **cruce introduce más diversidad en la población**, y consigue así explorar más el espacio de búsqueda, encontrando mejores soluciones. La mutación al tener una probabilidad baja (0.1) no es suficiente para explorar el espacio de búsqueda."
   ]
  },
  {
   "cell_type": "markdown",
   "metadata": {
    "datalore": {
     "hide_input_from_viewers": false,
     "hide_output_from_viewers": false,
     "node_id": "DUcxcBfc0ZcS8vFCnH9bzi",
     "report_properties": {},
     "type": "MD"
    }
   },
   "source": [
    "### Variar la probabilidad de mutación"
   ]
  },
  {
   "cell_type": "code",
   "execution_count": 63,
   "metadata": {
    "datalore": {
     "hide_input_from_viewers": false,
     "hide_output_from_viewers": false,
     "node_id": "b0bpFRLjZ4ii34gBrUDNtc",
     "report_properties": {},
     "type": "CODE"
    }
   },
   "outputs": [
    {
     "name": "stdout",
     "output_type": "stream",
     "text": [
      "Success: 562/1000\n",
      "Fitness medio: 7.117\n"
     ]
    }
   ],
   "source": [
    "test_ocho_consecutivos(arg={\"poblacion_inicial\": poblacion_inicial_ocho_consecutivos, \"prob_mutar\": 0})"
   ]
  },
  {
   "cell_type": "code",
   "execution_count": 64,
   "metadata": {
    "datalore": {
     "hide_input_from_viewers": false,
     "hide_output_from_viewers": false,
     "node_id": "dhRR0oeGdhmrvPNY4vKWUx",
     "report_properties": {},
     "type": "CODE"
    }
   },
   "outputs": [
    {
     "name": "stdout",
     "output_type": "stream",
     "text": [
      "Success: 625/1000\n",
      "Fitness medio: 7.231\n"
     ]
    }
   ],
   "source": [
    "test_ocho_consecutivos(arg={\"poblacion_inicial\": poblacion_inicial_ocho_consecutivos, \"prob_mutar\": 1})"
   ]
  },
  {
   "cell_type": "markdown",
   "metadata": {
    "datalore": {
     "hide_input_from_viewers": false,
     "hide_output_from_viewers": false,
     "node_id": "tX3X4PwIZDeZmngmKP7gxe",
     "report_properties": {},
     "type": "MD"
    }
   },
   "source": [
    "No se ha observado una diferencia significativa entre los resultados obtenidos con `prob_mutacion=0` y `prob_mutacion=1`, la tasa de éxito y el fitness medio son muy parecidos. (`prob_mutacion=0` es ligeramente peor.)\n",
    "\n",
    "Pensamos que será porque el problema es pequeño, y con selección por torneo y cruce ya se puede obtener una buena solución."
   ]
  },
  {
   "cell_type": "markdown",
   "metadata": {
    "datalore": {
     "hide_input_from_viewers": false,
     "hide_output_from_viewers": false,
     "node_id": "0A0SMyG11BA6FEu0XInU71",
     "report_properties": {},
     "type": "MD"
    }
   },
   "source": [
    "### Ejercicio 5. \n",
    "Se os da el enunciado de forma separada. "
   ]
  },
  {
   "cell_type": "markdown",
   "metadata": {
    "datalore": {
     "hide_input_from_viewers": true,
     "hide_output_from_viewers": true,
     "node_id": "eH8YkzdvneyCWEig3KwP7F",
     "report_properties": {},
     "type": "MD"
    }
   },
   "source": [
    "# Resolución del ejercicio 5"
   ]
  },
  {
   "cell_type": "code",
   "execution_count": 65,
   "metadata": {
    "datalore": {
     "hide_input_from_viewers": true,
     "hide_output_from_viewers": true,
     "node_id": "ySwttj5xKHLeaCxtAS9ka4",
     "report_properties": {},
     "type": "CODE"
    }
   },
   "outputs": [],
   "source": [
    "from search import *\n",
    "import random"
   ]
  },
  {
   "cell_type": "markdown",
   "metadata": {
    "datalore": {
     "hide_input_from_viewers": true,
     "hide_output_from_viewers": true,
     "node_id": "2alaokIUjcqMgJRCO2vLYh",
     "type": "MD"
    }
   },
   "source": [
    "**Configuración del algoritmo genético**\n",
    "\n",
    "1) *Representación*: vamos a representar el nanograma como una matriz de unos y ceros. Los unos representan que la casilla está llena y el cero que está vacía.\n",
    "2) Para generar la *población inicial* vamos a colocar los cuadrados de manera aleatoria, pero vamos a **colocar en cada fila el número de cuadrados adecuado**.\n",
    "3) La *función de evaluación/fitness* será la suma de condiciones que quedan por cumplir. Por cada condición que se incumpla sumamos 1, habremos encontrado una solución cuando su valor sea cero.\n",
    "4) *Operadores genéticos*:\n",
    "    - **Selección**: se hace de manera aleatoria, todos los padres dan lugar a descendencia.\n",
    "    - **Cruce**: el cruce intercambia las filas de los padres para generar los hijos. Las posiciones de las filas permanecen fijas dentro del individuo, es decir, la fila 1 del padre siempre aparecerá como fila 1 de uno de los hijos y nunca como fila 2.\n",
    "    - **Mutación**: la mutación intercambia la posición de casillas dentro de una misma fila, haciendo una \"rotación\" de los elementos de la misma. Se puede comparar con una simetría sobre un elemento de la fila.\n",
    "5) *Parámetros del problema* (los iremos ajustando):\n",
    "    - **Tamaño de la población inicial**: lo hemos fijado a 10, pero el código está diseñado para que se pueda modificar con facilidad.\n",
    "    - **Probabilidad de cruce y de mutación (respectivamente)**: los hemos fijado a 0.7 y 0.1 porque son para los que hemos obtenido mejor resultado pero se puede modificar fácilmente.\n",
    "    - **Condición de terminación**: cuando la función fitness de algún individuo de la población alcance el cero, es decir, que se cumplen todas. Se ofrecerá la posibilidad de seguir ejecutando el algoritmo aunque se haya alcanzado la solución, en caso de querer observar la evolución de la población."
   ]
  },
  {
   "cell_type": "markdown",
   "metadata": {
    "datalore": {
     "hide_input_from_viewers": true,
     "hide_output_from_viewers": true,
     "node_id": "3BeEzIgRFVZe0PQUGUVnbr",
     "report_properties": {},
     "type": "MD"
    }
   },
   "source": [
    "Comenzamos definiendo las herramientas necesarias para resolver el problema mediante un algoritmo genético. Vamos a crear una subclase de problema genético para resolver este problema en concreto. \n",
    "\n",
    "Nuestro invariante a la hora de trabajar con el nanograma será que siempre vamos a tener cuidado de que en la fila siempre haya el número adecuado de cuadrados, es decir, la suma de las codiciones de la fila. Por ejemplo, si las condiciones de la fila 1 son [1,2,3] entonces en esa fila debemos colocar 6 cuadrados. Esto lo hemos tenido en cuenta a la hora de generar las poblaciones iniciales.\n",
    "\n",
    "En la función fitness observamos cuantas condiciones(entendiendo como condiciones cada una de las sucesiones de cuadrados que se tiene que cumplir por cada fila, esto es, cada fila(y columna) siempre tiene más de una condición) se incumplen, y sumamos 1 por cada una de ellas."
   ]
  },
  {
   "cell_type": "code",
   "execution_count": 66,
   "metadata": {
    "datalore": {
     "hide_input_from_viewers": true,
     "hide_output_from_viewers": true,
     "node_id": "NLXFEhHp47DKENSlqfVjon",
     "type": "CODE"
    }
   },
   "outputs": [],
   "source": [
    "#Las reglas del nanograma nos indican las restricciones de los cuadrados, es un vector de 2 * n, donde n es el tamaño del problema\n",
    "# las primeras representas las restricciones de las filas y las siguientes las restricciones de las columnas\n",
    "class Nanograma(ProblemaGenetico):\n",
    "    def __init__(self, func_muta, func_cruza, reglas_nanograma, tam_nanograma):\n",
    "        \"\"\"Constructor de la clase\"\"\"\n",
    "        super().__init__([0,1], self.fun_dec, func_muta, func_cruza, self.fun_fitness, tam_nanograma)\n",
    "        self.fun_cruza = func_cruza\n",
    "        self.fun_muta = func_muta\n",
    "        self.reglas_nanograma = reglas_nanograma    #Lista de las reglas que debemos cumplir\n",
    "        self.tam_nanograma = tam_nanograma          #Tamaño del problema(puede deducirse de las reglas, pero creemos que así \n",
    "                                                    # es más intuitivo)\n",
    "\n",
    "    #Si la casilla está vacía se representa con ░░, en caso contrario utilizamos ██.\n",
    "    def slick_show_problema(self, genotipo):\n",
    "        res = \"──\" * self.tam_nanograma + '\\n'\n",
    "        for fila in genotipo:\n",
    "            res += \"\".join('██' if vacio else '░░' for vacio in fila) + '\\n'\n",
    "        return res\n",
    "\n",
    "    def fun_dec(self, genotipo):\n",
    "        # Devolver un string representando el tablero del nanograma\n",
    "        return self.slick_show_problema(genotipo)\n",
    "\n",
    "    def poblacion_inicial(self, size = 10):\n",
    "        poblacion = []\n",
    "\n",
    "        #Primero sumamos las reglas de las filas para hallar el número de casillas llenas\n",
    "        n_casillas_llenas = []\n",
    "        for i in range(self.tam_nanograma):\n",
    "            suma = 0\n",
    "            for cond in self.reglas_nanograma[i]:\n",
    "                suma += cond\n",
    "            n_casillas_llenas.append(suma)\n",
    "        \n",
    "\n",
    "        #Ahora generamos las poblaciones en base a las sumas anteriores\n",
    "        for i in range(size): \n",
    "            elem = []\n",
    "            # Generar una matriz de 0 y 1 de acuerdo a lo explicado\n",
    "            for j in range(self.tam_nanograma):\n",
    "                fila = [1] * n_casillas_llenas[j] + [0] * (self.tam_nanograma - n_casillas_llenas[j])\n",
    "                random.shuffle(fila)\n",
    "                elem.append(fila) \n",
    "            poblacion.append(elem)\n",
    "\n",
    "        return poblacion\n",
    "    \n",
    "    #Agrupa la lista de las condiciones de las filas\n",
    "    def calcular_condiciones_fila(self, i, cromosoma):\n",
    "        cont = 0\n",
    "        cond = []\n",
    "        for j in range(self.tam_nanograma):\n",
    "            if cromosoma[i][j] == 1:\n",
    "                cont = cont + 1\n",
    "            else: \n",
    "                if cont != 0:\n",
    "                    cond.append(cont)\n",
    "                cont = 0\n",
    "        if cont != 0:\n",
    "            cond.append(cont)\n",
    "        \n",
    "        return cond\n",
    "    \n",
    "    #Agrupa las condiciones de las columna\n",
    "    def calcular_condiciones_columna(self, i, cromosoma):\n",
    "        cont = 0\n",
    "        cond = []\n",
    "        for j in range(self.tam_nanograma):\n",
    "            if cromosoma[j][i] == 1:\n",
    "                cont = cont + 1\n",
    "            else: \n",
    "                if cont != 0:\n",
    "                    cond.append(cont)\n",
    "                cont = 0\n",
    "        if cont != 0:\n",
    "            cond.append(cont)\n",
    "        \n",
    "        return cond if len(cond) > 0 else [0]\n",
    "                \n",
    "\n",
    "    def fun_fitness(self, cromosoma):\n",
    "        \"\"\"Mira si no se cumplen las condiciones y en caso negativo suma 1\"\"\"\n",
    "        result = 0\n",
    "        #Miramos las condiciones de las filas \n",
    "        for i, expected in enumerate(self.reglas_nanograma):\n",
    "            if i < self.tam_nanograma:\n",
    "                actual = self.calcular_condiciones_fila(i, cromosoma)\n",
    "            else:\n",
    "                actual = self.calcular_condiciones_columna(i - self.tam_nanograma, cromosoma)\n",
    "            result += (expected != actual)\n",
    "\n",
    "        return result"
   ]
  },
  {
   "cell_type": "markdown",
   "metadata": {
    "datalore": {
     "hide_input_from_viewers": true,
     "hide_output_from_viewers": true,
     "node_id": "RAJRXFupvHAjUIfvq5VJRa",
     "type": "MD"
    }
   },
   "source": [
    "Vamos a crear una función de cruce que intercambia las filas de los padres de manera que si tenemos los padres $P_1$ y $P_2$, sus hijos ($H_1$ y $H_2$) tengan las filas o bien de $P_1$ o bien de $P_2$, pero siempre manteniendo su posición relativa. De esta forma mantenemos el invariante de que el número de `1`s de una fila no cambia."
   ]
  },
  {
   "cell_type": "code",
   "execution_count": 67,
   "metadata": {
    "datalore": {
     "hide_input_from_viewers": true,
     "hide_output_from_viewers": true,
     "node_id": "TSKC4DkKRWm9MQ9PRrMuJd",
     "type": "CODE"
    }
   },
   "outputs": [],
   "source": [
    "#Función de cruce específica del problema\n",
    "def cruce_nanograma(cromosoma1, cromosoma2):\n",
    "    #Generamos dos numeros aleatorios para hacer dos cortes\n",
    "    tam_nanograma = len(cromosoma1)\n",
    "    s1 = random.randrange(tam_nanograma)\n",
    "    s2 = random.randrange(tam_nanograma)\n",
    "    if s1 > s2:\n",
    "        s1, s2 = s2, s1\n",
    "    hijo_1 = cromosoma1[:s1] + cromosoma2[s1:s2] + cromosoma1[s2:]\n",
    "    hijo_2 = cromosoma2[:s1] + cromosoma1[s1:s2] + cromosoma2[s2:]\n",
    "    return hijo_1, hijo_2"
   ]
  },
  {
   "cell_type": "markdown",
   "metadata": {
    "datalore": {
     "hide_input_from_viewers": true,
     "hide_output_from_viewers": true,
     "node_id": "NCmTcGFR5TL9RaxvxRNz4m",
     "type": "MD"
    }
   },
   "source": [
    "**En el cruce no hay forma de que se varíen el contenido de las filas**, lo cual es un problema para la resolución del nonagrama. **Introducimos la posiblidad de que la fila de uno de los individuos varíe en la función de mutación**, que rota una fila aleatoria del individuo un offset aleatorio, con una probabilidad dada. De esta manera, mantenemos el invariante del número de `1`s, pero permitimos que nuevas filas sean introducidas a la población sin que estas existieran antes. Hemos probado con otras opciones para la función de mutación, como intercambiar casillas dentro de una misma fila, pero con la que hemos obtenido mejores resultados ha sido con la que presentamos a continuación."
   ]
  },
  {
   "cell_type": "code",
   "execution_count": 68,
   "metadata": {
    "datalore": {
     "hide_input_from_viewers": true,
     "hide_output_from_viewers": true,
     "node_id": "XWWvxfZgRdb7cIptuYxPHp",
     "type": "CODE"
    }
   },
   "outputs": [],
   "source": [
    "#En este caso la función de mutación intercambia los valores sobre un pivote de una fila del cromosoma\n",
    "def muta_ciclo(cromosoma, prob):\n",
    "    mutacion = cromosoma[:]\n",
    "    if random.uniform(0,1) < prob:\n",
    "        i = random.randrange(len(mutacion))\n",
    "        gen = cromosoma[i]\n",
    "        j = random.randrange(1,len(gen))\n",
    "        mutacion[i] = gen[j:] + gen[:j]\n",
    "    return mutacion"
   ]
  },
  {
   "cell_type": "markdown",
   "metadata": {
    "datalore": {
     "hide_input_from_viewers": true,
     "hide_output_from_viewers": true,
     "node_id": "QaqlQUyF0fr9xQRFwpg052",
     "type": "MD"
    }
   },
   "source": [
    "Ahora hacemos un par de pruebas para asegurarnos de que las funciones definidas funcionan como deberían"
   ]
  },
  {
   "cell_type": "code",
   "execution_count": 69,
   "metadata": {
    "datalore": {
     "hide_input_from_viewers": true,
     "hide_output_from_viewers": true,
     "node_id": "LtCIj0a1j7UESqGcIKZymD",
     "type": "CODE"
    }
   },
   "outputs": [],
   "source": [
    "nanograma_ejemplo = Nanograma(muta_ciclo, cruce_nanograma, [[1], [1], [2], [0]], 2)"
   ]
  },
  {
   "cell_type": "markdown",
   "metadata": {
    "datalore": {
     "hide_input_from_viewers": true,
     "hide_output_from_viewers": true,
     "node_id": "7UfKODvH3OSzFB1L8xrxuR",
     "type": "MD"
    }
   },
   "source": [
    "Vamos a ver si la nueva clase funciona correctamente."
   ]
  },
  {
   "cell_type": "code",
   "execution_count": 70,
   "metadata": {
    "datalore": {
     "hide_input_from_viewers": true,
     "hide_output_from_viewers": true,
     "node_id": "rRFcwKAHc2WzYtM2j4iQpF",
     "type": "CODE"
    }
   },
   "outputs": [],
   "source": [
    "cromosoma_ejemplo = [[1, 0],[1, 0]]"
   ]
  },
  {
   "cell_type": "code",
   "execution_count": 71,
   "metadata": {
    "datalore": {
     "hide_input_from_viewers": true,
     "hide_output_from_viewers": true,
     "node_id": "rCe0VehsXhA2u2IsQTFyfM",
     "type": "CODE"
    }
   },
   "outputs": [
    {
     "data": {
      "text/plain": [
       "0"
      ]
     },
     "execution_count": 71,
     "metadata": {},
     "output_type": "execute_result"
    }
   ],
   "source": [
    "nanograma_ejemplo.fitness(cromosoma_ejemplo)"
   ]
  },
  {
   "cell_type": "code",
   "execution_count": 72,
   "metadata": {
    "datalore": {
     "hide_input_from_viewers": true,
     "hide_output_from_viewers": true,
     "node_id": "sWIy81IkbOD4OtmkyVGyjZ",
     "type": "CODE"
    }
   },
   "outputs": [],
   "source": [
    "cromosoma_ejemplo = [[1, 0],[0, 1]]"
   ]
  },
  {
   "cell_type": "code",
   "execution_count": 73,
   "metadata": {
    "datalore": {
     "hide_input_from_viewers": true,
     "hide_output_from_viewers": true,
     "node_id": "xovI6x8lGdZ58ans4sSn9I",
     "type": "CODE"
    }
   },
   "outputs": [
    {
     "data": {
      "text/plain": [
       "2"
      ]
     },
     "execution_count": 73,
     "metadata": {},
     "output_type": "execute_result"
    }
   ],
   "source": [
    "nanograma_ejemplo.fitness(cromosoma_ejemplo)"
   ]
  },
  {
   "cell_type": "markdown",
   "metadata": {
    "datalore": {
     "hide_input_from_viewers": true,
     "hide_output_from_viewers": true,
     "node_id": "JkOS6oxbtou9HE6CMMQWp3",
     "type": "MD"
    }
   },
   "source": [
    "Como podemos observar, la función de evaluación funciona como debería. Veamos ahora que la representación:"
   ]
  },
  {
   "cell_type": "code",
   "execution_count": 74,
   "metadata": {
    "datalore": {
     "hide_input_from_viewers": true,
     "hide_output_from_viewers": true,
     "node_id": "PEdjXztLGE3yc4CAnaKLEO",
     "type": "CODE"
    }
   },
   "outputs": [
    {
     "name": "stdout",
     "output_type": "stream",
     "text": [
      "────\n",
      "██░░\n",
      "░░██\n",
      "\n"
     ]
    }
   ],
   "source": [
    "#Imprimir el tablero\n",
    "print(nanograma_ejemplo.decodifica(cromosoma_ejemplo))"
   ]
  },
  {
   "cell_type": "code",
   "execution_count": 75,
   "metadata": {
    "datalore": {
     "hide_input_from_viewers": true,
     "hide_output_from_viewers": true,
     "node_id": "lNBsyquO0NGm1PyIr8h0Ls",
     "type": "CODE"
    }
   },
   "outputs": [
    {
     "data": {
      "text/plain": [
       "[[[0, 1], [1, 0]],\n",
       " [[0, 1], [1, 0]],\n",
       " [[1, 0], [0, 1]],\n",
       " [[0, 1], [1, 0]],\n",
       " [[0, 1], [0, 1]],\n",
       " [[1, 0], [0, 1]],\n",
       " [[0, 1], [0, 1]],\n",
       " [[0, 1], [1, 0]],\n",
       " [[0, 1], [0, 1]],\n",
       " [[1, 0], [0, 1]]]"
      ]
     },
     "execution_count": 75,
     "metadata": {},
     "output_type": "execute_result"
    }
   ],
   "source": [
    "#Generamos una población inicial para ver que funciona correctamente.\n",
    "nanograma_ejemplo.poblacion_inicial()"
   ]
  },
  {
   "cell_type": "code",
   "execution_count": 76,
   "metadata": {
    "datalore": {
     "hide_input_from_viewers": true,
     "hide_output_from_viewers": true,
     "node_id": "FsrL6EUiWLanbGQ92VGSAP",
     "type": "CODE"
    }
   },
   "outputs": [
    {
     "data": {
      "text/plain": [
       "([[0, 0, 0], [1, 1, 1], [1, 1, 1]], [[1, 1, 1], [0, 0, 0], [0, 0, 0]])"
      ]
     },
     "execution_count": 76,
     "metadata": {},
     "output_type": "execute_result"
    }
   ],
   "source": [
    "#Veamos que la fución de cruce funciona tal y como se ha descrito.\n",
    "c1 = [[1,1,1],[1,1,1],[1,1,1]]\n",
    "c2 = [[0]*3]*3\n",
    "cruce_nanograma(c1,c2)"
   ]
  },
  {
   "cell_type": "code",
   "execution_count": 77,
   "metadata": {
    "datalore": {
     "hide_input_from_viewers": true,
     "hide_output_from_viewers": true,
     "node_id": "r72ltORZjTvJKHOjsACYN7",
     "type": "CODE"
    }
   },
   "outputs": [
    {
     "data": {
      "text/plain": [
       "[[0, 0, 1], [0, 0, 1], [1, 0, 0]]"
      ]
     },
     "execution_count": 77,
     "metadata": {},
     "output_type": "execute_result"
    }
   ],
   "source": [
    "#Veamos que la función de mutación cumple con lo descrito\n",
    "cromosoma_a_mutar = [[0,0,1]]*3\n",
    "muta_ciclo(cromosoma_a_mutar,1)"
   ]
  },
  {
   "cell_type": "code",
   "execution_count": 78,
   "metadata": {
    "datalore": {
     "hide_input_from_viewers": true,
     "hide_output_from_viewers": true,
     "node_id": "gkgCxP7WIhUACyljBTltF6",
     "type": "CODE"
    }
   },
   "outputs": [],
   "source": [
    "#Ahora toca ver si nuestra implementacion puede resolver el problema. Para ello ajustamos el algoritmo genético para nuestro\n",
    "#problema.\n",
    "\n",
    "def algoritmo_genetico_nanograma(\n",
    "    func_mut = muta_ciclo,\n",
    "    func_cruce = cruce_nanograma,\n",
    "    reglas = [[1], [1], [2], [0]],\n",
    "    tam_nanograma = 2,\n",
    "    k = 2, # Parámetro de la selección por torneo\n",
    "    ngen = 10,\n",
    "    n_individuos = 10, \n",
    "    prob_cruces = 0.7,\n",
    "    prob_mutar = 0.1,\n",
    "    stop_at_best = True,\n",
    "):\n",
    "    problema = Nanograma(func_mut, func_cruce, reglas, tam_nanograma)\n",
    "    poblacion = problema.poblacion_inicial(n_individuos)\n",
    "    \n",
    "    n_padres = round(n_individuos * prob_cruces)\n",
    "    n_padres = int(n_padres - n_padres % 2)\n",
    "    n_directos = n_individuos - n_padres\n",
    "\n",
    "    print(f\"\"\"\n",
    "Comienzo de la evolución con parámetros:\n",
    "    {ngen=}\n",
    "    {n_individuos=}\n",
    "    func_mut={func_mut.__name__}\n",
    "    func_cruce={func_cruce.__name__}\n",
    "    {prob_cruces=}\n",
    "    {prob_mutar=}\n",
    "Inicio de la evolución:\"\"\")\n",
    "    mejor_individuo_total = poblacion[1]\n",
    "    mejor_puntuacion = problema.fitness(mejor_individuo_total)\n",
    "    print(f\"Generación {str(0).rjust(len(str(ngen)))}: Puntuación media {sum(problema.fitness(x) for x in poblacion) / len(poblacion)}\")\n",
    "    for gen in range(ngen):\n",
    "        poblacion = nueva_generacion(problema, k, min, poblacion, n_padres, n_directos, prob_mutar)\n",
    "        mejor_individuo = min(poblacion, key=problema.fitness)\n",
    "        mejor_individuo_total = min((mejor_individuo_total,mejor_individuo), key=problema.fitness)\n",
    "        mejor_puntuacion = problema.fitness(mejor_individuo_total)\n",
    "        print(f\"Generación {str(gen+1).rjust(len(str(ngen)))}: Puntuación media {sum(problema.fitness(x) for x in poblacion) / len(poblacion)}: Mejor puntuación de la generación: {mejor_puntuacion}\")\n",
    "        if stop_at_best and mejor_puntuacion == 0:\n",
    "            return problema.fun_dec(mejor_individuo_total), mejor_puntuacion\n",
    "\n",
    "    return problema.fun_dec(mejor_individuo_total), mejor_puntuacion"
   ]
  },
  {
   "cell_type": "markdown",
   "metadata": {
    "datalore": {
     "hide_input_from_viewers": true,
     "hide_output_from_viewers": true,
     "node_id": "yZWYztSPrnxlEhpoj6BJ7p",
     "type": "MD"
    }
   },
   "source": [
    "También reusamos la siguiente función para hacer análisis sobre varias ejecuciones."
   ]
  },
  {
   "cell_type": "code",
   "execution_count": 79,
   "metadata": {
    "datalore": {
     "hide_input_from_viewers": true,
     "hide_output_from_viewers": true,
     "node_id": "v83Km5hMv2B9THpELfFXoO",
     "type": "CODE"
    }
   },
   "outputs": [],
   "source": [
    "def test_nanograma(iteraciones = 1,**kwargs):\n",
    "    success = 0\n",
    "    total_fitness = 0\n",
    "\n",
    "    for i in range(iteraciones):\n",
    "        best, fitness = algoritmo_genetico_nanograma(**kwargs)\n",
    "        total_fitness += fitness\n",
    "        if fitness == 0:\n",
    "            success += 1\n",
    "            print(\"Solucion encontrada:\\n\" + str(best) + \" con fitness \" + str(fitness))\n",
    "\n",
    "    # Imprimir tasa de exito\n",
    "    print(\"Success: \" + str(success) + \"/\" + str(iteraciones))\n",
    "\n",
    "    # Imprimir fitness medio\n",
    "    print(\"Fitness medio de la mejor solucióna: \" + str(total_fitness / iteraciones))"
   ]
  },
  {
   "cell_type": "markdown",
   "metadata": {
    "datalore": {
     "hide_input_from_viewers": true,
     "hide_output_from_viewers": true,
     "node_id": "aRu4StVNsA0fHz4zs5NfqW",
     "type": "MD"
    }
   },
   "source": [
    "Probemos con una población de diez individuos y una sola iteración, con el resto de parámetros por defecto."
   ]
  },
  {
   "cell_type": "code",
   "execution_count": 80,
   "metadata": {
    "datalore": {
     "hide_input_from_viewers": true,
     "hide_output_from_viewers": true,
     "node_id": "IP3YqzKMoFFfsG5tzyONPC",
     "type": "CODE"
    }
   },
   "outputs": [
    {
     "name": "stdout",
     "output_type": "stream",
     "text": [
      "\n",
      "Comienzo de la evolución con parámetros:\n",
      "    ngen=10\n",
      "    n_individuos=10\n",
      "    func_mut=muta_ciclo\n",
      "    func_cruce=cruce_nanograma\n",
      "    prob_cruces=0.7\n",
      "    prob_mutar=0.1\n",
      "Inicio de la evolución:\n",
      "Generación  0: Puntuación media 1.4\n",
      "Generación  1: Puntuación media 1.8: Mejor puntuación de la generación: 0\n",
      "Solucion encontrada:\n",
      "────\n",
      "██░░\n",
      "██░░\n",
      " con fitness 0\n",
      "Success: 1/1\n",
      "Fitness medio de la mejor solucióna: 0.0\n"
     ]
    }
   ],
   "source": [
    "test_nanograma(n_individuos = 10, k = 1, iteraciones = 1)"
   ]
  },
  {
   "cell_type": "markdown",
   "metadata": {
    "datalore": {
     "hide_input_from_viewers": true,
     "hide_output_from_viewers": true,
     "node_id": "pzDOMwT8L8oO7rsT4FFAVu",
     "type": "MD"
    }
   },
   "source": [
    "Puesto que el problema es pequeño, encontramos la solución rápidamente. Probemos a continuación con un problema más complejo, por ejemplo con el que aparece en el enunciado. Observamos que encontramos la solución en pocas generaciones, en cambio si disminuimos el número de hijos por generación no importa que demos lugar a muchas generaciones; el problema tarda mucho más en encontrar la solución(si llega a ella)."
   ]
  },
  {
   "cell_type": "code",
   "execution_count": 81,
   "metadata": {
    "datalore": {
     "hide_input_from_viewers": true,
     "hide_output_from_viewers": true,
     "node_id": "mxNAchTDVGmH7Fax3yomUw",
     "type": "CODE"
    }
   },
   "outputs": [
    {
     "name": "stdout",
     "output_type": "stream",
     "text": [
      "\n",
      "Comienzo de la evolución con parámetros:\n",
      "    ngen=1000\n",
      "    n_individuos=200\n",
      "    func_mut=muta_ciclo\n",
      "    func_cruce=cruce_nanograma\n",
      "    prob_cruces=0.7\n",
      "    prob_mutar=0.1\n",
      "Inicio de la evolución:\n",
      "Generación    0: Puntuación media 6.995\n",
      "Generación    1: Puntuación media 5.97: Mejor puntuación de la generación: 3\n",
      "Generación    2: Puntuación media 5.105: Mejor puntuación de la generación: 0\n",
      "Solucion encontrada:\n",
      "──────────\n",
      "██████████\n",
      "████░░░░░░\n",
      "░░████████\n",
      "████░░░░██\n",
      "░░████░░██\n",
      " con fitness 0\n",
      "Success: 1/1\n",
      "Fitness medio de la mejor solucióna: 0.0\n"
     ]
    }
   ],
   "source": [
    "#Prueba con una población de 200 individuos.\n",
    "test_nanograma(\n",
    "    iteraciones=1,\n",
    "    reglas = [[5], [2], [4], [2,1], [2,1]] + [[2,1],[5],[1,1,1],[1,1],[1,3]],\n",
    "    tam_nanograma = 5,\n",
    "    k = 3, # Parámetro de la selección por torneo\n",
    "    ngen = 1000,\n",
    "    n_individuos = 200, \n",
    "    prob_cruces = 0.7,\n",
    "    prob_mutar = 0.1\n",
    ")"
   ]
  },
  {
   "cell_type": "code",
   "execution_count": 106,
   "metadata": {
    "datalore": {
     "hide_input_from_viewers": true,
     "hide_output_from_viewers": true,
     "node_id": "XChrbmEU52GTnFrv1dxdDJ",
     "type": "CODE"
    }
   },
   "outputs": [
    {
     "name": "stdout",
     "output_type": "stream",
     "text": [
      "\n",
      "Comienzo de la evolución con parámetros:\n",
      "    ngen=10000\n",
      "    n_individuos=80\n",
      "    func_mut=muta_ciclo\n",
      "    func_cruce=cruce_nanograma\n",
      "    prob_cruces=0.7\n",
      "    prob_mutar=0.1\n",
      "Inicio de la evolución:\n",
      "Generación     0: Puntuación media 6.9875\n",
      "Generación     1: Puntuación media 5.725: Mejor puntuación de la generación: 3\n",
      "Generación     2: Puntuación media 5.0: Mejor puntuación de la generación: 3\n",
      "Generación     3: Puntuación media 4.325: Mejor puntuación de la generación: 0\n",
      "Solucion encontrada:\n",
      "──────────\n",
      "██████████\n",
      "████░░░░░░\n",
      "░░████████\n",
      "████░░░░██\n",
      "░░████░░██\n",
      " con fitness 0\n",
      "Success: 1/1\n",
      "Fitness medio de la mejor solucióna: 0.0\n"
     ]
    }
   ],
   "source": [
    "# Prueba con una población de 10 individuos.\n",
    "test_nanograma(\n",
    "    iteraciones=1,\n",
    "    reglas = [[5], [2], [4], [2,1], [2,1]] + [[2,1],[5],[1,1,1],[1,1],[1,3]],\n",
    "    tam_nanograma = 5,\n",
    "    k = 3, # Parámetro de la selección por torneo\n",
    "    ngen = 10000,\n",
    "    n_individuos = 80, \n",
    "    prob_cruces = 0.7,\n",
    "    prob_mutar = 0.1\n",
    ")"
   ]
  },
  {
   "cell_type": "markdown",
   "metadata": {
    "datalore": {
     "hide_input_from_viewers": true,
     "hide_output_from_viewers": true,
     "node_id": "AvzSk20sz733YdvSP38sIJ",
     "type": "MD"
    }
   },
   "source": [
    "Observamos por las distintas pruebas que cuando el número de hijos es bajo (entre 10 y 100) por mucho que aumentemos el número de generaciones, el algoritmo se acerca a la solución pero no suele llegar a ancanzarla. Por otro lado, si aumentamos el número de individuos de la población (entre 150 y 200) en menos de diez generaciones conseguirmos alcanzar las soluciones. Esto tiene sentido, pues en algoritmos genéticos es más importante la variedad genética que el número de iteraciones, y cuantos más individuos halla, mayor diversidad genética acaba habiendo."
   ]
  },
  {
   "cell_type": "code",
   "execution_count": 82,
   "metadata": {
    "datalore": {
     "hide_input_from_viewers": true,
     "hide_output_from_viewers": true,
     "node_id": "ORPhkdOGyPncWQmWkLpuVL",
     "type": "CODE"
    },
    "scrolled": true
   },
   "outputs": [
    {
     "name": "stdout",
     "output_type": "stream",
     "text": [
      "\n",
      "Comienzo de la evolución con parámetros:\n",
      "    ngen=1000\n",
      "    n_individuos=300\n",
      "    func_mut=muta_ciclo\n",
      "    func_cruce=cruce_nanograma\n",
      "    prob_cruces=0.7\n",
      "    prob_mutar=0.1\n",
      "Inicio de la evolución:\n",
      "Generación    0: Puntuación media 11.346666666666666\n",
      "Generación    1: Puntuación media 10.41: Mejor puntuación de la generación: 7\n",
      "Generación    2: Puntuación media 9.646666666666667: Mejor puntuación de la generación: 7\n",
      "Generación    3: Puntuación media 8.926666666666666: Mejor puntuación de la generación: 6\n",
      "Generación    4: Puntuación media 8.32: Mejor puntuación de la generación: 6\n",
      "Generación    5: Puntuación media 7.633333333333334: Mejor puntuación de la generación: 6\n",
      "Generación    6: Puntuación media 7.066666666666666: Mejor puntuación de la generación: 5\n",
      "Generación    7: Puntuación media 6.51: Mejor puntuación de la generación: 5\n",
      "Generación    8: Puntuación media 6.073333333333333: Mejor puntuación de la generación: 5\n",
      "Generación    9: Puntuación media 5.79: Mejor puntuación de la generación: 5\n",
      "Generación   10: Puntuación media 5.466666666666667: Mejor puntuación de la generación: 5\n",
      "Generación   11: Puntuación media 5.306666666666667: Mejor puntuación de la generación: 5\n",
      "Generación   12: Puntuación media 5.24: Mejor puntuación de la generación: 5\n",
      "Generación   13: Puntuación media 5.196666666666666: Mejor puntuación de la generación: 5\n",
      "Generación   14: Puntuación media 5.21: Mejor puntuación de la generación: 5\n",
      "Generación   15: Puntuación media 5.263333333333334: Mejor puntuación de la generación: 4\n",
      "Generación   16: Puntuación media 5.233333333333333: Mejor puntuación de la generación: 4\n",
      "Generación   17: Puntuación media 5.183333333333334: Mejor puntuación de la generación: 4\n",
      "Generación   18: Puntuación media 5.19: Mejor puntuación de la generación: 4\n",
      "Generación   19: Puntuación media 5.123333333333333: Mejor puntuación de la generación: 4\n",
      "Generación   20: Puntuación media 5.1433333333333335: Mejor puntuación de la generación: 4\n",
      "Generación   21: Puntuación media 5.1033333333333335: Mejor puntuación de la generación: 4\n",
      "Generación   22: Puntuación media 4.993333333333333: Mejor puntuación de la generación: 4\n",
      "Generación   23: Puntuación media 4.963333333333333: Mejor puntuación de la generación: 4\n",
      "Generación   24: Puntuación media 4.836666666666667: Mejor puntuación de la generación: 4\n",
      "Generación   25: Puntuación media 4.65: Mejor puntuación de la generación: 4\n",
      "Generación   26: Puntuación media 4.556666666666667: Mejor puntuación de la generación: 4\n",
      "Generación   27: Puntuación media 4.476666666666667: Mejor puntuación de la generación: 4\n",
      "Generación   28: Puntuación media 4.466666666666667: Mejor puntuación de la generación: 4\n",
      "Generación   29: Puntuación media 4.49: Mejor puntuación de la generación: 4\n",
      "Generación   30: Puntuación media 4.42: Mejor puntuación de la generación: 4\n",
      "Generación   31: Puntuación media 4.276666666666666: Mejor puntuación de la generación: 4\n",
      "Generación   32: Puntuación media 4.28: Mejor puntuación de la generación: 4\n",
      "Generación   33: Puntuación media 4.206666666666667: Mejor puntuación de la generación: 4\n",
      "Generación   34: Puntuación media 4.3566666666666665: Mejor puntuación de la generación: 4\n",
      "Generación   35: Puntuación media 4.196666666666666: Mejor puntuación de la generación: 4\n",
      "Generación   36: Puntuación media 4.226666666666667: Mejor puntuación de la generación: 4\n",
      "Generación   37: Puntuación media 4.17: Mejor puntuación de la generación: 4\n",
      "Generación   38: Puntuación media 4.383333333333334: Mejor puntuación de la generación: 4\n",
      "Generación   39: Puntuación media 4.1: Mejor puntuación de la generación: 4\n",
      "Generación   40: Puntuación media 4.266666666666667: Mejor puntuación de la generación: 4\n",
      "Generación   41: Puntuación media 4.26: Mejor puntuación de la generación: 4\n",
      "Generación   42: Puntuación media 4.19: Mejor puntuación de la generación: 4\n",
      "Generación   43: Puntuación media 4.27: Mejor puntuación de la generación: 4\n",
      "Generación   44: Puntuación media 4.223333333333334: Mejor puntuación de la generación: 4\n",
      "Generación   45: Puntuación media 4.1466666666666665: Mejor puntuación de la generación: 4\n",
      "Generación   46: Puntuación media 4.18: Mejor puntuación de la generación: 4\n",
      "Generación   47: Puntuación media 4.26: Mejor puntuación de la generación: 4\n",
      "Generación   48: Puntuación media 4.226666666666667: Mejor puntuación de la generación: 4\n",
      "Generación   49: Puntuación media 4.24: Mejor puntuación de la generación: 4\n",
      "Generación   50: Puntuación media 4.266666666666667: Mejor puntuación de la generación: 4\n",
      "Generación   51: Puntuación media 4.183333333333334: Mejor puntuación de la generación: 4\n",
      "Generación   52: Puntuación media 4.21: Mejor puntuación de la generación: 4\n",
      "Generación   53: Puntuación media 4.226666666666667: Mejor puntuación de la generación: 4\n",
      "Generación   54: Puntuación media 4.17: Mejor puntuación de la generación: 4\n",
      "Generación   55: Puntuación media 4.18: Mejor puntuación de la generación: 4\n",
      "Generación   56: Puntuación media 4.246666666666667: Mejor puntuación de la generación: 4\n",
      "Generación   57: Puntuación media 4.303333333333334: Mejor puntuación de la generación: 4\n",
      "Generación   58: Puntuación media 4.263333333333334: Mejor puntuación de la generación: 4\n",
      "Generación   59: Puntuación media 4.26: Mejor puntuación de la generación: 4\n",
      "Generación   60: Puntuación media 4.286666666666667: Mejor puntuación de la generación: 4\n",
      "Generación   61: Puntuación media 4.276666666666666: Mejor puntuación de la generación: 4\n",
      "Generación   62: Puntuación media 4.286666666666667: Mejor puntuación de la generación: 4\n",
      "Generación   63: Puntuación media 4.253333333333333: Mejor puntuación de la generación: 4\n",
      "Generación   64: Puntuación media 4.203333333333333: Mejor puntuación de la generación: 4\n",
      "Generación   65: Puntuación media 4.266666666666667: Mejor puntuación de la generación: 4\n",
      "Generación   66: Puntuación media 4.306666666666667: Mejor puntuación de la generación: 4\n",
      "Generación   67: Puntuación media 4.266666666666667: Mejor puntuación de la generación: 4\n",
      "Generación   68: Puntuación media 4.233333333333333: Mejor puntuación de la generación: 4\n",
      "Generación   69: Puntuación media 4.316666666666666: Mejor puntuación de la generación: 4\n",
      "Generación   70: Puntuación media 4.213333333333333: Mejor puntuación de la generación: 4\n",
      "Generación   71: Puntuación media 4.283333333333333: Mejor puntuación de la generación: 4\n",
      "Generación   72: Puntuación media 4.226666666666667: Mejor puntuación de la generación: 4\n",
      "Generación   73: Puntuación media 4.22: Mejor puntuación de la generación: 4\n",
      "Generación   74: Puntuación media 4.33: Mejor puntuación de la generación: 4\n",
      "Generación   75: Puntuación media 4.24: Mejor puntuación de la generación: 4\n",
      "Generación   76: Puntuación media 4.2: Mejor puntuación de la generación: 4\n",
      "Generación   77: Puntuación media 4.1866666666666665: Mejor puntuación de la generación: 4\n",
      "Generación   78: Puntuación media 4.233333333333333: Mejor puntuación de la generación: 4\n",
      "Generación   79: Puntuación media 4.216666666666667: Mejor puntuación de la generación: 4\n",
      "Generación   80: Puntuación media 4.286666666666667: Mejor puntuación de la generación: 4\n",
      "Generación   81: Puntuación media 4.183333333333334: Mejor puntuación de la generación: 4\n",
      "Generación   82: Puntuación media 4.176666666666667: Mejor puntuación de la generación: 4\n",
      "Generación   83: Puntuación media 4.213333333333333: Mejor puntuación de la generación: 4\n",
      "Generación   84: Puntuación media 4.26: Mejor puntuación de la generación: 4\n",
      "Generación   85: Puntuación media 4.33: Mejor puntuación de la generación: 4\n",
      "Generación   86: Puntuación media 4.24: Mejor puntuación de la generación: 4\n",
      "Generación   87: Puntuación media 4.17: Mejor puntuación de la generación: 4\n",
      "Generación   88: Puntuación media 4.206666666666667: Mejor puntuación de la generación: 4\n",
      "Generación   89: Puntuación media 4.233333333333333: Mejor puntuación de la generación: 4\n",
      "Generación   90: Puntuación media 4.193333333333333: Mejor puntuación de la generación: 4\n",
      "Generación   91: Puntuación media 4.183333333333334: Mejor puntuación de la generación: 4\n",
      "Generación   92: Puntuación media 4.253333333333333: Mejor puntuación de la generación: 4\n",
      "Generación   93: Puntuación media 4.213333333333333: Mejor puntuación de la generación: 4\n"
     ]
    },
    {
     "name": "stdout",
     "output_type": "stream",
     "text": [
      "Generación   94: Puntuación media 4.25: Mejor puntuación de la generación: 4\n",
      "Generación   95: Puntuación media 4.34: Mejor puntuación de la generación: 4\n",
      "Generación   96: Puntuación media 4.256666666666667: Mejor puntuación de la generación: 4\n",
      "Generación   97: Puntuación media 4.203333333333333: Mejor puntuación de la generación: 4\n",
      "Generación   98: Puntuación media 4.1433333333333335: Mejor puntuación de la generación: 4\n",
      "Generación   99: Puntuación media 4.246666666666667: Mejor puntuación de la generación: 4\n",
      "Generación  100: Puntuación media 4.243333333333333: Mejor puntuación de la generación: 4\n",
      "Generación  101: Puntuación media 4.303333333333334: Mejor puntuación de la generación: 4\n",
      "Generación  102: Puntuación media 4.373333333333333: Mejor puntuación de la generación: 4\n",
      "Generación  103: Puntuación media 4.17: Mejor puntuación de la generación: 4\n",
      "Generación  104: Puntuación media 4.27: Mejor puntuación de la generación: 4\n",
      "Generación  105: Puntuación media 4.323333333333333: Mejor puntuación de la generación: 4\n",
      "Generación  106: Puntuación media 4.196666666666666: Mejor puntuación de la generación: 4\n",
      "Generación  107: Puntuación media 4.263333333333334: Mejor puntuación de la generación: 4\n",
      "Generación  108: Puntuación media 4.273333333333333: Mejor puntuación de la generación: 4\n",
      "Generación  109: Puntuación media 4.326666666666667: Mejor puntuación de la generación: 4\n",
      "Generación  110: Puntuación media 4.1466666666666665: Mejor puntuación de la generación: 4\n",
      "Generación  111: Puntuación media 4.173333333333333: Mejor puntuación de la generación: 4\n",
      "Generación  112: Puntuación media 4.216666666666667: Mejor puntuación de la generación: 4\n",
      "Generación  113: Puntuación media 4.166666666666667: Mejor puntuación de la generación: 4\n",
      "Generación  114: Puntuación media 4.283333333333333: Mejor puntuación de la generación: 4\n",
      "Generación  115: Puntuación media 4.223333333333334: Mejor puntuación de la generación: 4\n",
      "Generación  116: Puntuación media 4.203333333333333: Mejor puntuación de la generación: 4\n",
      "Generación  117: Puntuación media 4.19: Mejor puntuación de la generación: 4\n",
      "Generación  118: Puntuación media 4.236666666666666: Mejor puntuación de la generación: 4\n",
      "Generación  119: Puntuación media 4.263333333333334: Mejor puntuación de la generación: 4\n",
      "Generación  120: Puntuación media 4.206666666666667: Mejor puntuación de la generación: 4\n",
      "Generación  121: Puntuación media 4.193333333333333: Mejor puntuación de la generación: 4\n",
      "Generación  122: Puntuación media 4.236666666666666: Mejor puntuación de la generación: 4\n",
      "Generación  123: Puntuación media 4.236666666666666: Mejor puntuación de la generación: 4\n",
      "Generación  124: Puntuación media 4.156666666666666: Mejor puntuación de la generación: 4\n",
      "Generación  125: Puntuación media 4.3: Mejor puntuación de la generación: 4\n",
      "Generación  126: Puntuación media 4.19: Mejor puntuación de la generación: 4\n",
      "Generación  127: Puntuación media 4.183333333333334: Mejor puntuación de la generación: 4\n",
      "Generación  128: Puntuación media 4.173333333333333: Mejor puntuación de la generación: 4\n",
      "Generación  129: Puntuación media 4.31: Mejor puntuación de la generación: 4\n",
      "Generación  130: Puntuación media 4.23: Mejor puntuación de la generación: 4\n",
      "Generación  131: Puntuación media 4.22: Mejor puntuación de la generación: 4\n",
      "Generación  132: Puntuación media 4.28: Mejor puntuación de la generación: 4\n",
      "Generación  133: Puntuación media 4.203333333333333: Mejor puntuación de la generación: 4\n",
      "Generación  134: Puntuación media 4.25: Mejor puntuación de la generación: 4\n",
      "Generación  135: Puntuación media 4.263333333333334: Mejor puntuación de la generación: 4\n",
      "Generación  136: Puntuación media 4.26: Mejor puntuación de la generación: 4\n",
      "Generación  137: Puntuación media 4.196666666666666: Mejor puntuación de la generación: 4\n",
      "Generación  138: Puntuación media 4.206666666666667: Mejor puntuación de la generación: 4\n",
      "Generación  139: Puntuación media 4.24: Mejor puntuación de la generación: 4\n",
      "Generación  140: Puntuación media 4.26: Mejor puntuación de la generación: 4\n",
      "Generación  141: Puntuación media 4.296666666666667: Mejor puntuación de la generación: 4\n",
      "Generación  142: Puntuación media 4.306666666666667: Mejor puntuación de la generación: 4\n",
      "Generación  143: Puntuación media 4.226666666666667: Mejor puntuación de la generación: 4\n",
      "Generación  144: Puntuación media 4.193333333333333: Mejor puntuación de la generación: 4\n",
      "Generación  145: Puntuación media 4.21: Mejor puntuación de la generación: 4\n",
      "Generación  146: Puntuación media 4.336666666666667: Mejor puntuación de la generación: 4\n",
      "Generación  147: Puntuación media 4.28: Mejor puntuación de la generación: 4\n",
      "Generación  148: Puntuación media 4.25: Mejor puntuación de la generación: 4\n",
      "Generación  149: Puntuación media 4.206666666666667: Mejor puntuación de la generación: 4\n",
      "Generación  150: Puntuación media 4.19: Mejor puntuación de la generación: 4\n",
      "Generación  151: Puntuación media 4.226666666666667: Mejor puntuación de la generación: 4\n",
      "Generación  152: Puntuación media 4.266666666666667: Mejor puntuación de la generación: 4\n",
      "Generación  153: Puntuación media 4.203333333333333: Mejor puntuación de la generación: 4\n",
      "Generación  154: Puntuación media 4.246666666666667: Mejor puntuación de la generación: 4\n",
      "Generación  155: Puntuación media 4.243333333333333: Mejor puntuación de la generación: 4\n",
      "Generación  156: Puntuación media 4.286666666666667: Mejor puntuación de la generación: 4\n",
      "Generación  157: Puntuación media 4.3: Mejor puntuación de la generación: 4\n",
      "Generación  158: Puntuación media 4.203333333333333: Mejor puntuación de la generación: 4\n",
      "Generación  159: Puntuación media 4.263333333333334: Mejor puntuación de la generación: 4\n",
      "Generación  160: Puntuación media 4.153333333333333: Mejor puntuación de la generación: 4\n",
      "Generación  161: Puntuación media 4.16: Mejor puntuación de la generación: 4\n",
      "Generación  162: Puntuación media 4.196666666666666: Mejor puntuación de la generación: 4\n",
      "Generación  163: Puntuación media 4.1866666666666665: Mejor puntuación de la generación: 4\n",
      "Generación  164: Puntuación media 4.293333333333333: Mejor puntuación de la generación: 4\n",
      "Generación  165: Puntuación media 4.28: Mejor puntuación de la generación: 4\n",
      "Generación  166: Puntuación media 4.246666666666667: Mejor puntuación de la generación: 4\n",
      "Generación  167: Puntuación media 4.166666666666667: Mejor puntuación de la generación: 4\n",
      "Generación  168: Puntuación media 4.216666666666667: Mejor puntuación de la generación: 4\n",
      "Generación  169: Puntuación media 4.25: Mejor puntuación de la generación: 4\n",
      "Generación  170: Puntuación media 4.263333333333334: Mejor puntuación de la generación: 4\n",
      "Generación  171: Puntuación media 4.22: Mejor puntuación de la generación: 4\n",
      "Generación  172: Puntuación media 4.183333333333334: Mejor puntuación de la generación: 4\n",
      "Generación  173: Puntuación media 4.29: Mejor puntuación de la generación: 4\n",
      "Generación  174: Puntuación media 4.28: Mejor puntuación de la generación: 4\n",
      "Generación  175: Puntuación media 4.266666666666667: Mejor puntuación de la generación: 4\n",
      "Generación  176: Puntuación media 4.1866666666666665: Mejor puntuación de la generación: 4\n",
      "Generación  177: Puntuación media 4.236666666666666: Mejor puntuación de la generación: 4\n",
      "Generación  178: Puntuación media 4.223333333333334: Mejor puntuación de la generación: 4\n",
      "Generación  179: Puntuación media 4.213333333333333: Mejor puntuación de la generación: 4\n",
      "Generación  180: Puntuación media 4.163333333333333: Mejor puntuación de la generación: 4\n",
      "Generación  181: Puntuación media 4.1866666666666665: Mejor puntuación de la generación: 4\n",
      "Generación  182: Puntuación media 4.253333333333333: Mejor puntuación de la generación: 4\n",
      "Generación  183: Puntuación media 4.203333333333333: Mejor puntuación de la generación: 4\n",
      "Generación  184: Puntuación media 4.226666666666667: Mejor puntuación de la generación: 4\n",
      "Generación  185: Puntuación media 4.31: Mejor puntuación de la generación: 4\n",
      "Generación  186: Puntuación media 4.17: Mejor puntuación de la generación: 4\n",
      "Generación  187: Puntuación media 4.1866666666666665: Mejor puntuación de la generación: 4\n",
      "Generación  188: Puntuación media 4.216666666666667: Mejor puntuación de la generación: 4\n",
      "Generación  189: Puntuación media 4.183333333333334: Mejor puntuación de la generación: 4\n"
     ]
    },
    {
     "name": "stdout",
     "output_type": "stream",
     "text": [
      "Generación  190: Puntuación media 4.1866666666666665: Mejor puntuación de la generación: 4\n",
      "Generación  191: Puntuación media 4.303333333333334: Mejor puntuación de la generación: 4\n",
      "Generación  192: Puntuación media 4.29: Mejor puntuación de la generación: 4\n",
      "Generación  193: Puntuación media 4.206666666666667: Mejor puntuación de la generación: 4\n",
      "Generación  194: Puntuación media 4.283333333333333: Mejor puntuación de la generación: 4\n",
      "Generación  195: Puntuación media 4.266666666666667: Mejor puntuación de la generación: 4\n",
      "Generación  196: Puntuación media 4.283333333333333: Mejor puntuación de la generación: 4\n",
      "Generación  197: Puntuación media 4.176666666666667: Mejor puntuación de la generación: 4\n",
      "Generación  198: Puntuación media 4.276666666666666: Mejor puntuación de la generación: 4\n",
      "Generación  199: Puntuación media 4.24: Mejor puntuación de la generación: 4\n",
      "Generación  200: Puntuación media 4.253333333333333: Mejor puntuación de la generación: 4\n",
      "Generación  201: Puntuación media 4.27: Mejor puntuación de la generación: 4\n",
      "Generación  202: Puntuación media 4.236666666666666: Mejor puntuación de la generación: 4\n",
      "Generación  203: Puntuación media 4.176666666666667: Mejor puntuación de la generación: 4\n",
      "Generación  204: Puntuación media 4.18: Mejor puntuación de la generación: 4\n",
      "Generación  205: Puntuación media 4.22: Mejor puntuación de la generación: 4\n",
      "Generación  206: Puntuación media 4.33: Mejor puntuación de la generación: 4\n",
      "Generación  207: Puntuación media 4.286666666666667: Mejor puntuación de la generación: 4\n",
      "Generación  208: Puntuación media 4.193333333333333: Mejor puntuación de la generación: 4\n",
      "Generación  209: Puntuación media 4.27: Mejor puntuación de la generación: 4\n",
      "Generación  210: Puntuación media 4.213333333333333: Mejor puntuación de la generación: 4\n",
      "Generación  211: Puntuación media 4.1866666666666665: Mejor puntuación de la generación: 4\n",
      "Generación  212: Puntuación media 4.25: Mejor puntuación de la generación: 4\n",
      "Generación  213: Puntuación media 4.193333333333333: Mejor puntuación de la generación: 4\n",
      "Generación  214: Puntuación media 4.17: Mejor puntuación de la generación: 4\n",
      "Generación  215: Puntuación media 4.243333333333333: Mejor puntuación de la generación: 4\n",
      "Generación  216: Puntuación media 4.206666666666667: Mejor puntuación de la generación: 4\n",
      "Generación  217: Puntuación media 4.236666666666666: Mejor puntuación de la generación: 4\n",
      "Generación  218: Puntuación media 4.156666666666666: Mejor puntuación de la generación: 4\n",
      "Generación  219: Puntuación media 4.203333333333333: Mejor puntuación de la generación: 4\n",
      "Generación  220: Puntuación media 4.19: Mejor puntuación de la generación: 4\n",
      "Generación  221: Puntuación media 4.223333333333334: Mejor puntuación de la generación: 4\n",
      "Generación  222: Puntuación media 4.22: Mejor puntuación de la generación: 4\n",
      "Generación  223: Puntuación media 4.25: Mejor puntuación de la generación: 4\n",
      "Generación  224: Puntuación media 4.196666666666666: Mejor puntuación de la generación: 4\n",
      "Generación  225: Puntuación media 4.273333333333333: Mejor puntuación de la generación: 4\n",
      "Generación  226: Puntuación media 4.236666666666666: Mejor puntuación de la generación: 4\n",
      "Generación  227: Puntuación media 4.236666666666666: Mejor puntuación de la generación: 4\n",
      "Generación  228: Puntuación media 4.25: Mejor puntuación de la generación: 4\n",
      "Generación  229: Puntuación media 4.226666666666667: Mejor puntuación de la generación: 4\n",
      "Generación  230: Puntuación media 4.25: Mejor puntuación de la generación: 4\n",
      "Generación  231: Puntuación media 4.19: Mejor puntuación de la generación: 4\n",
      "Generación  232: Puntuación media 4.183333333333334: Mejor puntuación de la generación: 4\n",
      "Generación  233: Puntuación media 4.226666666666667: Mejor puntuación de la generación: 4\n",
      "Generación  234: Puntuación media 4.266666666666667: Mejor puntuación de la generación: 4\n",
      "Generación  235: Puntuación media 4.216666666666667: Mejor puntuación de la generación: 4\n",
      "Generación  236: Puntuación media 4.1466666666666665: Mejor puntuación de la generación: 4\n",
      "Generación  237: Puntuación media 4.276666666666666: Mejor puntuación de la generación: 4\n",
      "Generación  238: Puntuación media 4.286666666666667: Mejor puntuación de la generación: 4\n",
      "Generación  239: Puntuación media 4.213333333333333: Mejor puntuación de la generación: 4\n",
      "Generación  240: Puntuación media 4.243333333333333: Mejor puntuación de la generación: 4\n",
      "Generación  241: Puntuación media 4.243333333333333: Mejor puntuación de la generación: 4\n",
      "Generación  242: Puntuación media 4.213333333333333: Mejor puntuación de la generación: 4\n",
      "Generación  243: Puntuación media 4.25: Mejor puntuación de la generación: 4\n",
      "Generación  244: Puntuación media 4.31: Mejor puntuación de la generación: 4\n",
      "Generación  245: Puntuación media 4.253333333333333: Mejor puntuación de la generación: 4\n",
      "Generación  246: Puntuación media 4.233333333333333: Mejor puntuación de la generación: 4\n",
      "Generación  247: Puntuación media 4.223333333333334: Mejor puntuación de la generación: 4\n",
      "Generación  248: Puntuación media 4.23: Mejor puntuación de la generación: 4\n",
      "Generación  249: Puntuación media 4.276666666666666: Mejor puntuación de la generación: 4\n",
      "Generación  250: Puntuación media 4.19: Mejor puntuación de la generación: 4\n",
      "Generación  251: Puntuación media 4.19: Mejor puntuación de la generación: 4\n",
      "Generación  252: Puntuación media 4.3: Mejor puntuación de la generación: 4\n",
      "Generación  253: Puntuación media 4.333333333333333: Mejor puntuación de la generación: 4\n",
      "Generación  254: Puntuación media 4.2: Mejor puntuación de la generación: 4\n",
      "Generación  255: Puntuación media 4.283333333333333: Mejor puntuación de la generación: 4\n",
      "Generación  256: Puntuación media 4.213333333333333: Mejor puntuación de la generación: 4\n",
      "Generación  257: Puntuación media 4.2: Mejor puntuación de la generación: 4\n",
      "Generación  258: Puntuación media 4.216666666666667: Mejor puntuación de la generación: 4\n",
      "Generación  259: Puntuación media 4.28: Mejor puntuación de la generación: 4\n",
      "Generación  260: Puntuación media 4.293333333333333: Mejor puntuación de la generación: 4\n",
      "Generación  261: Puntuación media 4.236666666666666: Mejor puntuación de la generación: 4\n",
      "Generación  262: Puntuación media 4.29: Mejor puntuación de la generación: 4\n",
      "Generación  263: Puntuación media 4.416666666666667: Mejor puntuación de la generación: 4\n",
      "Generación  264: Puntuación media 4.243333333333333: Mejor puntuación de la generación: 4\n",
      "Generación  265: Puntuación media 4.34: Mejor puntuación de la generación: 4\n",
      "Generación  266: Puntuación media 4.206666666666667: Mejor puntuación de la generación: 4\n",
      "Generación  267: Puntuación media 4.183333333333334: Mejor puntuación de la generación: 4\n",
      "Generación  268: Puntuación media 4.173333333333333: Mejor puntuación de la generación: 4\n",
      "Generación  269: Puntuación media 4.323333333333333: Mejor puntuación de la generación: 4\n",
      "Generación  270: Puntuación media 4.166666666666667: Mejor puntuación de la generación: 4\n",
      "Generación  271: Puntuación media 4.233333333333333: Mejor puntuación de la generación: 4\n",
      "Generación  272: Puntuación media 4.25: Mejor puntuación de la generación: 4\n",
      "Generación  273: Puntuación media 4.223333333333334: Mejor puntuación de la generación: 4\n",
      "Generación  274: Puntuación media 4.193333333333333: Mejor puntuación de la generación: 4\n",
      "Generación  275: Puntuación media 4.193333333333333: Mejor puntuación de la generación: 4\n",
      "Generación  276: Puntuación media 4.296666666666667: Mejor puntuación de la generación: 4\n",
      "Generación  277: Puntuación media 4.276666666666666: Mejor puntuación de la generación: 4\n",
      "Generación  278: Puntuación media 4.29: Mejor puntuación de la generación: 4\n",
      "Generación  279: Puntuación media 4.236666666666666: Mejor puntuación de la generación: 4\n",
      "Generación  280: Puntuación media 4.27: Mejor puntuación de la generación: 4\n",
      "Generación  281: Puntuación media 4.226666666666667: Mejor puntuación de la generación: 4\n",
      "Generación  282: Puntuación media 4.1866666666666665: Mejor puntuación de la generación: 4\n",
      "Generación  283: Puntuación media 4.24: Mejor puntuación de la generación: 4\n",
      "Generación  284: Puntuación media 4.233333333333333: Mejor puntuación de la generación: 4\n",
      "Generación  285: Puntuación media 4.256666666666667: Mejor puntuación de la generación: 4\n"
     ]
    },
    {
     "name": "stdout",
     "output_type": "stream",
     "text": [
      "Generación  286: Puntuación media 4.3: Mejor puntuación de la generación: 4\n",
      "Generación  287: Puntuación media 4.256666666666667: Mejor puntuación de la generación: 4\n",
      "Generación  288: Puntuación media 4.203333333333333: Mejor puntuación de la generación: 4\n",
      "Generación  289: Puntuación media 4.18: Mejor puntuación de la generación: 4\n",
      "Generación  290: Puntuación media 4.326666666666667: Mejor puntuación de la generación: 4\n",
      "Generación  291: Puntuación media 4.296666666666667: Mejor puntuación de la generación: 4\n",
      "Generación  292: Puntuación media 4.23: Mejor puntuación de la generación: 4\n",
      "Generación  293: Puntuación media 4.173333333333333: Mejor puntuación de la generación: 4\n",
      "Generación  294: Puntuación media 4.306666666666667: Mejor puntuación de la generación: 4\n",
      "Generación  295: Puntuación media 4.27: Mejor puntuación de la generación: 4\n",
      "Generación  296: Puntuación media 4.23: Mejor puntuación de la generación: 4\n",
      "Generación  297: Puntuación media 4.256666666666667: Mejor puntuación de la generación: 4\n",
      "Generación  298: Puntuación media 4.18: Mejor puntuación de la generación: 4\n",
      "Generación  299: Puntuación media 4.1866666666666665: Mejor puntuación de la generación: 4\n",
      "Generación  300: Puntuación media 4.19: Mejor puntuación de la generación: 4\n",
      "Generación  301: Puntuación media 4.326666666666667: Mejor puntuación de la generación: 4\n",
      "Generación  302: Puntuación media 4.18: Mejor puntuación de la generación: 4\n",
      "Generación  303: Puntuación media 4.27: Mejor puntuación de la generación: 4\n",
      "Generación  304: Puntuación media 4.236666666666666: Mejor puntuación de la generación: 4\n",
      "Generación  305: Puntuación media 4.196666666666666: Mejor puntuación de la generación: 4\n",
      "Generación  306: Puntuación media 4.2: Mejor puntuación de la generación: 4\n",
      "Generación  307: Puntuación media 4.283333333333333: Mejor puntuación de la generación: 4\n",
      "Generación  308: Puntuación media 4.18: Mejor puntuación de la generación: 4\n",
      "Generación  309: Puntuación media 4.213333333333333: Mejor puntuación de la generación: 4\n",
      "Generación  310: Puntuación media 4.213333333333333: Mejor puntuación de la generación: 4\n",
      "Generación  311: Puntuación media 4.233333333333333: Mejor puntuación de la generación: 4\n",
      "Generación  312: Puntuación media 4.31: Mejor puntuación de la generación: 4\n",
      "Generación  313: Puntuación media 4.19: Mejor puntuación de la generación: 4\n",
      "Generación  314: Puntuación media 4.243333333333333: Mejor puntuación de la generación: 4\n",
      "Generación  315: Puntuación media 4.233333333333333: Mejor puntuación de la generación: 4\n",
      "Generación  316: Puntuación media 4.173333333333333: Mejor puntuación de la generación: 4\n",
      "Generación  317: Puntuación media 4.236666666666666: Mejor puntuación de la generación: 4\n",
      "Generación  318: Puntuación media 4.14: Mejor puntuación de la generación: 4\n",
      "Generación  319: Puntuación media 4.316666666666666: Mejor puntuación de la generación: 4\n",
      "Generación  320: Puntuación media 4.206666666666667: Mejor puntuación de la generación: 4\n",
      "Generación  321: Puntuación media 4.153333333333333: Mejor puntuación de la generación: 4\n",
      "Generación  322: Puntuación media 4.183333333333334: Mejor puntuación de la generación: 4\n",
      "Generación  323: Puntuación media 4.203333333333333: Mejor puntuación de la generación: 4\n",
      "Generación  324: Puntuación media 4.283333333333333: Mejor puntuación de la generación: 4\n",
      "Generación  325: Puntuación media 4.14: Mejor puntuación de la generación: 4\n",
      "Generación  326: Puntuación media 4.266666666666667: Mejor puntuación de la generación: 4\n",
      "Generación  327: Puntuación media 4.22: Mejor puntuación de la generación: 4\n",
      "Generación  328: Puntuación media 4.293333333333333: Mejor puntuación de la generación: 4\n",
      "Generación  329: Puntuación media 4.246666666666667: Mejor puntuación de la generación: 4\n",
      "Generación  330: Puntuación media 4.216666666666667: Mejor puntuación de la generación: 4\n",
      "Generación  331: Puntuación media 4.22: Mejor puntuación de la generación: 4\n",
      "Generación  332: Puntuación media 4.233333333333333: Mejor puntuación de la generación: 4\n",
      "Generación  333: Puntuación media 4.173333333333333: Mejor puntuación de la generación: 4\n",
      "Generación  334: Puntuación media 4.1466666666666665: Mejor puntuación de la generación: 4\n",
      "Generación  335: Puntuación media 4.226666666666667: Mejor puntuación de la generación: 4\n",
      "Generación  336: Puntuación media 4.263333333333334: Mejor puntuación de la generación: 4\n",
      "Generación  337: Puntuación media 4.2: Mejor puntuación de la generación: 4\n",
      "Generación  338: Puntuación media 4.283333333333333: Mejor puntuación de la generación: 4\n",
      "Generación  339: Puntuación media 4.196666666666666: Mejor puntuación de la generación: 4\n",
      "Generación  340: Puntuación media 4.21: Mejor puntuación de la generación: 4\n",
      "Generación  341: Puntuación media 4.24: Mejor puntuación de la generación: 4\n",
      "Generación  342: Puntuación media 4.283333333333333: Mejor puntuación de la generación: 4\n",
      "Generación  343: Puntuación media 4.306666666666667: Mejor puntuación de la generación: 4\n",
      "Generación  344: Puntuación media 4.336666666666667: Mejor puntuación de la generación: 4\n",
      "Generación  345: Puntuación media 4.243333333333333: Mejor puntuación de la generación: 4\n",
      "Generación  346: Puntuación media 4.293333333333333: Mejor puntuación de la generación: 4\n",
      "Generación  347: Puntuación media 4.266666666666667: Mejor puntuación de la generación: 4\n",
      "Generación  348: Puntuación media 4.156666666666666: Mejor puntuación de la generación: 4\n",
      "Generación  349: Puntuación media 4.176666666666667: Mejor puntuación de la generación: 4\n",
      "Generación  350: Puntuación media 4.206666666666667: Mejor puntuación de la generación: 4\n",
      "Generación  351: Puntuación media 4.266666666666667: Mejor puntuación de la generación: 4\n",
      "Generación  352: Puntuación media 4.226666666666667: Mejor puntuación de la generación: 4\n",
      "Generación  353: Puntuación media 4.206666666666667: Mejor puntuación de la generación: 4\n",
      "Generación  354: Puntuación media 4.26: Mejor puntuación de la generación: 4\n",
      "Generación  355: Puntuación media 4.226666666666667: Mejor puntuación de la generación: 4\n",
      "Generación  356: Puntuación media 4.243333333333333: Mejor puntuación de la generación: 4\n",
      "Generación  357: Puntuación media 4.263333333333334: Mejor puntuación de la generación: 4\n",
      "Generación  358: Puntuación media 4.26: Mejor puntuación de la generación: 4\n",
      "Generación  359: Puntuación media 4.213333333333333: Mejor puntuación de la generación: 4\n",
      "Generación  360: Puntuación media 4.2: Mejor puntuación de la generación: 4\n",
      "Generación  361: Puntuación media 4.17: Mejor puntuación de la generación: 4\n",
      "Generación  362: Puntuación media 4.216666666666667: Mejor puntuación de la generación: 4\n",
      "Generación  363: Puntuación media 4.283333333333333: Mejor puntuación de la generación: 4\n",
      "Generación  364: Puntuación media 4.25: Mejor puntuación de la generación: 4\n",
      "Generación  365: Puntuación media 4.156666666666666: Mejor puntuación de la generación: 4\n",
      "Generación  366: Puntuación media 4.303333333333334: Mejor puntuación de la generación: 4\n",
      "Generación  367: Puntuación media 4.19: Mejor puntuación de la generación: 4\n",
      "Generación  368: Puntuación media 4.203333333333333: Mejor puntuación de la generación: 4\n",
      "Generación  369: Puntuación media 4.213333333333333: Mejor puntuación de la generación: 4\n",
      "Generación  370: Puntuación media 4.17: Mejor puntuación de la generación: 4\n",
      "Generación  371: Puntuación media 4.196666666666666: Mejor puntuación de la generación: 4\n",
      "Generación  372: Puntuación media 4.256666666666667: Mejor puntuación de la generación: 4\n",
      "Generación  373: Puntuación media 4.1866666666666665: Mejor puntuación de la generación: 4\n",
      "Generación  374: Puntuación media 4.323333333333333: Mejor puntuación de la generación: 4\n",
      "Generación  375: Puntuación media 4.236666666666666: Mejor puntuación de la generación: 4\n",
      "Generación  376: Puntuación media 4.296666666666667: Mejor puntuación de la generación: 4\n",
      "Generación  377: Puntuación media 4.273333333333333: Mejor puntuación de la generación: 4\n",
      "Generación  378: Puntuación media 4.24: Mejor puntuación de la generación: 4\n",
      "Generación  379: Puntuación media 4.296666666666667: Mejor puntuación de la generación: 4\n",
      "Generación  380: Puntuación media 4.243333333333333: Mejor puntuación de la generación: 4\n",
      "Generación  381: Puntuación media 4.216666666666667: Mejor puntuación de la generación: 4\n"
     ]
    },
    {
     "name": "stdout",
     "output_type": "stream",
     "text": [
      "Generación  382: Puntuación media 4.323333333333333: Mejor puntuación de la generación: 4\n",
      "Generación  383: Puntuación media 4.256666666666667: Mejor puntuación de la generación: 4\n",
      "Generación  384: Puntuación media 4.32: Mejor puntuación de la generación: 4\n",
      "Generación  385: Puntuación media 4.196666666666666: Mejor puntuación de la generación: 4\n",
      "Generación  386: Puntuación media 4.28: Mejor puntuación de la generación: 4\n",
      "Generación  387: Puntuación media 4.17: Mejor puntuación de la generación: 4\n",
      "Generación  388: Puntuación media 4.28: Mejor puntuación de la generación: 4\n",
      "Generación  389: Puntuación media 4.206666666666667: Mejor puntuación de la generación: 4\n",
      "Generación  390: Puntuación media 4.273333333333333: Mejor puntuación de la generación: 4\n",
      "Generación  391: Puntuación media 4.27: Mejor puntuación de la generación: 4\n",
      "Generación  392: Puntuación media 4.18: Mejor puntuación de la generación: 4\n",
      "Generación  393: Puntuación media 4.226666666666667: Mejor puntuación de la generación: 4\n",
      "Generación  394: Puntuación media 4.266666666666667: Mejor puntuación de la generación: 4\n",
      "Generación  395: Puntuación media 4.226666666666667: Mejor puntuación de la generación: 4\n",
      "Generación  396: Puntuación media 4.193333333333333: Mejor puntuación de la generación: 4\n",
      "Generación  397: Puntuación media 4.303333333333334: Mejor puntuación de la generación: 4\n",
      "Generación  398: Puntuación media 4.266666666666667: Mejor puntuación de la generación: 4\n",
      "Generación  399: Puntuación media 4.183333333333334: Mejor puntuación de la generación: 4\n",
      "Generación  400: Puntuación media 4.206666666666667: Mejor puntuación de la generación: 4\n",
      "Generación  401: Puntuación media 4.276666666666666: Mejor puntuación de la generación: 4\n",
      "Generación  402: Puntuación media 4.236666666666666: Mejor puntuación de la generación: 4\n",
      "Generación  403: Puntuación media 4.27: Mejor puntuación de la generación: 4\n",
      "Generación  404: Puntuación media 4.213333333333333: Mejor puntuación de la generación: 4\n",
      "Generación  405: Puntuación media 4.27: Mejor puntuación de la generación: 4\n",
      "Generación  406: Puntuación media 4.246666666666667: Mejor puntuación de la generación: 4\n",
      "Generación  407: Puntuación media 4.256666666666667: Mejor puntuación de la generación: 4\n",
      "Generación  408: Puntuación media 4.233333333333333: Mejor puntuación de la generación: 4\n",
      "Generación  409: Puntuación media 4.236666666666666: Mejor puntuación de la generación: 4\n",
      "Generación  410: Puntuación media 4.26: Mejor puntuación de la generación: 4\n",
      "Generación  411: Puntuación media 4.1866666666666665: Mejor puntuación de la generación: 4\n",
      "Generación  412: Puntuación media 4.276666666666666: Mejor puntuación de la generación: 4\n",
      "Generación  413: Puntuación media 4.26: Mejor puntuación de la generación: 4\n",
      "Generación  414: Puntuación media 4.216666666666667: Mejor puntuación de la generación: 4\n",
      "Generación  415: Puntuación media 4.223333333333334: Mejor puntuación de la generación: 4\n",
      "Generación  416: Puntuación media 4.283333333333333: Mejor puntuación de la generación: 4\n",
      "Generación  417: Puntuación media 4.196666666666666: Mejor puntuación de la generación: 4\n",
      "Generación  418: Puntuación media 4.276666666666666: Mejor puntuación de la generación: 4\n",
      "Generación  419: Puntuación media 4.1866666666666665: Mejor puntuación de la generación: 4\n",
      "Generación  420: Puntuación media 4.203333333333333: Mejor puntuación de la generación: 4\n",
      "Generación  421: Puntuación media 4.213333333333333: Mejor puntuación de la generación: 4\n",
      "Generación  422: Puntuación media 4.256666666666667: Mejor puntuación de la generación: 4\n",
      "Generación  423: Puntuación media 4.36: Mejor puntuación de la generación: 4\n",
      "Generación  424: Puntuación media 4.233333333333333: Mejor puntuación de la generación: 4\n",
      "Generación  425: Puntuación media 4.343333333333334: Mejor puntuación de la generación: 4\n",
      "Generación  426: Puntuación media 4.2: Mejor puntuación de la generación: 4\n",
      "Generación  427: Puntuación media 4.21: Mejor puntuación de la generación: 4\n",
      "Generación  428: Puntuación media 4.233333333333333: Mejor puntuación de la generación: 4\n",
      "Generación  429: Puntuación media 4.216666666666667: Mejor puntuación de la generación: 4\n",
      "Generación  430: Puntuación media 4.226666666666667: Mejor puntuación de la generación: 4\n",
      "Generación  431: Puntuación media 4.263333333333334: Mejor puntuación de la generación: 4\n",
      "Generación  432: Puntuación media 4.233333333333333: Mejor puntuación de la generación: 4\n",
      "Generación  433: Puntuación media 4.296666666666667: Mejor puntuación de la generación: 4\n",
      "Generación  434: Puntuación media 4.213333333333333: Mejor puntuación de la generación: 4\n",
      "Generación  435: Puntuación media 4.273333333333333: Mejor puntuación de la generación: 4\n",
      "Generación  436: Puntuación media 4.156666666666666: Mejor puntuación de la generación: 4\n",
      "Generación  437: Puntuación media 4.16: Mejor puntuación de la generación: 4\n",
      "Generación  438: Puntuación media 4.193333333333333: Mejor puntuación de la generación: 4\n",
      "Generación  439: Puntuación media 4.28: Mejor puntuación de la generación: 4\n",
      "Generación  440: Puntuación media 4.286666666666667: Mejor puntuación de la generación: 4\n",
      "Generación  441: Puntuación media 4.263333333333334: Mejor puntuación de la generación: 4\n",
      "Generación  442: Puntuación media 4.273333333333333: Mejor puntuación de la generación: 4\n",
      "Generación  443: Puntuación media 4.22: Mejor puntuación de la generación: 4\n",
      "Generación  444: Puntuación media 4.24: Mejor puntuación de la generación: 4\n",
      "Generación  445: Puntuación media 4.27: Mejor puntuación de la generación: 4\n",
      "Generación  446: Puntuación media 4.27: Mejor puntuación de la generación: 4\n",
      "Generación  447: Puntuación media 4.183333333333334: Mejor puntuación de la generación: 4\n",
      "Generación  448: Puntuación media 4.233333333333333: Mejor puntuación de la generación: 4\n",
      "Generación  449: Puntuación media 4.193333333333333: Mejor puntuación de la generación: 4\n",
      "Generación  450: Puntuación media 4.296666666666667: Mejor puntuación de la generación: 4\n",
      "Generación  451: Puntuación media 4.293333333333333: Mejor puntuación de la generación: 4\n",
      "Generación  452: Puntuación media 4.21: Mejor puntuación de la generación: 4\n",
      "Generación  453: Puntuación media 4.243333333333333: Mejor puntuación de la generación: 4\n",
      "Generación  454: Puntuación media 4.196666666666666: Mejor puntuación de la generación: 4\n",
      "Generación  455: Puntuación media 4.15: Mejor puntuación de la generación: 4\n",
      "Generación  456: Puntuación media 4.23: Mejor puntuación de la generación: 4\n",
      "Generación  457: Puntuación media 4.23: Mejor puntuación de la generación: 4\n",
      "Generación  458: Puntuación media 4.216666666666667: Mejor puntuación de la generación: 4\n",
      "Generación  459: Puntuación media 4.203333333333333: Mejor puntuación de la generación: 4\n",
      "Generación  460: Puntuación media 4.226666666666667: Mejor puntuación de la generación: 4\n",
      "Generación  461: Puntuación media 4.15: Mejor puntuación de la generación: 4\n",
      "Generación  462: Puntuación media 4.266666666666667: Mejor puntuación de la generación: 4\n",
      "Generación  463: Puntuación media 4.2: Mejor puntuación de la generación: 4\n",
      "Generación  464: Puntuación media 4.1433333333333335: Mejor puntuación de la generación: 4\n",
      "Generación  465: Puntuación media 4.24: Mejor puntuación de la generación: 4\n",
      "Generación  466: Puntuación media 4.256666666666667: Mejor puntuación de la generación: 4\n",
      "Generación  467: Puntuación media 4.25: Mejor puntuación de la generación: 4\n",
      "Generación  468: Puntuación media 4.243333333333333: Mejor puntuación de la generación: 4\n",
      "Generación  469: Puntuación media 4.21: Mejor puntuación de la generación: 4\n",
      "Generación  470: Puntuación media 4.273333333333333: Mejor puntuación de la generación: 4\n",
      "Generación  471: Puntuación media 4.283333333333333: Mejor puntuación de la generación: 4\n",
      "Generación  472: Puntuación media 4.213333333333333: Mejor puntuación de la generación: 4\n",
      "Generación  473: Puntuación media 4.256666666666667: Mejor puntuación de la generación: 4\n",
      "Generación  474: Puntuación media 4.203333333333333: Mejor puntuación de la generación: 4\n",
      "Generación  475: Puntuación media 4.266666666666667: Mejor puntuación de la generación: 4\n",
      "Generación  476: Puntuación media 4.13: Mejor puntuación de la generación: 4\n",
      "Generación  477: Puntuación media 4.276666666666666: Mejor puntuación de la generación: 4\n"
     ]
    },
    {
     "name": "stdout",
     "output_type": "stream",
     "text": [
      "Generación  478: Puntuación media 4.23: Mejor puntuación de la generación: 4\n",
      "Generación  479: Puntuación media 4.203333333333333: Mejor puntuación de la generación: 4\n",
      "Generación  480: Puntuación media 4.316666666666666: Mejor puntuación de la generación: 4\n",
      "Generación  481: Puntuación media 4.19: Mejor puntuación de la generación: 4\n",
      "Generación  482: Puntuación media 4.203333333333333: Mejor puntuación de la generación: 4\n",
      "Generación  483: Puntuación media 4.256666666666667: Mejor puntuación de la generación: 4\n",
      "Generación  484: Puntuación media 4.296666666666667: Mejor puntuación de la generación: 4\n",
      "Generación  485: Puntuación media 4.243333333333333: Mejor puntuación de la generación: 4\n",
      "Generación  486: Puntuación media 4.233333333333333: Mejor puntuación de la generación: 4\n",
      "Generación  487: Puntuación media 4.273333333333333: Mejor puntuación de la generación: 4\n",
      "Generación  488: Puntuación media 4.176666666666667: Mejor puntuación de la generación: 4\n",
      "Generación  489: Puntuación media 4.256666666666667: Mejor puntuación de la generación: 4\n",
      "Generación  490: Puntuación media 4.263333333333334: Mejor puntuación de la generación: 4\n",
      "Generación  491: Puntuación media 4.246666666666667: Mejor puntuación de la generación: 4\n",
      "Generación  492: Puntuación media 4.316666666666666: Mejor puntuación de la generación: 4\n",
      "Generación  493: Puntuación media 4.246666666666667: Mejor puntuación de la generación: 4\n",
      "Generación  494: Puntuación media 4.183333333333334: Mejor puntuación de la generación: 4\n",
      "Generación  495: Puntuación media 4.226666666666667: Mejor puntuación de la generación: 4\n",
      "Generación  496: Puntuación media 4.266666666666667: Mejor puntuación de la generación: 4\n",
      "Generación  497: Puntuación media 4.213333333333333: Mejor puntuación de la generación: 4\n",
      "Generación  498: Puntuación media 4.2: Mejor puntuación de la generación: 4\n",
      "Generación  499: Puntuación media 4.26: Mejor puntuación de la generación: 4\n",
      "Generación  500: Puntuación media 4.16: Mejor puntuación de la generación: 4\n",
      "Generación  501: Puntuación media 4.38: Mejor puntuación de la generación: 4\n",
      "Generación  502: Puntuación media 4.24: Mejor puntuación de la generación: 4\n",
      "Generación  503: Puntuación media 4.236666666666666: Mejor puntuación de la generación: 4\n",
      "Generación  504: Puntuación media 4.24: Mejor puntuación de la generación: 4\n",
      "Generación  505: Puntuación media 4.183333333333334: Mejor puntuación de la generación: 4\n",
      "Generación  506: Puntuación media 4.303333333333334: Mejor puntuación de la generación: 4\n",
      "Generación  507: Puntuación media 4.216666666666667: Mejor puntuación de la generación: 4\n",
      "Generación  508: Puntuación media 4.3: Mejor puntuación de la generación: 4\n",
      "Generación  509: Puntuación media 4.21: Mejor puntuación de la generación: 4\n",
      "Generación  510: Puntuación media 4.223333333333334: Mejor puntuación de la generación: 4\n",
      "Generación  511: Puntuación media 4.3133333333333335: Mejor puntuación de la generación: 4\n",
      "Generación  512: Puntuación media 4.2: Mejor puntuación de la generación: 4\n",
      "Generación  513: Puntuación media 4.246666666666667: Mejor puntuación de la generación: 4\n",
      "Generación  514: Puntuación media 4.23: Mejor puntuación de la generación: 4\n",
      "Generación  515: Puntuación media 4.243333333333333: Mejor puntuación de la generación: 4\n",
      "Generación  516: Puntuación media 4.226666666666667: Mejor puntuación de la generación: 4\n",
      "Generación  517: Puntuación media 4.203333333333333: Mejor puntuación de la generación: 4\n",
      "Generación  518: Puntuación media 4.286666666666667: Mejor puntuación de la generación: 4\n",
      "Generación  519: Puntuación media 4.27: Mejor puntuación de la generación: 4\n",
      "Generación  520: Puntuación media 4.233333333333333: Mejor puntuación de la generación: 4\n",
      "Generación  521: Puntuación media 4.246666666666667: Mejor puntuación de la generación: 4\n",
      "Generación  522: Puntuación media 4.253333333333333: Mejor puntuación de la generación: 4\n",
      "Generación  523: Puntuación media 4.233333333333333: Mejor puntuación de la generación: 4\n",
      "Generación  524: Puntuación media 4.266666666666667: Mejor puntuación de la generación: 4\n",
      "Generación  525: Puntuación media 4.233333333333333: Mejor puntuación de la generación: 4\n",
      "Generación  526: Puntuación media 4.163333333333333: Mejor puntuación de la generación: 4\n",
      "Generación  527: Puntuación media 4.283333333333333: Mejor puntuación de la generación: 4\n",
      "Generación  528: Puntuación media 4.23: Mejor puntuación de la generación: 4\n",
      "Generación  529: Puntuación media 4.226666666666667: Mejor puntuación de la generación: 4\n",
      "Generación  530: Puntuación media 4.19: Mejor puntuación de la generación: 4\n",
      "Generación  531: Puntuación media 4.27: Mejor puntuación de la generación: 4\n",
      "Generación  532: Puntuación media 4.3: Mejor puntuación de la generación: 4\n",
      "Generación  533: Puntuación media 4.236666666666666: Mejor puntuación de la generación: 4\n",
      "Generación  534: Puntuación media 4.236666666666666: Mejor puntuación de la generación: 4\n",
      "Generación  535: Puntuación media 4.156666666666666: Mejor puntuación de la generación: 4\n",
      "Generación  536: Puntuación media 4.213333333333333: Mejor puntuación de la generación: 4\n",
      "Generación  537: Puntuación media 4.293333333333333: Mejor puntuación de la generación: 4\n",
      "Generación  538: Puntuación media 4.21: Mejor puntuación de la generación: 4\n",
      "Generación  539: Puntuación media 4.173333333333333: Mejor puntuación de la generación: 4\n",
      "Generación  540: Puntuación media 4.183333333333334: Mejor puntuación de la generación: 4\n",
      "Generación  541: Puntuación media 4.306666666666667: Mejor puntuación de la generación: 4\n",
      "Generación  542: Puntuación media 4.23: Mejor puntuación de la generación: 4\n",
      "Generación  543: Puntuación media 4.323333333333333: Mejor puntuación de la generación: 4\n",
      "Generación  544: Puntuación media 4.256666666666667: Mejor puntuación de la generación: 4\n",
      "Generación  545: Puntuación media 4.233333333333333: Mejor puntuación de la generación: 4\n",
      "Generación  546: Puntuación media 4.203333333333333: Mejor puntuación de la generación: 4\n",
      "Generación  547: Puntuación media 4.27: Mejor puntuación de la generación: 4\n",
      "Generación  548: Puntuación media 4.246666666666667: Mejor puntuación de la generación: 4\n",
      "Generación  549: Puntuación media 4.336666666666667: Mejor puntuación de la generación: 4\n",
      "Generación  550: Puntuación media 4.183333333333334: Mejor puntuación de la generación: 4\n",
      "Generación  551: Puntuación media 4.256666666666667: Mejor puntuación de la generación: 4\n",
      "Generación  552: Puntuación media 4.26: Mejor puntuación de la generación: 4\n",
      "Generación  553: Puntuación media 4.1866666666666665: Mejor puntuación de la generación: 4\n",
      "Generación  554: Puntuación media 4.26: Mejor puntuación de la generación: 4\n",
      "Generación  555: Puntuación media 4.22: Mejor puntuación de la generación: 4\n",
      "Generación  556: Puntuación media 4.156666666666666: Mejor puntuación de la generación: 4\n",
      "Generación  557: Puntuación media 4.27: Mejor puntuación de la generación: 4\n",
      "Generación  558: Puntuación media 4.22: Mejor puntuación de la generación: 4\n",
      "Generación  559: Puntuación media 4.196666666666666: Mejor puntuación de la generación: 4\n",
      "Generación  560: Puntuación media 4.203333333333333: Mejor puntuación de la generación: 4\n",
      "Generación  561: Puntuación media 4.216666666666667: Mejor puntuación de la generación: 4\n",
      "Generación  562: Puntuación media 4.196666666666666: Mejor puntuación de la generación: 4\n",
      "Generación  563: Puntuación media 4.283333333333333: Mejor puntuación de la generación: 4\n",
      "Generación  564: Puntuación media 4.256666666666667: Mejor puntuación de la generación: 4\n",
      "Generación  565: Puntuación media 4.273333333333333: Mejor puntuación de la generación: 4\n",
      "Generación  566: Puntuación media 4.22: Mejor puntuación de la generación: 4\n",
      "Generación  567: Puntuación media 4.27: Mejor puntuación de la generación: 4\n",
      "Generación  568: Puntuación media 4.32: Mejor puntuación de la generación: 4\n",
      "Generación  569: Puntuación media 4.253333333333333: Mejor puntuación de la generación: 4\n",
      "Generación  570: Puntuación media 4.23: Mejor puntuación de la generación: 4\n",
      "Generación  571: Puntuación media 4.226666666666667: Mejor puntuación de la generación: 4\n",
      "Generación  572: Puntuación media 4.276666666666666: Mejor puntuación de la generación: 4\n",
      "Generación  573: Puntuación media 4.29: Mejor puntuación de la generación: 4\n"
     ]
    },
    {
     "name": "stdout",
     "output_type": "stream",
     "text": [
      "Generación  574: Puntuación media 4.286666666666667: Mejor puntuación de la generación: 4\n",
      "Generación  575: Puntuación media 4.193333333333333: Mejor puntuación de la generación: 4\n",
      "Generación  576: Puntuación media 4.27: Mejor puntuación de la generación: 4\n",
      "Generación  577: Puntuación media 4.286666666666667: Mejor puntuación de la generación: 4\n",
      "Generación  578: Puntuación media 4.136666666666667: Mejor puntuación de la generación: 4\n",
      "Generación  579: Puntuación media 4.196666666666666: Mejor puntuación de la generación: 4\n",
      "Generación  580: Puntuación media 4.156666666666666: Mejor puntuación de la generación: 4\n",
      "Generación  581: Puntuación media 4.17: Mejor puntuación de la generación: 4\n",
      "Generación  582: Puntuación media 4.246666666666667: Mejor puntuación de la generación: 4\n",
      "Generación  583: Puntuación media 4.296666666666667: Mejor puntuación de la generación: 4\n",
      "Generación  584: Puntuación media 4.216666666666667: Mejor puntuación de la generación: 4\n",
      "Generación  585: Puntuación media 4.2: Mejor puntuación de la generación: 4\n",
      "Generación  586: Puntuación media 4.276666666666666: Mejor puntuación de la generación: 4\n",
      "Generación  587: Puntuación media 4.283333333333333: Mejor puntuación de la generación: 4\n",
      "Generación  588: Puntuación media 4.176666666666667: Mejor puntuación de la generación: 4\n",
      "Generación  589: Puntuación media 4.16: Mejor puntuación de la generación: 4\n",
      "Generación  590: Puntuación media 4.216666666666667: Mejor puntuación de la generación: 4\n",
      "Generación  591: Puntuación media 4.273333333333333: Mejor puntuación de la generación: 4\n",
      "Generación  592: Puntuación media 4.33: Mejor puntuación de la generación: 4\n",
      "Generación  593: Puntuación media 4.226666666666667: Mejor puntuación de la generación: 4\n",
      "Generación  594: Puntuación media 4.25: Mejor puntuación de la generación: 4\n",
      "Generación  595: Puntuación media 4.27: Mejor puntuación de la generación: 4\n",
      "Generación  596: Puntuación media 4.253333333333333: Mejor puntuación de la generación: 4\n",
      "Generación  597: Puntuación media 4.29: Mejor puntuación de la generación: 4\n",
      "Generación  598: Puntuación media 4.193333333333333: Mejor puntuación de la generación: 4\n",
      "Generación  599: Puntuación media 4.23: Mejor puntuación de la generación: 4\n",
      "Generación  600: Puntuación media 4.226666666666667: Mejor puntuación de la generación: 4\n",
      "Generación  601: Puntuación media 4.256666666666667: Mejor puntuación de la generación: 4\n",
      "Generación  602: Puntuación media 4.19: Mejor puntuación de la generación: 4\n",
      "Generación  603: Puntuación media 4.196666666666666: Mejor puntuación de la generación: 4\n",
      "Generación  604: Puntuación media 4.296666666666667: Mejor puntuación de la generación: 4\n",
      "Generación  605: Puntuación media 4.323333333333333: Mejor puntuación de la generación: 4\n",
      "Generación  606: Puntuación media 4.25: Mejor puntuación de la generación: 4\n",
      "Generación  607: Puntuación media 4.23: Mejor puntuación de la generación: 4\n",
      "Generación  608: Puntuación media 4.253333333333333: Mejor puntuación de la generación: 4\n",
      "Generación  609: Puntuación media 4.213333333333333: Mejor puntuación de la generación: 4\n",
      "Generación  610: Puntuación media 4.153333333333333: Mejor puntuación de la generación: 4\n",
      "Generación  611: Puntuación media 4.216666666666667: Mejor puntuación de la generación: 4\n",
      "Generación  612: Puntuación media 4.303333333333334: Mejor puntuación de la generación: 4\n",
      "Generación  613: Puntuación media 4.17: Mejor puntuación de la generación: 4\n",
      "Generación  614: Puntuación media 4.166666666666667: Mejor puntuación de la generación: 4\n",
      "Generación  615: Puntuación media 4.3: Mejor puntuación de la generación: 4\n",
      "Generación  616: Puntuación media 4.29: Mejor puntuación de la generación: 4\n",
      "Generación  617: Puntuación media 4.24: Mejor puntuación de la generación: 4\n",
      "Generación  618: Puntuación media 4.226666666666667: Mejor puntuación de la generación: 4\n",
      "Generación  619: Puntuación media 4.29: Mejor puntuación de la generación: 4\n",
      "Generación  620: Puntuación media 4.246666666666667: Mejor puntuación de la generación: 4\n",
      "Generación  621: Puntuación media 4.19: Mejor puntuación de la generación: 4\n",
      "Generación  622: Puntuación media 4.226666666666667: Mejor puntuación de la generación: 4\n",
      "Generación  623: Puntuación media 4.233333333333333: Mejor puntuación de la generación: 4\n",
      "Generación  624: Puntuación media 4.216666666666667: Mejor puntuación de la generación: 4\n",
      "Generación  625: Puntuación media 4.266666666666667: Mejor puntuación de la generación: 4\n",
      "Generación  626: Puntuación media 4.253333333333333: Mejor puntuación de la generación: 4\n",
      "Generación  627: Puntuación media 4.216666666666667: Mejor puntuación de la generación: 4\n",
      "Generación  628: Puntuación media 4.246666666666667: Mejor puntuación de la generación: 4\n",
      "Generación  629: Puntuación media 4.3: Mejor puntuación de la generación: 4\n",
      "Generación  630: Puntuación media 4.193333333333333: Mejor puntuación de la generación: 4\n",
      "Generación  631: Puntuación media 4.156666666666666: Mejor puntuación de la generación: 4\n",
      "Generación  632: Puntuación media 4.216666666666667: Mejor puntuación de la generación: 4\n",
      "Generación  633: Puntuación media 4.226666666666667: Mejor puntuación de la generación: 4\n",
      "Generación  634: Puntuación media 4.206666666666667: Mejor puntuación de la generación: 4\n",
      "Generación  635: Puntuación media 4.21: Mejor puntuación de la generación: 4\n",
      "Generación  636: Puntuación media 4.183333333333334: Mejor puntuación de la generación: 4\n",
      "Generación  637: Puntuación media 4.3133333333333335: Mejor puntuación de la generación: 4\n",
      "Generación  638: Puntuación media 4.25: Mejor puntuación de la generación: 4\n",
      "Generación  639: Puntuación media 4.176666666666667: Mejor puntuación de la generación: 4\n",
      "Generación  640: Puntuación media 4.23: Mejor puntuación de la generación: 4\n",
      "Generación  641: Puntuación media 4.286666666666667: Mejor puntuación de la generación: 4\n",
      "Generación  642: Puntuación media 4.303333333333334: Mejor puntuación de la generación: 4\n",
      "Generación  643: Puntuación media 4.166666666666667: Mejor puntuación de la generación: 4\n",
      "Generación  644: Puntuación media 4.19: Mejor puntuación de la generación: 4\n",
      "Generación  645: Puntuación media 4.32: Mejor puntuación de la generación: 4\n",
      "Generación  646: Puntuación media 4.17: Mejor puntuación de la generación: 4\n",
      "Generación  647: Puntuación media 4.196666666666666: Mejor puntuación de la generación: 4\n",
      "Generación  648: Puntuación media 4.226666666666667: Mejor puntuación de la generación: 4\n",
      "Generación  649: Puntuación media 4.196666666666666: Mejor puntuación de la generación: 4\n",
      "Generación  650: Puntuación media 4.196666666666666: Mejor puntuación de la generación: 4\n",
      "Generación  651: Puntuación media 4.246666666666667: Mejor puntuación de la generación: 4\n",
      "Generación  652: Puntuación media 4.236666666666666: Mejor puntuación de la generación: 4\n",
      "Generación  653: Puntuación media 4.246666666666667: Mejor puntuación de la generación: 4\n",
      "Generación  654: Puntuación media 4.2: Mejor puntuación de la generación: 4\n",
      "Generación  655: Puntuación media 4.126666666666667: Mejor puntuación de la generación: 4\n",
      "Generación  656: Puntuación media 4.3133333333333335: Mejor puntuación de la generación: 4\n",
      "Generación  657: Puntuación media 4.26: Mejor puntuación de la generación: 4\n",
      "Generación  658: Puntuación media 4.166666666666667: Mejor puntuación de la generación: 4\n",
      "Generación  659: Puntuación media 4.25: Mejor puntuación de la generación: 4\n",
      "Generación  660: Puntuación media 4.273333333333333: Mejor puntuación de la generación: 4\n",
      "Generación  661: Puntuación media 4.24: Mejor puntuación de la generación: 4\n",
      "Generación  662: Puntuación media 4.22: Mejor puntuación de la generación: 4\n",
      "Generación  663: Puntuación media 4.236666666666666: Mejor puntuación de la generación: 4\n",
      "Generación  664: Puntuación media 4.223333333333334: Mejor puntuación de la generación: 4\n",
      "Generación  665: Puntuación media 4.176666666666667: Mejor puntuación de la generación: 4\n",
      "Generación  666: Puntuación media 4.25: Mejor puntuación de la generación: 4\n",
      "Generación  667: Puntuación media 4.263333333333334: Mejor puntuación de la generación: 4\n",
      "Generación  668: Puntuación media 4.34: Mejor puntuación de la generación: 4\n",
      "Generación  669: Puntuación media 4.263333333333334: Mejor puntuación de la generación: 4\n"
     ]
    },
    {
     "name": "stdout",
     "output_type": "stream",
     "text": [
      "Generación  670: Puntuación media 4.23: Mejor puntuación de la generación: 4\n",
      "Generación  671: Puntuación media 4.1866666666666665: Mejor puntuación de la generación: 4\n",
      "Generación  672: Puntuación media 4.223333333333334: Mejor puntuación de la generación: 4\n",
      "Generación  673: Puntuación media 4.2: Mejor puntuación de la generación: 4\n",
      "Generación  674: Puntuación media 4.223333333333334: Mejor puntuación de la generación: 4\n",
      "Generación  675: Puntuación media 4.27: Mejor puntuación de la generación: 4\n",
      "Generación  676: Puntuación media 4.156666666666666: Mejor puntuación de la generación: 4\n",
      "Generación  677: Puntuación media 4.21: Mejor puntuación de la generación: 4\n",
      "Generación  678: Puntuación media 4.253333333333333: Mejor puntuación de la generación: 4\n",
      "Generación  679: Puntuación media 4.253333333333333: Mejor puntuación de la generación: 4\n",
      "Generación  680: Puntuación media 4.173333333333333: Mejor puntuación de la generación: 4\n",
      "Generación  681: Puntuación media 4.193333333333333: Mejor puntuación de la generación: 4\n",
      "Generación  682: Puntuación media 4.273333333333333: Mejor puntuación de la generación: 4\n",
      "Generación  683: Puntuación media 4.23: Mejor puntuación de la generación: 4\n",
      "Generación  684: Puntuación media 4.27: Mejor puntuación de la generación: 4\n",
      "Generación  685: Puntuación media 4.303333333333334: Mejor puntuación de la generación: 4\n",
      "Generación  686: Puntuación media 4.246666666666667: Mejor puntuación de la generación: 4\n",
      "Generación  687: Puntuación media 4.25: Mejor puntuación de la generación: 4\n",
      "Generación  688: Puntuación media 4.253333333333333: Mejor puntuación de la generación: 4\n",
      "Generación  689: Puntuación media 4.276666666666666: Mejor puntuación de la generación: 4\n",
      "Generación  690: Puntuación media 4.27: Mejor puntuación de la generación: 4\n",
      "Generación  691: Puntuación media 4.223333333333334: Mejor puntuación de la generación: 4\n",
      "Generación  692: Puntuación media 4.27: Mejor puntuación de la generación: 4\n",
      "Generación  693: Puntuación media 4.166666666666667: Mejor puntuación de la generación: 4\n",
      "Generación  694: Puntuación media 4.21: Mejor puntuación de la generación: 4\n",
      "Generación  695: Puntuación media 4.21: Mejor puntuación de la generación: 4\n",
      "Generación  696: Puntuación media 4.156666666666666: Mejor puntuación de la generación: 4\n",
      "Generación  697: Puntuación media 4.296666666666667: Mejor puntuación de la generación: 4\n",
      "Generación  698: Puntuación media 4.206666666666667: Mejor puntuación de la generación: 4\n",
      "Generación  699: Puntuación media 4.213333333333333: Mejor puntuación de la generación: 4\n",
      "Generación  700: Puntuación media 4.223333333333334: Mejor puntuación de la generación: 4\n",
      "Generación  701: Puntuación media 4.163333333333333: Mejor puntuación de la generación: 4\n",
      "Generación  702: Puntuación media 4.266666666666667: Mejor puntuación de la generación: 4\n",
      "Generación  703: Puntuación media 4.23: Mejor puntuación de la generación: 4\n",
      "Generación  704: Puntuación media 4.24: Mejor puntuación de la generación: 4\n",
      "Generación  705: Puntuación media 4.203333333333333: Mejor puntuación de la generación: 4\n",
      "Generación  706: Puntuación media 4.22: Mejor puntuación de la generación: 4\n",
      "Generación  707: Puntuación media 4.263333333333334: Mejor puntuación de la generación: 4\n",
      "Generación  708: Puntuación media 4.1866666666666665: Mejor puntuación de la generación: 4\n",
      "Generación  709: Puntuación media 4.293333333333333: Mejor puntuación de la generación: 4\n",
      "Generación  710: Puntuación media 4.223333333333334: Mejor puntuación de la generación: 4\n",
      "Generación  711: Puntuación media 4.21: Mejor puntuación de la generación: 4\n",
      "Generación  712: Puntuación media 4.273333333333333: Mejor puntuación de la generación: 4\n",
      "Generación  713: Puntuación media 4.246666666666667: Mejor puntuación de la generación: 4\n",
      "Generación  714: Puntuación media 4.156666666666666: Mejor puntuación de la generación: 4\n",
      "Generación  715: Puntuación media 4.206666666666667: Mejor puntuación de la generación: 4\n",
      "Generación  716: Puntuación media 4.193333333333333: Mejor puntuación de la generación: 4\n",
      "Generación  717: Puntuación media 4.2: Mejor puntuación de la generación: 4\n",
      "Generación  718: Puntuación media 4.243333333333333: Mejor puntuación de la generación: 4\n",
      "Generación  719: Puntuación media 4.246666666666667: Mejor puntuación de la generación: 4\n",
      "Generación  720: Puntuación media 4.173333333333333: Mejor puntuación de la generación: 4\n",
      "Generación  721: Puntuación media 4.27: Mejor puntuación de la generación: 4\n",
      "Generación  722: Puntuación media 4.23: Mejor puntuación de la generación: 4\n",
      "Generación  723: Puntuación media 4.29: Mejor puntuación de la generación: 4\n",
      "Generación  724: Puntuación media 4.183333333333334: Mejor puntuación de la generación: 4\n",
      "Generación  725: Puntuación media 4.226666666666667: Mejor puntuación de la generación: 4\n",
      "Generación  726: Puntuación media 4.216666666666667: Mejor puntuación de la generación: 4\n",
      "Generación  727: Puntuación media 4.283333333333333: Mejor puntuación de la generación: 4\n",
      "Generación  728: Puntuación media 4.31: Mejor puntuación de la generación: 4\n",
      "Generación  729: Puntuación media 4.266666666666667: Mejor puntuación de la generación: 4\n",
      "Generación  730: Puntuación media 4.263333333333334: Mejor puntuación de la generación: 4\n",
      "Generación  731: Puntuación media 4.256666666666667: Mejor puntuación de la generación: 4\n",
      "Generación  732: Puntuación media 4.126666666666667: Mejor puntuación de la generación: 4\n",
      "Generación  733: Puntuación media 4.306666666666667: Mejor puntuación de la generación: 4\n",
      "Generación  734: Puntuación media 4.21: Mejor puntuación de la generación: 4\n",
      "Generación  735: Puntuación media 4.283333333333333: Mejor puntuación de la generación: 4\n",
      "Generación  736: Puntuación media 4.22: Mejor puntuación de la generación: 4\n",
      "Generación  737: Puntuación media 4.226666666666667: Mejor puntuación de la generación: 4\n",
      "Generación  738: Puntuación media 4.196666666666666: Mejor puntuación de la generación: 4\n",
      "Generación  739: Puntuación media 4.236666666666666: Mejor puntuación de la generación: 4\n",
      "Generación  740: Puntuación media 4.233333333333333: Mejor puntuación de la generación: 4\n",
      "Generación  741: Puntuación media 4.22: Mejor puntuación de la generación: 4\n",
      "Generación  742: Puntuación media 4.243333333333333: Mejor puntuación de la generación: 4\n",
      "Generación  743: Puntuación media 4.22: Mejor puntuación de la generación: 4\n",
      "Generación  744: Puntuación media 4.28: Mejor puntuación de la generación: 4\n",
      "Generación  745: Puntuación media 4.193333333333333: Mejor puntuación de la generación: 4\n",
      "Generación  746: Puntuación media 4.2: Mejor puntuación de la generación: 4\n",
      "Generación  747: Puntuación media 4.17: Mejor puntuación de la generación: 4\n",
      "Generación  748: Puntuación media 4.22: Mejor puntuación de la generación: 4\n",
      "Generación  749: Puntuación media 4.17: Mejor puntuación de la generación: 4\n",
      "Generación  750: Puntuación media 4.223333333333334: Mejor puntuación de la generación: 4\n",
      "Generación  751: Puntuación media 4.21: Mejor puntuación de la generación: 4\n",
      "Generación  752: Puntuación media 4.196666666666666: Mejor puntuación de la generación: 4\n",
      "Generación  753: Puntuación media 4.263333333333334: Mejor puntuación de la generación: 4\n",
      "Generación  754: Puntuación media 4.23: Mejor puntuación de la generación: 4\n",
      "Generación  755: Puntuación media 4.256666666666667: Mejor puntuación de la generación: 4\n",
      "Generación  756: Puntuación media 4.226666666666667: Mejor puntuación de la generación: 4\n",
      "Generación  757: Puntuación media 4.293333333333333: Mejor puntuación de la generación: 4\n",
      "Generación  758: Puntuación media 4.24: Mejor puntuación de la generación: 4\n",
      "Generación  759: Puntuación media 4.256666666666667: Mejor puntuación de la generación: 4\n",
      "Generación  760: Puntuación media 4.283333333333333: Mejor puntuación de la generación: 4\n",
      "Generación  761: Puntuación media 4.243333333333333: Mejor puntuación de la generación: 4\n",
      "Generación  762: Puntuación media 4.233333333333333: Mejor puntuación de la generación: 4\n",
      "Generación  763: Puntuación media 4.19: Mejor puntuación de la generación: 4\n",
      "Generación  764: Puntuación media 4.203333333333333: Mejor puntuación de la generación: 4\n",
      "Generación  765: Puntuación media 4.1866666666666665: Mejor puntuación de la generación: 4\n"
     ]
    },
    {
     "name": "stdout",
     "output_type": "stream",
     "text": [
      "Generación  766: Puntuación media 4.173333333333333: Mejor puntuación de la generación: 4\n",
      "Generación  767: Puntuación media 4.166666666666667: Mejor puntuación de la generación: 4\n",
      "Generación  768: Puntuación media 4.266666666666667: Mejor puntuación de la generación: 4\n",
      "Generación  769: Puntuación media 4.2: Mejor puntuación de la generación: 4\n",
      "Generación  770: Puntuación media 4.266666666666667: Mejor puntuación de la generación: 4\n",
      "Generación  771: Puntuación media 4.203333333333333: Mejor puntuación de la generación: 4\n",
      "Generación  772: Puntuación media 4.226666666666667: Mejor puntuación de la generación: 4\n",
      "Generación  773: Puntuación media 4.183333333333334: Mejor puntuación de la generación: 4\n",
      "Generación  774: Puntuación media 4.18: Mejor puntuación de la generación: 4\n",
      "Generación  775: Puntuación media 4.183333333333334: Mejor puntuación de la generación: 4\n",
      "Generación  776: Puntuación media 4.226666666666667: Mejor puntuación de la generación: 4\n",
      "Generación  777: Puntuación media 4.25: Mejor puntuación de la generación: 4\n",
      "Generación  778: Puntuación media 4.236666666666666: Mejor puntuación de la generación: 4\n",
      "Generación  779: Puntuación media 4.316666666666666: Mejor puntuación de la generación: 4\n",
      "Generación  780: Puntuación media 4.256666666666667: Mejor puntuación de la generación: 4\n",
      "Generación  781: Puntuación media 4.27: Mejor puntuación de la generación: 4\n",
      "Generación  782: Puntuación media 4.216666666666667: Mejor puntuación de la generación: 4\n",
      "Generación  783: Puntuación media 4.183333333333334: Mejor puntuación de la generación: 4\n",
      "Generación  784: Puntuación media 4.273333333333333: Mejor puntuación de la generación: 4\n",
      "Generación  785: Puntuación media 4.266666666666667: Mejor puntuación de la generación: 4\n",
      "Generación  786: Puntuación media 4.303333333333334: Mejor puntuación de la generación: 4\n",
      "Generación  787: Puntuación media 4.276666666666666: Mejor puntuación de la generación: 4\n",
      "Generación  788: Puntuación media 4.19: Mejor puntuación de la generación: 4\n",
      "Generación  789: Puntuación media 4.29: Mejor puntuación de la generación: 4\n",
      "Generación  790: Puntuación media 4.253333333333333: Mejor puntuación de la generación: 4\n",
      "Generación  791: Puntuación media 4.29: Mejor puntuación de la generación: 4\n",
      "Generación  792: Puntuación media 4.276666666666666: Mejor puntuación de la generación: 4\n",
      "Generación  793: Puntuación media 4.216666666666667: Mejor puntuación de la generación: 4\n",
      "Generación  794: Puntuación media 4.286666666666667: Mejor puntuación de la generación: 4\n",
      "Generación  795: Puntuación media 4.246666666666667: Mejor puntuación de la generación: 4\n",
      "Generación  796: Puntuación media 4.28: Mejor puntuación de la generación: 4\n",
      "Generación  797: Puntuación media 4.27: Mejor puntuación de la generación: 4\n",
      "Generación  798: Puntuación media 4.263333333333334: Mejor puntuación de la generación: 4\n",
      "Generación  799: Puntuación media 4.246666666666667: Mejor puntuación de la generación: 4\n",
      "Generación  800: Puntuación media 4.18: Mejor puntuación de la generación: 4\n",
      "Generación  801: Puntuación media 4.28: Mejor puntuación de la generación: 4\n",
      "Generación  802: Puntuación media 4.3133333333333335: Mejor puntuación de la generación: 4\n",
      "Generación  803: Puntuación media 4.243333333333333: Mejor puntuación de la generación: 4\n",
      "Generación  804: Puntuación media 4.316666666666666: Mejor puntuación de la generación: 4\n",
      "Generación  805: Puntuación media 4.196666666666666: Mejor puntuación de la generación: 4\n",
      "Generación  806: Puntuación media 4.263333333333334: Mejor puntuación de la generación: 4\n",
      "Generación  807: Puntuación media 4.236666666666666: Mejor puntuación de la generación: 4\n",
      "Generación  808: Puntuación media 4.19: Mejor puntuación de la generación: 4\n",
      "Generación  809: Puntuación media 4.26: Mejor puntuación de la generación: 4\n",
      "Generación  810: Puntuación media 4.22: Mejor puntuación de la generación: 4\n",
      "Generación  811: Puntuación media 4.22: Mejor puntuación de la generación: 4\n",
      "Generación  812: Puntuación media 4.18: Mejor puntuación de la generación: 4\n",
      "Generación  813: Puntuación media 4.21: Mejor puntuación de la generación: 4\n",
      "Generación  814: Puntuación media 4.166666666666667: Mejor puntuación de la generación: 4\n",
      "Generación  815: Puntuación media 4.293333333333333: Mejor puntuación de la generación: 4\n",
      "Generación  816: Puntuación media 4.3133333333333335: Mejor puntuación de la generación: 4\n",
      "Generación  817: Puntuación media 4.1866666666666665: Mejor puntuación de la generación: 4\n",
      "Generación  818: Puntuación media 4.296666666666667: Mejor puntuación de la generación: 4\n",
      "Generación  819: Puntuación media 4.28: Mejor puntuación de la generación: 4\n",
      "Generación  820: Puntuación media 4.243333333333333: Mejor puntuación de la generación: 4\n",
      "Generación  821: Puntuación media 4.253333333333333: Mejor puntuación de la generación: 4\n",
      "Generación  822: Puntuación media 4.266666666666667: Mejor puntuación de la generación: 4\n",
      "Generación  823: Puntuación media 4.1866666666666665: Mejor puntuación de la generación: 4\n",
      "Generación  824: Puntuación media 4.196666666666666: Mejor puntuación de la generación: 4\n",
      "Generación  825: Puntuación media 4.1866666666666665: Mejor puntuación de la generación: 4\n",
      "Generación  826: Puntuación media 4.193333333333333: Mejor puntuación de la generación: 4\n",
      "Generación  827: Puntuación media 4.213333333333333: Mejor puntuación de la generación: 4\n",
      "Generación  828: Puntuación media 4.283333333333333: Mejor puntuación de la generación: 4\n",
      "Generación  829: Puntuación media 4.293333333333333: Mejor puntuación de la generación: 4\n",
      "Generación  830: Puntuación media 4.196666666666666: Mejor puntuación de la generación: 4\n",
      "Generación  831: Puntuación media 4.253333333333333: Mejor puntuación de la generación: 4\n",
      "Generación  832: Puntuación media 4.226666666666667: Mejor puntuación de la generación: 4\n",
      "Generación  833: Puntuación media 4.283333333333333: Mejor puntuación de la generación: 4\n",
      "Generación  834: Puntuación media 4.21: Mejor puntuación de la generación: 4\n",
      "Generación  835: Puntuación media 4.296666666666667: Mejor puntuación de la generación: 4\n",
      "Generación  836: Puntuación media 4.22: Mejor puntuación de la generación: 4\n",
      "Generación  837: Puntuación media 4.17: Mejor puntuación de la generación: 4\n",
      "Generación  838: Puntuación media 4.206666666666667: Mejor puntuación de la generación: 4\n",
      "Generación  839: Puntuación media 4.206666666666667: Mejor puntuación de la generación: 4\n",
      "Generación  840: Puntuación media 4.223333333333334: Mejor puntuación de la generación: 4\n",
      "Generación  841: Puntuación media 4.183333333333334: Mejor puntuación de la generación: 4\n",
      "Generación  842: Puntuación media 4.276666666666666: Mejor puntuación de la generación: 4\n",
      "Generación  843: Puntuación media 4.236666666666666: Mejor puntuación de la generación: 4\n",
      "Generación  844: Puntuación media 4.26: Mejor puntuación de la generación: 4\n",
      "Generación  845: Puntuación media 4.263333333333334: Mejor puntuación de la generación: 4\n",
      "Generación  846: Puntuación media 4.283333333333333: Mejor puntuación de la generación: 4\n",
      "Generación  847: Puntuación media 4.183333333333334: Mejor puntuación de la generación: 4\n",
      "Generación  848: Puntuación media 4.1866666666666665: Mejor puntuación de la generación: 4\n",
      "Generación  849: Puntuación media 4.196666666666666: Mejor puntuación de la generación: 4\n",
      "Generación  850: Puntuación media 4.263333333333334: Mejor puntuación de la generación: 4\n",
      "Generación  851: Puntuación media 4.206666666666667: Mejor puntuación de la generación: 4\n",
      "Generación  852: Puntuación media 4.173333333333333: Mejor puntuación de la generación: 4\n",
      "Generación  853: Puntuación media 4.223333333333334: Mejor puntuación de la generación: 4\n",
      "Generación  854: Puntuación media 4.213333333333333: Mejor puntuación de la generación: 4\n",
      "Generación  855: Puntuación media 4.166666666666667: Mejor puntuación de la generación: 4\n",
      "Generación  856: Puntuación media 4.2: Mejor puntuación de la generación: 4\n",
      "Generación  857: Puntuación media 4.1866666666666665: Mejor puntuación de la generación: 4\n",
      "Generación  858: Puntuación media 4.153333333333333: Mejor puntuación de la generación: 4\n",
      "Generación  859: Puntuación media 4.223333333333334: Mejor puntuación de la generación: 4\n",
      "Generación  860: Puntuación media 4.27: Mejor puntuación de la generación: 4\n"
     ]
    },
    {
     "name": "stdout",
     "output_type": "stream",
     "text": [
      "Generación  861: Puntuación media 4.173333333333333: Mejor puntuación de la generación: 4\n",
      "Generación  862: Puntuación media 4.243333333333333: Mejor puntuación de la generación: 4\n",
      "Generación  863: Puntuación media 4.226666666666667: Mejor puntuación de la generación: 4\n",
      "Generación  864: Puntuación media 4.1433333333333335: Mejor puntuación de la generación: 4\n",
      "Generación  865: Puntuación media 4.196666666666666: Mejor puntuación de la generación: 4\n",
      "Generación  866: Puntuación media 4.22: Mejor puntuación de la generación: 4\n",
      "Generación  867: Puntuación media 4.24: Mejor puntuación de la generación: 4\n",
      "Generación  868: Puntuación media 4.246666666666667: Mejor puntuación de la generación: 4\n",
      "Generación  869: Puntuación media 4.25: Mejor puntuación de la generación: 4\n",
      "Generación  870: Puntuación media 4.31: Mejor puntuación de la generación: 4\n",
      "Generación  871: Puntuación media 4.236666666666666: Mejor puntuación de la generación: 4\n",
      "Generación  872: Puntuación media 4.223333333333334: Mejor puntuación de la generación: 4\n",
      "Generación  873: Puntuación media 4.23: Mejor puntuación de la generación: 4\n",
      "Generación  874: Puntuación media 4.233333333333333: Mejor puntuación de la generación: 4\n",
      "Generación  875: Puntuación media 4.253333333333333: Mejor puntuación de la generación: 4\n",
      "Generación  876: Puntuación media 4.196666666666666: Mejor puntuación de la generación: 4\n",
      "Generación  877: Puntuación media 4.253333333333333: Mejor puntuación de la generación: 4\n",
      "Generación  878: Puntuación media 4.236666666666666: Mejor puntuación de la generación: 4\n",
      "Generación  879: Puntuación media 4.276666666666666: Mejor puntuación de la generación: 4\n",
      "Generación  880: Puntuación media 4.236666666666666: Mejor puntuación de la generación: 4\n",
      "Generación  881: Puntuación media 4.206666666666667: Mejor puntuación de la generación: 4\n",
      "Generación  882: Puntuación media 4.22: Mejor puntuación de la generación: 4\n",
      "Generación  883: Puntuación media 4.21: Mejor puntuación de la generación: 4\n",
      "Generación  884: Puntuación media 4.183333333333334: Mejor puntuación de la generación: 4\n",
      "Generación  885: Puntuación media 4.216666666666667: Mejor puntuación de la generación: 4\n",
      "Generación  886: Puntuación media 4.263333333333334: Mejor puntuación de la generación: 4\n",
      "Generación  887: Puntuación media 4.19: Mejor puntuación de la generación: 4\n",
      "Generación  888: Puntuación media 4.243333333333333: Mejor puntuación de la generación: 4\n",
      "Generación  889: Puntuación media 4.26: Mejor puntuación de la generación: 4\n",
      "Generación  890: Puntuación media 4.236666666666666: Mejor puntuación de la generación: 4\n",
      "Generación  891: Puntuación media 4.32: Mejor puntuación de la generación: 4\n",
      "Generación  892: Puntuación media 4.3: Mejor puntuación de la generación: 4\n",
      "Generación  893: Puntuación media 4.19: Mejor puntuación de la generación: 4\n",
      "Generación  894: Puntuación media 4.24: Mejor puntuación de la generación: 4\n",
      "Generación  895: Puntuación media 4.13: Mejor puntuación de la generación: 4\n",
      "Generación  896: Puntuación media 4.29: Mejor puntuación de la generación: 4\n",
      "Generación  897: Puntuación media 4.213333333333333: Mejor puntuación de la generación: 4\n",
      "Generación  898: Puntuación media 4.216666666666667: Mejor puntuación de la generación: 4\n",
      "Generación  899: Puntuación media 4.213333333333333: Mejor puntuación de la generación: 4\n",
      "Generación  900: Puntuación media 4.25: Mejor puntuación de la generación: 4\n",
      "Generación  901: Puntuación media 4.236666666666666: Mejor puntuación de la generación: 4\n",
      "Generación  902: Puntuación media 4.263333333333334: Mejor puntuación de la generación: 4\n",
      "Generación  903: Puntuación media 4.246666666666667: Mejor puntuación de la generación: 4\n",
      "Generación  904: Puntuación media 4.23: Mejor puntuación de la generación: 4\n",
      "Generación  905: Puntuación media 4.1866666666666665: Mejor puntuación de la generación: 4\n",
      "Generación  906: Puntuación media 4.223333333333334: Mejor puntuación de la generación: 4\n",
      "Generación  907: Puntuación media 4.253333333333333: Mejor puntuación de la generación: 4\n",
      "Generación  908: Puntuación media 4.28: Mejor puntuación de la generación: 4\n",
      "Generación  909: Puntuación media 4.196666666666666: Mejor puntuación de la generación: 4\n",
      "Generación  910: Puntuación media 4.203333333333333: Mejor puntuación de la generación: 4\n",
      "Generación  911: Puntuación media 4.233333333333333: Mejor puntuación de la generación: 4\n",
      "Generación  912: Puntuación media 4.246666666666667: Mejor puntuación de la generación: 4\n",
      "Generación  913: Puntuación media 4.246666666666667: Mejor puntuación de la generación: 4\n",
      "Generación  914: Puntuación media 4.26: Mejor puntuación de la generación: 4\n",
      "Generación  915: Puntuación media 4.226666666666667: Mejor puntuación de la generación: 4\n",
      "Generación  916: Puntuación media 4.21: Mejor puntuación de la generación: 4\n",
      "Generación  917: Puntuación media 4.216666666666667: Mejor puntuación de la generación: 4\n",
      "Generación  918: Puntuación media 4.216666666666667: Mejor puntuación de la generación: 4\n",
      "Generación  919: Puntuación media 4.29: Mejor puntuación de la generación: 4\n",
      "Generación  920: Puntuación media 4.166666666666667: Mejor puntuación de la generación: 4\n",
      "Generación  921: Puntuación media 4.153333333333333: Mejor puntuación de la generación: 4\n",
      "Generación  922: Puntuación media 4.233333333333333: Mejor puntuación de la generación: 4\n",
      "Generación  923: Puntuación media 4.28: Mejor puntuación de la generación: 4\n",
      "Generación  924: Puntuación media 4.203333333333333: Mejor puntuación de la generación: 4\n",
      "Generación  925: Puntuación media 4.21: Mejor puntuación de la generación: 4\n",
      "Generación  926: Puntuación media 4.236666666666666: Mejor puntuación de la generación: 4\n",
      "Generación  927: Puntuación media 4.24: Mejor puntuación de la generación: 4\n",
      "Generación  928: Puntuación media 4.176666666666667: Mejor puntuación de la generación: 4\n",
      "Generación  929: Puntuación media 4.226666666666667: Mejor puntuación de la generación: 4\n",
      "Generación  930: Puntuación media 4.263333333333334: Mejor puntuación de la generación: 4\n",
      "Generación  931: Puntuación media 4.243333333333333: Mejor puntuación de la generación: 4\n",
      "Generación  932: Puntuación media 4.246666666666667: Mejor puntuación de la generación: 4\n",
      "Generación  933: Puntuación media 4.206666666666667: Mejor puntuación de la generación: 4\n",
      "Generación  934: Puntuación media 4.23: Mejor puntuación de la generación: 4\n",
      "Generación  935: Puntuación media 4.286666666666667: Mejor puntuación de la generación: 4\n",
      "Generación  936: Puntuación media 4.22: Mejor puntuación de la generación: 4\n",
      "Generación  937: Puntuación media 4.293333333333333: Mejor puntuación de la generación: 4\n",
      "Generación  938: Puntuación media 4.166666666666667: Mejor puntuación de la generación: 4\n",
      "Generación  939: Puntuación media 4.246666666666667: Mejor puntuación de la generación: 4\n",
      "Generación  940: Puntuación media 4.21: Mejor puntuación de la generación: 4\n",
      "Generación  941: Puntuación media 4.226666666666667: Mejor puntuación de la generación: 4\n",
      "Generación  942: Puntuación media 4.18: Mejor puntuación de la generación: 4\n",
      "Generación  943: Puntuación media 4.23: Mejor puntuación de la generación: 4\n",
      "Generación  944: Puntuación media 4.22: Mejor puntuación de la generación: 4\n",
      "Generación  945: Puntuación media 4.203333333333333: Mejor puntuación de la generación: 4\n",
      "Generación  946: Puntuación media 4.216666666666667: Mejor puntuación de la generación: 4\n",
      "Generación  947: Puntuación media 4.176666666666667: Mejor puntuación de la generación: 4\n",
      "Generación  948: Puntuación media 4.163333333333333: Mejor puntuación de la generación: 4\n",
      "Generación  949: Puntuación media 4.283333333333333: Mejor puntuación de la generación: 4\n",
      "Generación  950: Puntuación media 4.253333333333333: Mejor puntuación de la generación: 4\n",
      "Generación  951: Puntuación media 4.19: Mejor puntuación de la generación: 4\n",
      "Generación  952: Puntuación media 4.266666666666667: Mejor puntuación de la generación: 4\n",
      "Generación  953: Puntuación media 4.203333333333333: Mejor puntuación de la generación: 4\n",
      "Generación  954: Puntuación media 4.22: Mejor puntuación de la generación: 4\n",
      "Generación  955: Puntuación media 4.21: Mejor puntuación de la generación: 4\n",
      "Generación  956: Puntuación media 4.3133333333333335: Mejor puntuación de la generación: 4\n"
     ]
    },
    {
     "name": "stdout",
     "output_type": "stream",
     "text": [
      "Generación  957: Puntuación media 4.213333333333333: Mejor puntuación de la generación: 4\n",
      "Generación  958: Puntuación media 4.226666666666667: Mejor puntuación de la generación: 4\n",
      "Generación  959: Puntuación media 4.24: Mejor puntuación de la generación: 4\n",
      "Generación  960: Puntuación media 4.173333333333333: Mejor puntuación de la generación: 4\n",
      "Generación  961: Puntuación media 4.166666666666667: Mejor puntuación de la generación: 4\n",
      "Generación  962: Puntuación media 4.22: Mejor puntuación de la generación: 4\n",
      "Generación  963: Puntuación media 4.326666666666667: Mejor puntuación de la generación: 4\n",
      "Generación  964: Puntuación media 4.24: Mejor puntuación de la generación: 4\n",
      "Generación  965: Puntuación media 4.273333333333333: Mejor puntuación de la generación: 4\n",
      "Generación  966: Puntuación media 4.283333333333333: Mejor puntuación de la generación: 4\n",
      "Generación  967: Puntuación media 4.256666666666667: Mejor puntuación de la generación: 4\n",
      "Generación  968: Puntuación media 4.233333333333333: Mejor puntuación de la generación: 4\n",
      "Generación  969: Puntuación media 4.203333333333333: Mejor puntuación de la generación: 4\n",
      "Generación  970: Puntuación media 4.1866666666666665: Mejor puntuación de la generación: 4\n",
      "Generación  971: Puntuación media 4.233333333333333: Mejor puntuación de la generación: 4\n",
      "Generación  972: Puntuación media 4.203333333333333: Mejor puntuación de la generación: 4\n",
      "Generación  973: Puntuación media 4.166666666666667: Mejor puntuación de la generación: 4\n",
      "Generación  974: Puntuación media 4.293333333333333: Mejor puntuación de la generación: 4\n",
      "Generación  975: Puntuación media 4.156666666666666: Mejor puntuación de la generación: 4\n",
      "Generación  976: Puntuación media 4.21: Mejor puntuación de la generación: 4\n",
      "Generación  977: Puntuación media 4.21: Mejor puntuación de la generación: 4\n",
      "Generación  978: Puntuación media 4.336666666666667: Mejor puntuación de la generación: 4\n",
      "Generación  979: Puntuación media 4.273333333333333: Mejor puntuación de la generación: 4\n",
      "Generación  980: Puntuación media 4.216666666666667: Mejor puntuación de la generación: 4\n",
      "Generación  981: Puntuación media 4.3: Mejor puntuación de la generación: 4\n",
      "Generación  982: Puntuación media 4.31: Mejor puntuación de la generación: 4\n",
      "Generación  983: Puntuación media 4.3: Mejor puntuación de la generación: 4\n",
      "Generación  984: Puntuación media 4.156666666666666: Mejor puntuación de la generación: 4\n",
      "Generación  985: Puntuación media 4.216666666666667: Mejor puntuación de la generación: 4\n",
      "Generación  986: Puntuación media 4.22: Mejor puntuación de la generación: 4\n",
      "Generación  987: Puntuación media 4.256666666666667: Mejor puntuación de la generación: 4\n",
      "Generación  988: Puntuación media 4.223333333333334: Mejor puntuación de la generación: 4\n",
      "Generación  989: Puntuación media 4.25: Mejor puntuación de la generación: 4\n",
      "Generación  990: Puntuación media 4.23: Mejor puntuación de la generación: 4\n",
      "Generación  991: Puntuación media 4.3: Mejor puntuación de la generación: 4\n",
      "Generación  992: Puntuación media 4.196666666666666: Mejor puntuación de la generación: 4\n",
      "Generación  993: Puntuación media 4.2: Mejor puntuación de la generación: 4\n",
      "Generación  994: Puntuación media 4.206666666666667: Mejor puntuación de la generación: 4\n",
      "Generación  995: Puntuación media 4.276666666666666: Mejor puntuación de la generación: 4\n",
      "Generación  996: Puntuación media 4.166666666666667: Mejor puntuación de la generación: 4\n",
      "Generación  997: Puntuación media 4.23: Mejor puntuación de la generación: 4\n",
      "Generación  998: Puntuación media 4.25: Mejor puntuación de la generación: 4\n",
      "Generación  999: Puntuación media 4.303333333333334: Mejor puntuación de la generación: 4\n",
      "Generación 1000: Puntuación media 4.29: Mejor puntuación de la generación: 4\n",
      "Success: 0/1\n",
      "Fitness medio de la mejor solucióna: 4.0\n"
     ]
    }
   ],
   "source": [
    "#Vamos con un ejemplo más complejo\n",
    "test_nanograma(\n",
    "    iteraciones=1,\n",
    "    reglas = [[1], [2], [1,2], [1,1,2,2], [2,4], [1,2,1], [1,2]] + [[3],[2],[3,2],[2,4],[1,2,1],[2,2],[1]],\n",
    "    tam_nanograma = 7,\n",
    "    n_individuos = 300,\n",
    "    k = 3, # Parámetro de la selección por torneo\n",
    "    ngen = 1000,\n",
    "    prob_cruces = 0.7,\n",
    "    prob_mutar = 0.1\n",
    ")"
   ]
  },
  {
   "cell_type": "markdown",
   "metadata": {
    "datalore": {
     "hide_input_from_viewers": true,
     "hide_output_from_viewers": true,
     "node_id": "Wl4xEJKL7DvYpltDcIKUiW",
     "type": "MD"
    }
   },
   "source": [
    "El problema anterior es mucho más complejo, vemos como al principio aprende rápido pero pronto se queda estancada. Este fenómeno lo hemos estudiado en clase, pues el aprendizaje de este tipo de algoritmos comienza siendo muy rápido pero a medida que aumentan las generaciones tiende a estancarse."
   ]
  }
 ],
 "metadata": {
  "datalore": {
   "base_environment": "default",
   "computation_mode": "JUPYTER",
   "package_manager": "pip",
   "packages": [],
   "version": 1
  },
  "kernelspec": {
   "display_name": "Python 3 (ipykernel)",
   "language": "python",
   "name": "python3"
  },
  "language_info": {
   "codemirror_mode": {
    "name": "ipython",
    "version": 3
   },
   "file_extension": ".py",
   "mimetype": "text/x-python",
   "name": "python",
   "nbconvert_exporter": "python",
   "pygments_lexer": "ipython3",
   "version": "3.9.5"
  }
 },
 "nbformat": 4,
 "nbformat_minor": 4
}
